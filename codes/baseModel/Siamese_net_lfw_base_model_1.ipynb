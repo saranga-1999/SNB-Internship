{
  "nbformat": 4,
  "nbformat_minor": 0,
  "metadata": {
    "colab": {
      "name": "Siamese_net_lfw_base_model_1.ipynb",
      "provenance": [],
      "collapsed_sections": []
    },
    "kernelspec": {
      "name": "python3",
      "display_name": "Python 3"
    },
    "language_info": {
      "name": "python"
    },
    "accelerator": "GPU"
  },
  "cells": [
    {
      "cell_type": "code",
      "metadata": {
        "colab": {
          "base_uri": "https://localhost:8080/"
        },
        "id": "vlkQ--zkOiUP",
        "outputId": "4a83870a-1af8-4dd3-836b-a185549b189b"
      },
      "source": [
        "from google.colab import drive\n",
        "drive.mount('/content/gdrive')"
      ],
      "execution_count": null,
      "outputs": [
        {
          "output_type": "stream",
          "text": [
            "Mounted at /content/gdrive\n"
          ],
          "name": "stdout"
        }
      ]
    },
    {
      "cell_type": "code",
      "metadata": {
        "id": "gArU4hhDOr2w"
      },
      "source": [
        "!unzip gdrive/My\\ Drive/Datasets/LWF_DATASET/lfw.zip"
      ],
      "execution_count": null,
      "outputs": []
    },
    {
      "cell_type": "code",
      "metadata": {
        "id": "x9ZY1WWGPCgM"
      },
      "source": [
        "import torch\n",
        "import os\n",
        "import cv2\n",
        "import random\n",
        "import matplotlib.pyplot as plt\n",
        "import numpy as np\n",
        "import torch.nn as nn\n",
        "from torch.utils.data import Dataset, DataLoader\n",
        "import torchvision.transforms as transforms\n",
        "import torch.autograd as Variable\n",
        "import torch.optim as optim"
      ],
      "execution_count": null,
      "outputs": []
    },
    {
      "cell_type": "code",
      "metadata": {
        "id": "9qO7yfi_OuUk"
      },
      "source": [
        "path_lfw_folder='./gdrive/MyDrive/Datasets/LWF_DATASET'"
      ],
      "execution_count": null,
      "outputs": []
    },
    {
      "cell_type": "code",
      "metadata": {
        "id": "QoAX3Ml3OuW7"
      },
      "source": [
        "class LFW(Dataset):\n",
        "  def __init__(self,root_dir,txt_path,transforms1,transforms2):  ######### why two transforms?\n",
        "    self.transform1=transform1\n",
        "    self.transform2=transform2\n",
        "    self.root_dir=root_dir\n",
        "\n",
        "    with open(txt_path) as f:\n",
        "      lines=f.readlines()\n",
        "\n",
        "      self.pair_imgs_label=[ line.split() for line in lines]\n",
        "\n",
        "  def __len__(self):\n",
        "    return len(self.pair_imgs_label)\n",
        "\n",
        "  def __getitem__(self,idx):\n",
        "    img1_path=os.path.join(self.root_dir,self.pair_imgs_label[idx][0])\n",
        "    img2_path=os.path.join(self.root_dir,self.pair_imgs_label[idx][1])\n",
        "    label= float(self.pair_imgs_label[idx][2])\n",
        "    \n",
        "    img1=cv2.imread(img1_path)\n",
        "    img1=img1.astype(np.float)/255                                   # why these transformations?\n",
        "    img1=cv2.resize(img1,(128,128),interpolation=cv2.INTER_AREA)\n",
        "    img1=self.transform1(img1)\n",
        "    \n",
        "    img2=cv2.imread(img2_path)\n",
        "    img2=img2.astype(np.float)/255\n",
        "    img2=cv2.resize(img2,(128,128),interpolation=cv2.INTER_AREA)\n",
        "    img2=self.transform1(img2)\n",
        "    \n",
        "    return img1,img2,torch.from_numpy(np.array([label], dtype=np.float32))"
      ],
      "execution_count": null,
      "outputs": []
    },
    {
      "cell_type": "code",
      "metadata": {
        "id": "aNMy3tsoOubb"
      },
      "source": [
        "class Rescale(object):                                          ###################################\n",
        "    def __call__(self, img):\n",
        "        if random.random()<0.7:\n",
        "            f = round(0.1*random.randint(7, 13),2)\n",
        "            if f>1:\n",
        "                img = cv2.resize(img,None,fx=f, fy=f, interpolation = cv2.INTER_CUBIC)\n",
        "                a = int(round((f*128-128)/2))\n",
        "                img = img[a:a+128,a:a+128]\n",
        "            else:\n",
        "                img = cv2.resize(img,None,fx=f, fy=f, interpolation = cv2.INTER_AREA)\n",
        "                a= int(round((128-f*128)/2))\n",
        "                temp=np.zeros([128,128,3],dtype=np.uint8)\n",
        "                temp.fill(0) \n",
        "                for i in range(img.shape[0]):\n",
        "                    for j in range(img.shape[1]):\n",
        "                        temp[i+a,j+a]=img[i,j]\n",
        "                img=temp\n",
        "        return img\n",
        "\n",
        "class Flip(object):\n",
        "    def __call__(self,img):\n",
        "        if random.random()<0.7:\n",
        "            return cv2.flip(img,1)\n",
        "        return img\n",
        "        \n",
        "class Rotate(object):\n",
        "    def __call__(self,img):\n",
        "        if random.random()<0.7:\n",
        "            angle=random.random()*60-30\n",
        "            rows,cols,cn = img.shape\n",
        "            M = cv2.getRotationMatrix2D((cols/2,rows/2),angle,1)\n",
        "            img = cv2.warpAffine(img,M,(cols,rows))\n",
        "            return img\n",
        "        return img\n",
        "\n",
        "class Translate(object):\n",
        "    def __call__(self,img):\n",
        "        if random.random()<0.7:\n",
        "            x=random.random()*20-10\n",
        "            y=random.random()*20-10\n",
        "            rows,cols,cn = img.shape\n",
        "            M= np.float32([[1,0,x],[0,1,y]])\n",
        "            img = cv2.warpAffine(img,M,(cols,rows))\n",
        "        return img"
      ],
      "execution_count": null,
      "outputs": []
    },
    {
      "cell_type": "code",
      "metadata": {
        "id": "dkCaQ98xOud2"
      },
      "source": [
        "class Net(nn.Module):\n",
        "  def __init__(self):\n",
        "    super(Net,self).__init__()\n",
        "    \n",
        "    self.conv1 = nn.Sequential(\n",
        "        # input = 3*128*128\n",
        "        nn.Conv2d(3,24,5,1,2),\n",
        "        # output= 24*128*128\n",
        "        nn.ReLU(),\n",
        "        nn.BatchNorm2d(24),\n",
        "        # input = 24*128*128\n",
        "        nn.MaxPool2d(3,2),\n",
        "        # output = 24*63*63\n",
        "        )\n",
        "    self.conv2 = nn.Sequential(\n",
        "        # input = 24*63*63\n",
        "        nn.Conv2d(24,48,5,1,2),\n",
        "        # output = 48*63*63\n",
        "        nn.ReLU(),\n",
        "        nn.BatchNorm2d(48),\n",
        "        # input = 48*63*63\n",
        "        nn.MaxPool2d(3,2),\n",
        "        # output= 48*31*31\n",
        "        )\n",
        "    self.conv3 = nn.Sequential(\n",
        "        # input = 48*31*31\n",
        "        nn.Conv2d(48,128,3,2),\n",
        "        # output= 128*15*15\n",
        "        nn.ReLU(),\n",
        "        nn.BatchNorm2d(128),\n",
        "        )\n",
        "    self.conv4 =nn.Sequential(\n",
        "        # input = 128*15*15\n",
        "        nn.Conv2d(128,192,3,1),\n",
        "        # input = 192*13*13\n",
        "        nn.ReLU(),\n",
        "        nn.BatchNorm2d(192),\n",
        "        )\n",
        "    self.conv5 =nn.Sequential(\n",
        "        # input = 192*13*13\n",
        "        nn.Conv2d(192,128,3,1),\n",
        "        # input = 128*11*11\n",
        "        nn.ReLU(),\n",
        "        nn.BatchNorm2d(128),\n",
        "        )\n",
        "    # self.fc1_sim = nn.Sequential(\n",
        "    #     nn.Linear(128*11*11,4096),\n",
        "    #     nn.Sigmoid(),\n",
        "    #     )   \n",
        "    # self.fc2_sim = nn.Sequential(\n",
        "    #     nn.Linear(4096,1),\n",
        "    #     )\n",
        "    self.fc1= nn.Sequential(\n",
        "        nn.Linear(128*11*11,1024),\n",
        "        nn.ReLU(),\n",
        "        nn.BatchNorm1d(1024),\n",
        "    )\n",
        "    self.fc2= nn.Sequential(\n",
        "        nn.Linear(2048,1),\n",
        "        nn.Sigmoid(),\n",
        "    )\n",
        "\n",
        "  def convs(self,x):\n",
        "    x=self.conv1(x)\n",
        "    x=self.conv2(x)\n",
        "    x=self.conv3(x)\n",
        "    x=self.conv4(x)\n",
        "    x=self.conv5(x)\n",
        "    x=x.view(-1,128*11*11)\n",
        "    x=self.fc1(x)\n",
        "    return x\n",
        "\n",
        "  def forward(self,x1,x2):\n",
        "    x1= self.convs(x1)\n",
        "    x2= self.convs(x2)\n",
        "\n",
        "    x=torch.cat((x1,x2),1)\n",
        "    x=self.fc2(x)\n",
        "\n",
        "    # For distance function method\n",
        "    # x=torch.abs(x1-x2)\n",
        "    # x= self.fc2(x)\n",
        "\n",
        "    return x"
      ],
      "execution_count": null,
      "outputs": []
    },
    {
      "cell_type": "code",
      "metadata": {
        "id": "X_jakR17OugO"
      },
      "source": [
        "def train(model,train_loader,num_epochs,criterion,save_name):\n",
        "  train_losses=[]\n",
        "  for epoch in range(num_epochs):\n",
        "    running_loss=0.0\n",
        "    print(\"Starting epoch \" + str(epoch+1))\n",
        "    model.train()\n",
        "    for i,data in enumerate(train_loader,0):\n",
        "      imgs1,imgs2,labels=data\n",
        "      \n",
        "      imgs1=imgs1.to(device=device, dtype=torch.float)\n",
        "      imgs2=imgs2.to(device=device, dtype=torch.float)\n",
        "      labels=labels.to(device=device, dtype=torch.float)\n",
        "\n",
        "      optimizer.zero_grad()\n",
        "      outputs=model(imgs1,imgs2)\n",
        "      loss=criterion(outputs,labels)\n",
        "      loss.backward()\n",
        "      optimizer.step()\n",
        "\n",
        "      running_loss+=loss.item()\n",
        "    avg_train_loss = running_loss / len(train_loader)\n",
        "    train_losses.append(avg_train_loss)\n",
        "    print('Epoch [{}/{}],Train Loss: {:.4f}'.format(epoch+1, num_epochs, avg_train_loss))\n",
        "  print(\"Training completed.\")\n",
        "  \n",
        "  torch.save(model.state_dict(),save_name)\n",
        "  \n",
        "  fig = plt.figure()\n",
        "  ax = plt.subplot(111)\n",
        "  ax.plot(train_losses)    \n",
        "  plt.xlabel('Steps')  \n",
        "  plt.ylabel('Loss')  \n",
        "  fig.savefig(os.path.join(path_lfw_folder,'Loss_Steps.png')) \n",
        "\n",
        "  return train_losses\n"
      ],
      "execution_count": null,
      "outputs": []
    },
    {
      "cell_type": "code",
      "metadata": {
        "id": "mX3A3bvnOuir"
      },
      "source": [
        "def count_parameters(model):\n",
        "    temp = sum(p.numel() for p in model.parameters() if p.requires_grad)\n",
        "    print(f'The model architecture:\\n\\n', model)\n",
        "    print(f'\\nThe model has {temp:,} trainable parameters')"
      ],
      "execution_count": null,
      "outputs": []
    },
    {
      "cell_type": "code",
      "metadata": {
        "id": "ApPk3m1wOuk3"
      },
      "source": [
        "transform1 = transforms.Compose([Rescale(),Flip(),Translate(),Rotate(),transforms.ToTensor(),\n",
        "                                 transforms.Normalize((0.5, 0.5, 0.5), (0.5, 0.5, 0.5))]) \n",
        "transform2 = transforms.Compose([Rescale(),Flip(),Translate(),Rotate(),transforms.ToTensor(),\n",
        "                                 transforms.Normalize((0.5, 0.5, 0.5), (0.5, 0.5, 0.5))])   \n",
        "             \n",
        "train_set = LFW('./lfw/lfw',os.path.join(path_lfw_folder,'lfw_train_pairs.txt'),transform1,transform2)                                 ###############\n",
        "train_loader = DataLoader(train_set, batch_size=128, shuffle=True, num_workers=2)"
      ],
      "execution_count": null,
      "outputs": []
    },
    {
      "cell_type": "code",
      "metadata": {
        "colab": {
          "base_uri": "https://localhost:8080/"
        },
        "id": "_rT2-GpdOune",
        "outputId": "7d739801-c5df-4b44-c358-b9e7d3bdab8a"
      },
      "source": [
        "if torch.cuda.is_available():\n",
        "  device='cuda:0'\n",
        "  print('Running on gpu')\n",
        "else:\n",
        "  device='cpu'\n",
        "  print('Running on cpu')\n",
        "\n",
        "# device = torch.device('cuda:0' if torch.cuda.is_available() else 'cpu')\n",
        "\n",
        "lr = 0.0006\n",
        "num_epoches = 50\n",
        "siameseBaseModel=Net()\n",
        "siameseBaseModel.to(device)\n",
        "\n",
        "optimizer = optim.Adam(siameseBaseModel.parameters(), lr)\n",
        "criterion = nn.BCELoss() \n",
        "save_path=os.path.join(path_lfw_folder,'siameseBaseModel.pt')\n",
        "\n",
        "count_parameters(siameseBaseModel)"
      ],
      "execution_count": null,
      "outputs": [
        {
          "output_type": "stream",
          "text": [
            "Running on gpu\n",
            "The model architecture:\n",
            "\n",
            " Net(\n",
            "  (conv1): Sequential(\n",
            "    (0): Conv2d(3, 24, kernel_size=(5, 5), stride=(1, 1), padding=(2, 2))\n",
            "    (1): ReLU()\n",
            "    (2): BatchNorm2d(24, eps=1e-05, momentum=0.1, affine=True, track_running_stats=True)\n",
            "    (3): MaxPool2d(kernel_size=3, stride=2, padding=0, dilation=1, ceil_mode=False)\n",
            "  )\n",
            "  (conv2): Sequential(\n",
            "    (0): Conv2d(24, 48, kernel_size=(5, 5), stride=(1, 1), padding=(2, 2))\n",
            "    (1): ReLU()\n",
            "    (2): BatchNorm2d(48, eps=1e-05, momentum=0.1, affine=True, track_running_stats=True)\n",
            "    (3): MaxPool2d(kernel_size=3, stride=2, padding=0, dilation=1, ceil_mode=False)\n",
            "  )\n",
            "  (conv3): Sequential(\n",
            "    (0): Conv2d(48, 128, kernel_size=(3, 3), stride=(2, 2))\n",
            "    (1): ReLU()\n",
            "    (2): BatchNorm2d(128, eps=1e-05, momentum=0.1, affine=True, track_running_stats=True)\n",
            "  )\n",
            "  (conv4): Sequential(\n",
            "    (0): Conv2d(128, 192, kernel_size=(3, 3), stride=(1, 1))\n",
            "    (1): ReLU()\n",
            "    (2): BatchNorm2d(192, eps=1e-05, momentum=0.1, affine=True, track_running_stats=True)\n",
            "  )\n",
            "  (conv5): Sequential(\n",
            "    (0): Conv2d(192, 128, kernel_size=(3, 3), stride=(1, 1))\n",
            "    (1): ReLU()\n",
            "    (2): BatchNorm2d(128, eps=1e-05, momentum=0.1, affine=True, track_running_stats=True)\n",
            "  )\n",
            "  (fc1): Sequential(\n",
            "    (0): Linear(in_features=15488, out_features=1024, bias=True)\n",
            "    (1): ReLU()\n",
            "    (2): BatchNorm1d(1024, eps=1e-05, momentum=0.1, affine=True, track_running_stats=True)\n",
            "  )\n",
            "  (fc2): Sequential(\n",
            "    (0): Linear(in_features=2048, out_features=1, bias=True)\n",
            "    (1): Sigmoid()\n",
            "  )\n",
            ")\n",
            "\n",
            "The model has 16,394,657 trainable parameters\n"
          ],
          "name": "stdout"
        }
      ]
    },
    {
      "cell_type": "code",
      "metadata": {
        "colab": {
          "base_uri": "https://localhost:8080/",
          "height": 1000
        },
        "id": "EGCUCTW9Oup7",
        "outputId": "1a063185-d8e4-491d-9fa9-8c5703fa28bf"
      },
      "source": [
        "train_loss_his=train(siameseBaseModel,train_loader,num_epoches,criterion,save_path)"
      ],
      "execution_count": 22,
      "outputs": [
        {
          "output_type": "stream",
          "text": [
            "Starting epoch 1\n",
            "Epoch [1/50],Train Loss: 0.9931\n",
            "Starting epoch 2\n",
            "Epoch [2/50],Train Loss: 0.7058\n",
            "Starting epoch 3\n",
            "Epoch [3/50],Train Loss: 0.6962\n",
            "Starting epoch 4\n",
            "Epoch [4/50],Train Loss: 0.7091\n",
            "Starting epoch 5\n",
            "Epoch [5/50],Train Loss: 0.6931\n",
            "Starting epoch 6\n",
            "Epoch [6/50],Train Loss: 0.6908\n",
            "Starting epoch 7\n",
            "Epoch [7/50],Train Loss: 0.6932\n",
            "Starting epoch 8\n",
            "Epoch [8/50],Train Loss: 0.7094\n",
            "Starting epoch 9\n",
            "Epoch [9/50],Train Loss: 0.6903\n",
            "Starting epoch 10\n",
            "Epoch [10/50],Train Loss: 0.6876\n",
            "Starting epoch 11\n",
            "Epoch [11/50],Train Loss: 0.6866\n",
            "Starting epoch 12\n",
            "Epoch [12/50],Train Loss: 0.6862\n",
            "Starting epoch 13\n",
            "Epoch [13/50],Train Loss: 0.6740\n",
            "Starting epoch 14\n",
            "Epoch [14/50],Train Loss: 0.7007\n",
            "Starting epoch 15\n",
            "Epoch [15/50],Train Loss: 0.6837\n",
            "Starting epoch 16\n",
            "Epoch [16/50],Train Loss: 0.6857\n",
            "Starting epoch 17\n",
            "Epoch [17/50],Train Loss: 0.6747\n",
            "Starting epoch 18\n",
            "Epoch [18/50],Train Loss: 0.6864\n",
            "Starting epoch 19\n",
            "Epoch [19/50],Train Loss: 0.6725\n",
            "Starting epoch 20\n",
            "Epoch [20/50],Train Loss: 0.6748\n",
            "Starting epoch 21\n",
            "Epoch [21/50],Train Loss: 0.6805\n",
            "Starting epoch 22\n",
            "Epoch [22/50],Train Loss: 0.6913\n",
            "Starting epoch 23\n",
            "Epoch [23/50],Train Loss: 0.6837\n",
            "Starting epoch 24\n",
            "Epoch [24/50],Train Loss: 0.7023\n",
            "Starting epoch 25\n",
            "Epoch [25/50],Train Loss: 0.6765\n",
            "Starting epoch 26\n",
            "Epoch [26/50],Train Loss: 0.6656\n",
            "Starting epoch 27\n",
            "Epoch [27/50],Train Loss: 0.6642\n",
            "Starting epoch 28\n",
            "Epoch [28/50],Train Loss: 0.6636\n",
            "Starting epoch 29\n",
            "Epoch [29/50],Train Loss: 0.6731\n",
            "Starting epoch 30\n",
            "Epoch [30/50],Train Loss: 0.6583\n",
            "Starting epoch 31\n",
            "Epoch [31/50],Train Loss: 0.6685\n",
            "Starting epoch 32\n",
            "Epoch [32/50],Train Loss: 0.6586\n",
            "Starting epoch 33\n",
            "Epoch [33/50],Train Loss: 0.6610\n",
            "Starting epoch 34\n",
            "Epoch [34/50],Train Loss: 0.6493\n",
            "Starting epoch 35\n",
            "Epoch [35/50],Train Loss: 0.6545\n",
            "Starting epoch 36\n",
            "Epoch [36/50],Train Loss: 0.6557\n",
            "Starting epoch 37\n",
            "Epoch [37/50],Train Loss: 0.6534\n",
            "Starting epoch 38\n",
            "Epoch [38/50],Train Loss: 0.6568\n",
            "Starting epoch 39\n",
            "Epoch [39/50],Train Loss: 0.6573\n",
            "Starting epoch 40\n",
            "Epoch [40/50],Train Loss: 0.6417\n",
            "Starting epoch 41\n",
            "Epoch [41/50],Train Loss: 0.6590\n",
            "Starting epoch 42\n",
            "Epoch [42/50],Train Loss: 0.6455\n",
            "Starting epoch 43\n",
            "Epoch [43/50],Train Loss: 0.6422\n",
            "Starting epoch 44\n",
            "Epoch [44/50],Train Loss: 0.6184\n",
            "Starting epoch 45\n",
            "Epoch [45/50],Train Loss: 0.6484\n",
            "Starting epoch 46\n",
            "Epoch [46/50],Train Loss: 0.6337\n",
            "Starting epoch 47\n",
            "Epoch [47/50],Train Loss: 0.6530\n",
            "Starting epoch 48\n",
            "Epoch [48/50],Train Loss: 0.6415\n",
            "Starting epoch 49\n",
            "Epoch [49/50],Train Loss: 0.6159\n",
            "Starting epoch 50\n",
            "Epoch [50/50],Train Loss: 0.6267\n",
            "Training completed.\n"
          ],
          "name": "stdout"
        },
        {
          "output_type": "display_data",
          "data": {
            "image/png": "[encoded data removed]",
            "text/plain": [
              "<Figure size 432x288 with 1 Axes>"
            ]
          },
          "metadata": {
            "tags": [],
            "needs_background": "light"
          }
        }
      ]
    },
    {
      "cell_type": "code",
      "metadata": {
        "id": "Q8AFaCB_OusO"
      },
      "source": [
        ""
      ],
      "execution_count": null,
      "outputs": []
    },
    {
      "cell_type": "code",
      "metadata": {
        "id": "Tf6Rv6aSOuu7"
      },
      "source": [
        ""
      ],
      "execution_count": null,
      "outputs": []
    },
    {
      "cell_type": "code",
      "metadata": {
        "id": "5vxVrxQhOuxT"
      },
      "source": [
        ""
      ],
      "execution_count": null,
      "outputs": []
    }
  ]
}