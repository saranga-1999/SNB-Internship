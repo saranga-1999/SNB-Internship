{
 "cells": [
  {
   "cell_type": "code",
   "execution_count": 5,
   "metadata": {
    "colab": {
     "base_uri": "https://localhost:8080/"
    },
    "id": "fvLG_o2o5NiZ",
    "outputId": "c2c10b70-3168-42d4-cb20-711c59cb5bae"
   },
   "outputs": [
    {
     "name": "stdout",
     "output_type": "stream",
     "text": [
      "Mounted at /content/gdrive\n"
     ]
    }
   ],
   "source": [
    "from google.colab import drive\n",
    "drive.mount('/content/gdrive')"
   ]
  },
  {
   "cell_type": "code",
   "execution_count": null,
   "metadata": {
    "id": "FeLdJ81b5WeT"
   },
   "outputs": [],
   "source": [
    "!unzip gdrive/My\\ Drive/Datasets/LWF_DATASET/lfw.zip"
   ]
  },
  {
   "cell_type": "code",
   "execution_count": 1,
   "metadata": {
    "id": "pWWGx9n95YLy"
   },
   "outputs": [],
   "source": [
    "import torch\n",
    "import os\n",
    "import cv2\n",
    "import random\n",
    "import torchvision\n",
    "import matplotlib.pyplot as plt\n",
    "import numpy as np\n",
    "import torch.nn as nn\n",
    "from torch.utils.data import Dataset, DataLoader,random_split\n",
    "import torchvision.transforms as transforms\n",
    "import torch.optim as optim"
   ]
  },
  {
   "cell_type": "code",
   "execution_count": 2,
   "metadata": {
    "id": "n_-6soZm5b0D"
   },
   "outputs": [],
   "source": [
    "path_lfw_folder='./gdrive/MyDrive/Datasets/LWF_DATASET'"
   ]
  },
  {
   "cell_type": "code",
   "execution_count": 3,
   "metadata": {
    "id": "s5OFlsXr5dly"
   },
   "outputs": [],
   "source": [
    "def count_parameters(model):\n",
    "    temp = sum(p.numel() for p in model.parameters() if p.requires_grad)\n",
    "    print(f'The model architecture:\\n\\n', model)\n",
    "    print(f'\\nThe model has {temp:,} trainable parameters')\n",
    "\n",
    "def save_checkpoint(save_path, model, optimizer, val_acc):\n",
    "    if save_path==None:\n",
    "        return\n",
    "    save_path = save_path \n",
    "    state_dict = {'model_state_dict': model.state_dict(),                    \n",
    "                  'optimizer_state_dict': optimizer.state_dict(),\n",
    "                  'val_accuracy': val_acc}\n",
    "\n",
    "    torch.save(state_dict, save_path)\n",
    "\n",
    "    print(f'Model saved to ==> {save_path}')\n",
    "\n",
    "def load_checkpoint(model, optimizer,save_path):\n",
    "    # save_path = f'siameseNet-batchnorm50.pt'\n",
    "    state_dict = torch.load(save_path)\n",
    "    model.load_state_dict(state_dict['model_state_dict'])\n",
    "    optimizer.load_state_dict(state_dict['optimizer_state_dict'])\n",
    "    val_acc = state_dict['val_accuracy']\n",
    "    print(f'Model loaded from <== {save_path}')\n",
    "    \n",
    "    return val_acc"
   ]
  },
  {
   "cell_type": "code",
   "execution_count": 4,
   "metadata": {
    "id": "9EYNnyce6Ziy"
   },
   "outputs": [],
   "source": [
    "# have to investigate the splitting of train/val/test data"
   ]
  },
  {
   "cell_type": "code",
   "execution_count": 5,
   "metadata": {
    "id": "VJePqQno5foS"
   },
   "outputs": [],
   "source": [
    "class LFW(Dataset):\n",
    "  def __init__(self,root_dir,txt_path,transform):                 #######  transform aagor khini e use kribo loga hol,,,,, sabo lagibo\n",
    "    self.transform=transform\n",
    "    self.root_dir=root_dir\n",
    "\n",
    "    with open(txt_path) as f:\n",
    "      lines=f.readlines()\n",
    "\n",
    "      self.pair_imgs_label=[ line.split() for line in lines]\n",
    "\n",
    "  def __len__(self):\n",
    "    return len(self.pair_imgs_label)\n",
    "\n",
    "  def __getitem__(self,idx):\n",
    "    img1_path=os.path.join(self.root_dir,self.pair_imgs_label[idx][0])\n",
    "    img2_path=os.path.join(self.root_dir,self.pair_imgs_label[idx][1])\n",
    "    label= float(self.pair_imgs_label[idx][2])\n",
    "    \n",
    "    img1=cv2.imread(img1_path)\n",
    "    img1=img1.astype(np.float)/255                                   ########  aigal aagor khini e use kribo loga hol,,,,, sabo lagibo\n",
    "    img1=cv2.resize(img1,(224,224),interpolation=cv2.INTER_AREA)\n",
    "    img1=self.transform(img1)\n",
    "    \n",
    "    img2=cv2.imread(img2_path)\n",
    "    img2=img2.astype(np.float)/255\n",
    "    img2=cv2.resize(img2,(224,224),interpolation=cv2.INTER_AREA)\n",
    "    img2=self.transform(img2)\n",
    "    \n",
    "    return img1,img2,torch.from_numpy(np.array([label], dtype=np.float32))"
   ]
  },
  {
   "cell_type": "code",
   "execution_count": 6,
   "metadata": {
    "id": "xH5hBIzS98Cj"
   },
   "outputs": [],
   "source": [
    "class Rescale(object):                                          ################################### #######  aigal aagor khini e use kribo loga hol,,,,, sabo lagibo\n",
    "    def __call__(self, img):\n",
    "        if random.random()<0.7:\n",
    "            f = round(0.1*random.randint(7, 13),2)\n",
    "            if f>1:\n",
    "                img = cv2.resize(img,None,fx=f, fy=f, interpolation = cv2.INTER_CUBIC)\n",
    "                a = int(round((f*128-128)/2))\n",
    "                img = img[a:a+128,a:a+128]\n",
    "            else:\n",
    "                img = cv2.resize(img,None,fx=f, fy=f, interpolation = cv2.INTER_AREA)\n",
    "                a= int(round((128-f*128)/2))\n",
    "                temp=np.zeros([128,128,3],dtype=np.uint8)\n",
    "                temp.fill(0) \n",
    "                for i in range(img.shape[0]):\n",
    "                    for j in range(img.shape[1]):\n",
    "                        temp[i+a,j+a]=img[i,j]\n",
    "                img=temp\n",
    "        return img\n",
    "\n",
    "class Flip(object):\n",
    "    def __call__(self,img):\n",
    "        if random.random()<0.7:\n",
    "            return cv2.flip(img,1)\n",
    "        return img\n",
    "        \n",
    "class Rotate(object):\n",
    "    def __call__(self,img):\n",
    "        if random.random()<0.7:\n",
    "            angle=random.random()*60-30\n",
    "            rows,cols,cn = img.shape\n",
    "            M = cv2.getRotationMatrix2D((cols/2,rows/2),angle,1)\n",
    "            img = cv2.warpAffine(img,M,(cols,rows))\n",
    "            return img\n",
    "        return img\n",
    "\n",
    "class Translate(object):\n",
    "    def __call__(self,img):\n",
    "        if random.random()<0.7:\n",
    "            x=random.random()*20-10\n",
    "            y=random.random()*20-10\n",
    "            rows,cols,cn = img.shape\n",
    "            M= np.float32([[1,0,x],[0,1,y]])\n",
    "            img = cv2.warpAffine(img,M,(cols,rows))\n",
    "        return img"
   ]
  },
  {
   "cell_type": "code",
   "execution_count": 7,
   "metadata": {
    "id": "WAgOBUR0EpCv"
   },
   "outputs": [],
   "source": [
    "# model = torchvision.models.resnet18(pretrained=True)\n",
    "# newmodel = torch.nn.Sequential(*(list(model.children())[:-1]))\n",
    "# print(newmodel)"
   ]
  },
  {
   "cell_type": "code",
   "execution_count": 8,
   "metadata": {
    "id": "nUq2J59uGSEc"
   },
   "outputs": [],
   "source": [
    "# print(model)"
   ]
  },
  {
   "cell_type": "code",
   "execution_count": 9,
   "metadata": {
    "id": "vxVI7f5r9-WR"
   },
   "outputs": [],
   "source": [
    "class Net(nn.Module):\n",
    "  def __init__(self):\n",
    "    super(Net,self).__init__()\n",
    "\n",
    "    # model_conv=torchvision.models.resnet18(pretrained=True)\n",
    "    model_conv=torchvision.models.resnet50(pretrained=True)\n",
    "    for param in model_conv.parameters():\n",
    "      param.requires_grad=False\n",
    "    self.num_ftrs=model_conv.fc.in_features\n",
    "\n",
    "    self.res_net_conv=torch.nn.Sequential(*(list(model_conv.children())[:-1]))\n",
    "\n",
    "    self.fc=nn.Linear(self.num_ftrs*2,1)\n",
    "\n",
    "    self.sig_out=nn.Sigmoid()\n",
    "\n",
    "\n",
    "  def forward(self,x1,x2):\n",
    "    x1= self.res_net_conv(x1)\n",
    "    x2= self.res_net_conv(x2)\n",
    "\n",
    "    x1=x1.view(-1,self.num_ftrs)\n",
    "    x2=x2.view(-1,self.num_ftrs)\n",
    "\n",
    "    x=torch.cat((x1,x2),1)\n",
    "    x=self.fc(x)      ########## have to add a sigmoid layer\n",
    "    x=self.sig_out(x)\n",
    "    # For distance function method\n",
    "    # x=torch.abs(x1-x2)\n",
    "    # x= self.fc2(x)\n",
    "\n",
    "    return x"
   ]
  },
  {
   "cell_type": "code",
   "execution_count": 9,
   "metadata": {
    "id": "lizXKwN3KN6c"
   },
   "outputs": [],
   "source": []
  },
  {
   "cell_type": "code",
   "execution_count": 10,
   "metadata": {
    "id": "_VfatgPT-CWC"
   },
   "outputs": [],
   "source": [
    "def train(model,train_loader,val_loader,num_epochs,criterion,save_name):\n",
    "  train_losses=[]\n",
    "  val_losses=[]\n",
    "  mx_val_accuracy=-1\n",
    "  for epoch in range(num_epochs):\n",
    "    running_loss=0.0\n",
    "    print(\"Starting epoch \" + str(epoch+1))\n",
    "    model.train()\n",
    "    total_no_imgs=0\n",
    "    for imgs1,imgs2,labels in train_loader:\n",
    "      imgs1=imgs1.to(device=device, dtype=torch.float)\n",
    "      imgs2=imgs2.to(device=device, dtype=torch.float)\n",
    "      labels=labels.to(device=device, dtype=torch.float)\n",
    "\n",
    "      optimizer.zero_grad()\n",
    "      outputs=model(imgs1,imgs2)\n",
    "      loss=criterion(outputs,labels)\n",
    "      loss.backward()\n",
    "      optimizer.step()\n",
    "      total_no_imgs+= imgs1.size(0)\n",
    "      running_loss+=loss.item()* imgs1.size(0)\n",
    "\n",
    "    avg_train_loss = float(running_loss) /total_no_imgs \n",
    "    # avg_train_loss = running_loss / len(train_loader)\n",
    "    train_losses.append(avg_train_loss)\n",
    "\n",
    "    val_running_loss=0.0                                                            ########################### \n",
    "    correct=0\n",
    "    total_no_imgs=0\n",
    "    with torch.no_grad():\n",
    "      model.eval()\n",
    "      for i,data in enumerate(val_loader,0):\n",
    "        imgsV1,imgsV2,labelsV= data\n",
    "        \n",
    "        imgsV1=imgsV1.to(device=device, dtype=torch.float)\n",
    "        imgsV2=imgsV2.to(device=device, dtype=torch.float)\n",
    "        labelsV=labelsV.to(device=device, dtype=torch.float)\n",
    "\n",
    "        outputs=model(imgsV1,imgsV2)\n",
    "        loss=criterion(outputs,labelsV)\n",
    "\n",
    "        # val accuracy calc\n",
    "        outputs=outputs.to(device=device, dtype=torch.float)\n",
    "        \n",
    "        for j,op in enumerate(outputs,0):\n",
    "          total_no_imgs+=1\n",
    "          if(op[0]<0.5):\n",
    "            #0 predicted\n",
    "            if labelsV[j]==0:           ###########\n",
    "              correct+=1\n",
    "          else:\n",
    "            # 1 predicted\n",
    "            if labelsV[j]==1:\n",
    "              correct+=1\n",
    "        val_running_loss+=loss.item()*imgsV1.size(0)\n",
    "    # val_accuracy= correct/len(val_loader)\n",
    "    # avg_val_loss= val_running_loss/len(val_loader)\n",
    "    \n",
    "    val_accuracy= float(correct)/total_no_imgs\n",
    "    avg_val_loss= float(val_running_loss)/total_no_imgs\n",
    "    val_losses.append(avg_val_loss)\n",
    "    \n",
    "    ## val acc\n",
    "    if mx_val_accuracy<val_accuracy:\n",
    "      mx_val_accuracy=val_accuracy\n",
    "      save_checkpoint(save_name, model, optimizer, mx_val_accuracy)\n",
    "\n",
    "    print('Epoch [{}/{}],Train Loss: {:.4f}, Valid Loss: {:.8f}'.format(epoch+1, num_epochs, avg_train_loss, avg_val_loss))\n",
    "  \n",
    "  print(\"Training completed.\")\n",
    "  \n",
    "  fig = plt.figure()\n",
    "  ax = plt.subplot(111)\n",
    "  ax.plot(train_losses)\n",
    "  ax.plot(val_losses)     ###############3\n",
    "  plt.xlabel('Steps')  \n",
    "  plt.ylabel('Loss')  \n",
    "  fig.savefig(os.path.join(path_lfw_folder,'Loss_Steps.png')) \n",
    "\n",
    "  return train_losses,val_losses,mx_val_accuracy\n"
   ]
  },
  {
   "cell_type": "code",
   "execution_count": 11,
   "metadata": {
    "id": "c6klpUdP-Jtq"
   },
   "outputs": [],
   "source": [
    "transform = transforms.Compose([transforms.ToTensor(),\n",
    "                                 transforms.Normalize((0.5, 0.5, 0.5), (0.5, 0.5, 0.5))]) #Rescale(),Flip(),Translate(),Rotate(),\n",
    "\n",
    "# train_dataSize = 2200 # self-defined dataset size for training                                                              \n",
    "# TRAIN_PCT = 0.8 # percentage of entire dataset for training\n",
    "# train_size = int(train_dataSize * TRAIN_PCT)\n",
    "# val_size = train_dataSize - train_size   \n",
    "path_lfw_folder='./gdrive/MyDrive/Datasets/LWF_DATASET' \n",
    "path_to_img_dir= './lfw/lfw'\n",
    "\n",
    "train_txt_path = os.path.join(path_lfw_folder,'Final_lfw_train_pairs.txt')\n",
    "valid_txt_path = os.path.join(path_lfw_folder,'Final_lfw_valid_pairs.txt')\n",
    "test_txt_path  = os.path.join(path_lfw_folder,'Final_lfw_test_pairs.txt')                                                                     \n",
    "\n",
    "train_set = LFW('./lfw/lfw',train_txt_path,transform)                                \n",
    "val_set = LFW('./lfw/lfw',valid_txt_path,transform)\n",
    "\n",
    "# train_set, val_set = random_split(lfw_dataset, [train_size, val_size])\n",
    "\n",
    "train_loader = DataLoader(train_set, batch_size=4 , shuffle=True, num_workers=0)    ################## batch size\n",
    "val_loader   = DataLoader(val_set, batch_size=1, shuffle=True, num_workers=0)"
   ]
  },
  {
   "cell_type": "code",
   "execution_count": 12,
   "metadata": {
    "colab": {
     "base_uri": "https://localhost:8080/"
    },
    "id": "i9feNANS-Lxu",
    "outputId": "bdcc2eff-3dbb-44ae-9a0f-284c53e7e6ef"
   },
   "outputs": [
    {
     "name": "stdout",
     "output_type": "stream",
     "text": [
      "Running on gpu\n",
      "The model architecture:\n",
      "\n",
      " Net(\n",
      "  (res_net_conv): Sequential(\n",
      "    (0): Conv2d(3, 64, kernel_size=(7, 7), stride=(2, 2), padding=(3, 3), bias=False)\n",
      "    (1): BatchNorm2d(64, eps=1e-05, momentum=0.1, affine=True, track_running_stats=True)\n",
      "    (2): ReLU(inplace=True)\n",
      "    (3): MaxPool2d(kernel_size=3, stride=2, padding=1, dilation=1, ceil_mode=False)\n",
      "    (4): Sequential(\n",
      "      (0): Bottleneck(\n",
      "        (conv1): Conv2d(64, 64, kernel_size=(1, 1), stride=(1, 1), bias=False)\n",
      "        (bn1): BatchNorm2d(64, eps=1e-05, momentum=0.1, affine=True, track_running_stats=True)\n",
      "        (conv2): Conv2d(64, 64, kernel_size=(3, 3), stride=(1, 1), padding=(1, 1), bias=False)\n",
      "        (bn2): BatchNorm2d(64, eps=1e-05, momentum=0.1, affine=True, track_running_stats=True)\n",
      "        (conv3): Conv2d(64, 256, kernel_size=(1, 1), stride=(1, 1), bias=False)\n",
      "        (bn3): BatchNorm2d(256, eps=1e-05, momentum=0.1, affine=True, track_running_stats=True)\n",
      "        (relu): ReLU(inplace=True)\n",
      "        (downsample): Sequential(\n",
      "          (0): Conv2d(64, 256, kernel_size=(1, 1), stride=(1, 1), bias=False)\n",
      "          (1): BatchNorm2d(256, eps=1e-05, momentum=0.1, affine=True, track_running_stats=True)\n",
      "        )\n",
      "      )\n",
      "      (1): Bottleneck(\n",
      "        (conv1): Conv2d(256, 64, kernel_size=(1, 1), stride=(1, 1), bias=False)\n",
      "        (bn1): BatchNorm2d(64, eps=1e-05, momentum=0.1, affine=True, track_running_stats=True)\n",
      "        (conv2): Conv2d(64, 64, kernel_size=(3, 3), stride=(1, 1), padding=(1, 1), bias=False)\n",
      "        (bn2): BatchNorm2d(64, eps=1e-05, momentum=0.1, affine=True, track_running_stats=True)\n",
      "        (conv3): Conv2d(64, 256, kernel_size=(1, 1), stride=(1, 1), bias=False)\n",
      "        (bn3): BatchNorm2d(256, eps=1e-05, momentum=0.1, affine=True, track_running_stats=True)\n",
      "        (relu): ReLU(inplace=True)\n",
      "      )\n",
      "      (2): Bottleneck(\n",
      "        (conv1): Conv2d(256, 64, kernel_size=(1, 1), stride=(1, 1), bias=False)\n",
      "        (bn1): BatchNorm2d(64, eps=1e-05, momentum=0.1, affine=True, track_running_stats=True)\n",
      "        (conv2): Conv2d(64, 64, kernel_size=(3, 3), stride=(1, 1), padding=(1, 1), bias=False)\n",
      "        (bn2): BatchNorm2d(64, eps=1e-05, momentum=0.1, affine=True, track_running_stats=True)\n",
      "        (conv3): Conv2d(64, 256, kernel_size=(1, 1), stride=(1, 1), bias=False)\n",
      "        (bn3): BatchNorm2d(256, eps=1e-05, momentum=0.1, affine=True, track_running_stats=True)\n",
      "        (relu): ReLU(inplace=True)\n",
      "      )\n",
      "    )\n",
      "    (5): Sequential(\n",
      "      (0): Bottleneck(\n",
      "        (conv1): Conv2d(256, 128, kernel_size=(1, 1), stride=(1, 1), bias=False)\n",
      "        (bn1): BatchNorm2d(128, eps=1e-05, momentum=0.1, affine=True, track_running_stats=True)\n",
      "        (conv2): Conv2d(128, 128, kernel_size=(3, 3), stride=(2, 2), padding=(1, 1), bias=False)\n",
      "        (bn2): BatchNorm2d(128, eps=1e-05, momentum=0.1, affine=True, track_running_stats=True)\n",
      "        (conv3): Conv2d(128, 512, kernel_size=(1, 1), stride=(1, 1), bias=False)\n",
      "        (bn3): BatchNorm2d(512, eps=1e-05, momentum=0.1, affine=True, track_running_stats=True)\n",
      "        (relu): ReLU(inplace=True)\n",
      "        (downsample): Sequential(\n",
      "          (0): Conv2d(256, 512, kernel_size=(1, 1), stride=(2, 2), bias=False)\n",
      "          (1): BatchNorm2d(512, eps=1e-05, momentum=0.1, affine=True, track_running_stats=True)\n",
      "        )\n",
      "      )\n",
      "      (1): Bottleneck(\n",
      "        (conv1): Conv2d(512, 128, kernel_size=(1, 1), stride=(1, 1), bias=False)\n",
      "        (bn1): BatchNorm2d(128, eps=1e-05, momentum=0.1, affine=True, track_running_stats=True)\n",
      "        (conv2): Conv2d(128, 128, kernel_size=(3, 3), stride=(1, 1), padding=(1, 1), bias=False)\n",
      "        (bn2): BatchNorm2d(128, eps=1e-05, momentum=0.1, affine=True, track_running_stats=True)\n",
      "        (conv3): Conv2d(128, 512, kernel_size=(1, 1), stride=(1, 1), bias=False)\n",
      "        (bn3): BatchNorm2d(512, eps=1e-05, momentum=0.1, affine=True, track_running_stats=True)\n",
      "        (relu): ReLU(inplace=True)\n",
      "      )\n",
      "      (2): Bottleneck(\n",
      "        (conv1): Conv2d(512, 128, kernel_size=(1, 1), stride=(1, 1), bias=False)\n",
      "        (bn1): BatchNorm2d(128, eps=1e-05, momentum=0.1, affine=True, track_running_stats=True)\n",
      "        (conv2): Conv2d(128, 128, kernel_size=(3, 3), stride=(1, 1), padding=(1, 1), bias=False)\n",
      "        (bn2): BatchNorm2d(128, eps=1e-05, momentum=0.1, affine=True, track_running_stats=True)\n",
      "        (conv3): Conv2d(128, 512, kernel_size=(1, 1), stride=(1, 1), bias=False)\n",
      "        (bn3): BatchNorm2d(512, eps=1e-05, momentum=0.1, affine=True, track_running_stats=True)\n",
      "        (relu): ReLU(inplace=True)\n",
      "      )\n",
      "      (3): Bottleneck(\n",
      "        (conv1): Conv2d(512, 128, kernel_size=(1, 1), stride=(1, 1), bias=False)\n",
      "        (bn1): BatchNorm2d(128, eps=1e-05, momentum=0.1, affine=True, track_running_stats=True)\n",
      "        (conv2): Conv2d(128, 128, kernel_size=(3, 3), stride=(1, 1), padding=(1, 1), bias=False)\n",
      "        (bn2): BatchNorm2d(128, eps=1e-05, momentum=0.1, affine=True, track_running_stats=True)\n",
      "        (conv3): Conv2d(128, 512, kernel_size=(1, 1), stride=(1, 1), bias=False)\n",
      "        (bn3): BatchNorm2d(512, eps=1e-05, momentum=0.1, affine=True, track_running_stats=True)\n",
      "        (relu): ReLU(inplace=True)\n",
      "      )\n",
      "    )\n",
      "    (6): Sequential(\n",
      "      (0): Bottleneck(\n",
      "        (conv1): Conv2d(512, 256, kernel_size=(1, 1), stride=(1, 1), bias=False)\n",
      "        (bn1): BatchNorm2d(256, eps=1e-05, momentum=0.1, affine=True, track_running_stats=True)\n",
      "        (conv2): Conv2d(256, 256, kernel_size=(3, 3), stride=(2, 2), padding=(1, 1), bias=False)\n",
      "        (bn2): BatchNorm2d(256, eps=1e-05, momentum=0.1, affine=True, track_running_stats=True)\n",
      "        (conv3): Conv2d(256, 1024, kernel_size=(1, 1), stride=(1, 1), bias=False)\n",
      "        (bn3): BatchNorm2d(1024, eps=1e-05, momentum=0.1, affine=True, track_running_stats=True)\n",
      "        (relu): ReLU(inplace=True)\n",
      "        (downsample): Sequential(\n",
      "          (0): Conv2d(512, 1024, kernel_size=(1, 1), stride=(2, 2), bias=False)\n",
      "          (1): BatchNorm2d(1024, eps=1e-05, momentum=0.1, affine=True, track_running_stats=True)\n",
      "        )\n",
      "      )\n",
      "      (1): Bottleneck(\n",
      "        (conv1): Conv2d(1024, 256, kernel_size=(1, 1), stride=(1, 1), bias=False)\n",
      "        (bn1): BatchNorm2d(256, eps=1e-05, momentum=0.1, affine=True, track_running_stats=True)\n",
      "        (conv2): Conv2d(256, 256, kernel_size=(3, 3), stride=(1, 1), padding=(1, 1), bias=False)\n",
      "        (bn2): BatchNorm2d(256, eps=1e-05, momentum=0.1, affine=True, track_running_stats=True)\n",
      "        (conv3): Conv2d(256, 1024, kernel_size=(1, 1), stride=(1, 1), bias=False)\n",
      "        (bn3): BatchNorm2d(1024, eps=1e-05, momentum=0.1, affine=True, track_running_stats=True)\n",
      "        (relu): ReLU(inplace=True)\n",
      "      )\n",
      "      (2): Bottleneck(\n",
      "        (conv1): Conv2d(1024, 256, kernel_size=(1, 1), stride=(1, 1), bias=False)\n",
      "        (bn1): BatchNorm2d(256, eps=1e-05, momentum=0.1, affine=True, track_running_stats=True)\n",
      "        (conv2): Conv2d(256, 256, kernel_size=(3, 3), stride=(1, 1), padding=(1, 1), bias=False)\n",
      "        (bn2): BatchNorm2d(256, eps=1e-05, momentum=0.1, affine=True, track_running_stats=True)\n",
      "        (conv3): Conv2d(256, 1024, kernel_size=(1, 1), stride=(1, 1), bias=False)\n",
      "        (bn3): BatchNorm2d(1024, eps=1e-05, momentum=0.1, affine=True, track_running_stats=True)\n",
      "        (relu): ReLU(inplace=True)\n",
      "      )\n",
      "      (3): Bottleneck(\n",
      "        (conv1): Conv2d(1024, 256, kernel_size=(1, 1), stride=(1, 1), bias=False)\n",
      "        (bn1): BatchNorm2d(256, eps=1e-05, momentum=0.1, affine=True, track_running_stats=True)\n",
      "        (conv2): Conv2d(256, 256, kernel_size=(3, 3), stride=(1, 1), padding=(1, 1), bias=False)\n",
      "        (bn2): BatchNorm2d(256, eps=1e-05, momentum=0.1, affine=True, track_running_stats=True)\n",
      "        (conv3): Conv2d(256, 1024, kernel_size=(1, 1), stride=(1, 1), bias=False)\n",
      "        (bn3): BatchNorm2d(1024, eps=1e-05, momentum=0.1, affine=True, track_running_stats=True)\n",
      "        (relu): ReLU(inplace=True)\n",
      "      )\n",
      "      (4): Bottleneck(\n",
      "        (conv1): Conv2d(1024, 256, kernel_size=(1, 1), stride=(1, 1), bias=False)\n",
      "        (bn1): BatchNorm2d(256, eps=1e-05, momentum=0.1, affine=True, track_running_stats=True)\n",
      "        (conv2): Conv2d(256, 256, kernel_size=(3, 3), stride=(1, 1), padding=(1, 1), bias=False)\n",
      "        (bn2): BatchNorm2d(256, eps=1e-05, momentum=0.1, affine=True, track_running_stats=True)\n",
      "        (conv3): Conv2d(256, 1024, kernel_size=(1, 1), stride=(1, 1), bias=False)\n",
      "        (bn3): BatchNorm2d(1024, eps=1e-05, momentum=0.1, affine=True, track_running_stats=True)\n",
      "        (relu): ReLU(inplace=True)\n",
      "      )\n",
      "      (5): Bottleneck(\n",
      "        (conv1): Conv2d(1024, 256, kernel_size=(1, 1), stride=(1, 1), bias=False)\n",
      "        (bn1): BatchNorm2d(256, eps=1e-05, momentum=0.1, affine=True, track_running_stats=True)\n",
      "        (conv2): Conv2d(256, 256, kernel_size=(3, 3), stride=(1, 1), padding=(1, 1), bias=False)\n",
      "        (bn2): BatchNorm2d(256, eps=1e-05, momentum=0.1, affine=True, track_running_stats=True)\n",
      "        (conv3): Conv2d(256, 1024, kernel_size=(1, 1), stride=(1, 1), bias=False)\n",
      "        (bn3): BatchNorm2d(1024, eps=1e-05, momentum=0.1, affine=True, track_running_stats=True)\n",
      "        (relu): ReLU(inplace=True)\n",
      "      )\n",
      "    )\n",
      "    (7): Sequential(\n",
      "      (0): Bottleneck(\n",
      "        (conv1): Conv2d(1024, 512, kernel_size=(1, 1), stride=(1, 1), bias=False)\n",
      "        (bn1): BatchNorm2d(512, eps=1e-05, momentum=0.1, affine=True, track_running_stats=True)\n",
      "        (conv2): Conv2d(512, 512, kernel_size=(3, 3), stride=(2, 2), padding=(1, 1), bias=False)\n",
      "        (bn2): BatchNorm2d(512, eps=1e-05, momentum=0.1, affine=True, track_running_stats=True)\n",
      "        (conv3): Conv2d(512, 2048, kernel_size=(1, 1), stride=(1, 1), bias=False)\n",
      "        (bn3): BatchNorm2d(2048, eps=1e-05, momentum=0.1, affine=True, track_running_stats=True)\n",
      "        (relu): ReLU(inplace=True)\n",
      "        (downsample): Sequential(\n",
      "          (0): Conv2d(1024, 2048, kernel_size=(1, 1), stride=(2, 2), bias=False)\n",
      "          (1): BatchNorm2d(2048, eps=1e-05, momentum=0.1, affine=True, track_running_stats=True)\n",
      "        )\n",
      "      )\n",
      "      (1): Bottleneck(\n",
      "        (conv1): Conv2d(2048, 512, kernel_size=(1, 1), stride=(1, 1), bias=False)\n",
      "        (bn1): BatchNorm2d(512, eps=1e-05, momentum=0.1, affine=True, track_running_stats=True)\n",
      "        (conv2): Conv2d(512, 512, kernel_size=(3, 3), stride=(1, 1), padding=(1, 1), bias=False)\n",
      "        (bn2): BatchNorm2d(512, eps=1e-05, momentum=0.1, affine=True, track_running_stats=True)\n",
      "        (conv3): Conv2d(512, 2048, kernel_size=(1, 1), stride=(1, 1), bias=False)\n",
      "        (bn3): BatchNorm2d(2048, eps=1e-05, momentum=0.1, affine=True, track_running_stats=True)\n",
      "        (relu): ReLU(inplace=True)\n",
      "      )\n",
      "      (2): Bottleneck(\n",
      "        (conv1): Conv2d(2048, 512, kernel_size=(1, 1), stride=(1, 1), bias=False)\n",
      "        (bn1): BatchNorm2d(512, eps=1e-05, momentum=0.1, affine=True, track_running_stats=True)\n",
      "        (conv2): Conv2d(512, 512, kernel_size=(3, 3), stride=(1, 1), padding=(1, 1), bias=False)\n",
      "        (bn2): BatchNorm2d(512, eps=1e-05, momentum=0.1, affine=True, track_running_stats=True)\n",
      "        (conv3): Conv2d(512, 2048, kernel_size=(1, 1), stride=(1, 1), bias=False)\n",
      "        (bn3): BatchNorm2d(2048, eps=1e-05, momentum=0.1, affine=True, track_running_stats=True)\n",
      "        (relu): ReLU(inplace=True)\n",
      "      )\n",
      "    )\n",
      "    (8): AdaptiveAvgPool2d(output_size=(1, 1))\n",
      "  )\n",
      "  (fc): Linear(in_features=4096, out_features=1, bias=True)\n",
      "  (sig_out): Sigmoid()\n",
      ")\n",
      "\n",
      "The model has 4,097 trainable parameters\n"
     ]
    }
   ],
   "source": [
    "if torch.cuda.is_available():\n",
    "  device='cuda:0'\n",
    "  print('Running on gpu')\n",
    "else:\n",
    "  device='cpu'\n",
    "  print('Running on cpu')\n",
    "\n",
    "# device = torch.device('cuda:0' if torch.cuda.is_available() else 'cpu')\n",
    "\n",
    "lr = 0.001  \n",
    "num_epoches = 25    \n",
    "siameseBaseModel=Net()\n",
    "siameseBaseModel.to(device)\n",
    "\n",
    "optimizer = optim.Adam(siameseBaseModel.fc.parameters(), lr)\n",
    "criterion = nn.BCELoss()        ############## have to change it\n",
    "save_path=os.path.join(path_lfw_folder,'siameseBaseModel.pt')\n",
    "\n",
    "count_parameters(siameseBaseModel)"
   ]
  },
  {
   "cell_type": "code",
   "execution_count": 13,
   "metadata": {
    "colab": {
     "base_uri": "https://localhost:8080/",
     "height": 1000
    },
    "id": "QoT6lnHj-OmG",
    "outputId": "8dcddb21-77a9-47fa-9a13-8c30ac190ffa"
   },
   "outputs": [
    {
     "name": "stdout",
     "output_type": "stream",
     "text": [
      "Starting epoch 1\n",
      "Model saved to ==> ./gdrive/MyDrive/Datasets/LWF_DATASET/siameseBaseModel.pt\n",
      "Epoch [1/25],Train Loss: 0.7802, Valid Loss: 0.83244998\n",
      "Starting epoch 2\n",
      "Model saved to ==> ./gdrive/MyDrive/Datasets/LWF_DATASET/siameseBaseModel.pt\n",
      "Epoch [2/25],Train Loss: 0.7694, Valid Loss: 0.67339524\n",
      "Starting epoch 3\n",
      "Epoch [3/25],Train Loss: 0.7446, Valid Loss: 0.72093835\n",
      "Starting epoch 4\n",
      "Epoch [4/25],Train Loss: 0.7403, Valid Loss: 0.71292018\n",
      "Starting epoch 5\n",
      "Epoch [5/25],Train Loss: 0.7324, Valid Loss: 0.86939872\n",
      "Starting epoch 6\n",
      "Epoch [6/25],Train Loss: 0.7326, Valid Loss: 0.73939501\n",
      "Starting epoch 7\n",
      "Epoch [7/25],Train Loss: 0.7134, Valid Loss: 0.82652732\n",
      "Starting epoch 8\n",
      "Epoch [8/25],Train Loss: 0.7149, Valid Loss: 0.76228126\n",
      "Starting epoch 9\n",
      "Model saved to ==> ./gdrive/MyDrive/Datasets/LWF_DATASET/siameseBaseModel.pt\n",
      "Epoch [9/25],Train Loss: 0.7100, Valid Loss: 0.75556868\n",
      "Starting epoch 10\n",
      "Model saved to ==> ./gdrive/MyDrive/Datasets/LWF_DATASET/siameseBaseModel.pt\n",
      "Epoch [10/25],Train Loss: 0.7443, Valid Loss: 0.77760650\n",
      "Starting epoch 11\n",
      "Epoch [11/25],Train Loss: 0.7008, Valid Loss: 0.79306269\n",
      "Starting epoch 12\n",
      "Epoch [12/25],Train Loss: 0.7378, Valid Loss: 0.75767823\n",
      "Starting epoch 13\n",
      "Epoch [13/25],Train Loss: 0.6867, Valid Loss: 0.73919651\n",
      "Starting epoch 14\n",
      "Epoch [14/25],Train Loss: 0.7440, Valid Loss: 0.91979177\n",
      "Starting epoch 15\n",
      "Epoch [15/25],Train Loss: 0.6839, Valid Loss: 0.91438704\n",
      "Starting epoch 16\n",
      "Epoch [16/25],Train Loss: 0.6814, Valid Loss: 0.81649683\n",
      "Starting epoch 17\n",
      "Model saved to ==> ./gdrive/MyDrive/Datasets/LWF_DATASET/siameseBaseModel.pt\n",
      "Epoch [17/25],Train Loss: 0.6750, Valid Loss: 0.76070595\n",
      "Starting epoch 18\n",
      "Epoch [18/25],Train Loss: 0.6775, Valid Loss: 0.75771031\n",
      "Starting epoch 19\n",
      "Epoch [19/25],Train Loss: 0.6911, Valid Loss: 1.10551792\n",
      "Starting epoch 20\n",
      "Epoch [20/25],Train Loss: 0.6918, Valid Loss: 0.76780290\n",
      "Starting epoch 21\n",
      "Epoch [21/25],Train Loss: 0.6518, Valid Loss: 0.79557652\n",
      "Starting epoch 22\n",
      "Epoch [22/25],Train Loss: 0.7224, Valid Loss: 0.76355707\n",
      "Starting epoch 23\n",
      "Epoch [23/25],Train Loss: 0.6559, Valid Loss: 0.83342480\n",
      "Starting epoch 24\n",
      "Epoch [24/25],Train Loss: 0.6910, Valid Loss: 0.84147133\n",
      "Starting epoch 25\n",
      "Epoch [25/25],Train Loss: 0.6310, Valid Loss: 0.78545938\n",
      "Training completed.\n"
     ]
    },
    {
     "data": {
      "image/png": "[encoded data removed]",
      "text/plain": [
       "<Figure size 432x288 with 1 Axes>"
      ]
     },
     "metadata": {
      "needs_background": "light",
      "tags": []
     },
     "output_type": "display_data"
    }
   ],
   "source": [
    "train_loss_his,val_loss_his,mx_val_accuracy_train=train(siameseBaseModel,train_loader,val_loader,num_epoches,criterion,save_path)"
   ]
  },
  {
   "cell_type": "code",
   "execution_count": 14,
   "metadata": {
    "colab": {
     "base_uri": "https://localhost:8080/",
     "height": 279
    },
    "id": "0_8BLcxP-Qbo",
    "outputId": "acf105c0-dad0-4813-a32e-56fe457415ae"
   },
   "outputs": [
    {
     "data": {
      "image/png": "[encoded data removed]",
      "text/plain": [
       "<Figure size 432x288 with 1 Axes>"
      ]
     },
     "metadata": {
      "needs_background": "light",
      "tags": []
     },
     "output_type": "display_data"
    }
   ],
   "source": [
    "#plotting of training and validation loss                          ########################### \n",
    "plt.xlabel('epoch')\n",
    "plt.ylabel('loss')\n",
    "plt.plot(train_loss_his, label='Train Loss')\n",
    "plt.plot(val_loss_his, label=\"Validation Loss\")\n",
    "plt.legend(bbox_to_anchor=(1.05, 1.0), loc='upper left')\n",
    "plt.show()"
   ]
  },
  {
   "cell_type": "code",
   "execution_count": 17,
   "metadata": {
    "id": "FTouwMJA-Sef"
   },
   "outputs": [],
   "source": [
    "def test(model,test_loader):\n",
    "    with torch.no_grad():\n",
    "      model.eval()\n",
    "      correct=0\n",
    "      cnt=0\n",
    "      print(\"strating testing:\")        \n",
    "      for i,data in enumerate(test_loader,0):\n",
    "        imgs1,imgs2,labels=data\n",
    "        \n",
    "        imgs1=imgs1.to(device=device, dtype=torch.float)\n",
    "        imgs2=imgs2.to(device=device, dtype=torch.float)\n",
    "        labels=labels.to(device=device, dtype=torch.float)\n",
    "\n",
    "        outputs=model(imgs1,imgs2)\n",
    "        # test accuracy calc\n",
    "        outputs=outputs.to(device=device, dtype=torch.float)\n",
    "        for j,op in enumerate(outputs,0):\n",
    "          cnt+=1\n",
    "          if(op[0]<0.5):\n",
    "            #0 predicted\n",
    "            if labels[j]==0:           ###########\n",
    "              correct+=1\n",
    "          else:\n",
    "            # 1 predicted\n",
    "            if labels[j]==1:\n",
    "              correct+=1\n",
    "    test_accuracy= correct/cnt\n",
    "\n",
    "    return test_accuracy\n"
   ]
  },
  {
   "cell_type": "code",
   "execution_count": 18,
   "metadata": {
    "id": "bgPAmrIT-UMY"
   },
   "outputs": [],
   "source": [
    "root_path_to_saved_models='./gdrive/MyDrive/Datasets/LWF_DATASET/'\n",
    "path_to_model_from_saved_model_dir='siameseBaseModel.pt'\n",
    "path_to_chosen_model= os.path.join(root_path_to_saved_models,path_to_model_from_saved_model_dir)\n",
    "# print(path_to_chosen_model )"
   ]
  },
  {
   "cell_type": "code",
   "execution_count": 19,
   "metadata": {
    "colab": {
     "base_uri": "https://localhost:8080/"
    },
    "id": "peecP37V-Vcf",
    "outputId": "7df50ad7-f219-4543-94c5-b91ea841c9d1"
   },
   "outputs": [
    {
     "name": "stdout",
     "output_type": "stream",
     "text": [
      "Model loaded from <== ./gdrive/MyDrive/Datasets/LWF_DATASET/siameseBaseModel.pt\n",
      "strating testing:\n",
      "strating testing:\n",
      "Train accuracy is:  72.40641711229947\n",
      "Max val accuracy during training:  59.3939393939394\n",
      "Test accuracy is:  55.60000000000001\n"
     ]
    }
   ],
   "source": [
    "load_model=Net().to(device)\n",
    "load_optimizer=optim.Adam(load_model.fc.parameters(),lr=0.001)                  #######################################????????/\n",
    "mx_val_acc=load_checkpoint(load_model,load_optimizer,path_to_chosen_model)\n",
    "\n",
    "transform = transform = transforms.Compose([transforms.ToTensor(),\n",
    "                                 transforms.Normalize((0.5, 0.5, 0.5), (0.5, 0.5, 0.5))])\n",
    "\n",
    "\n",
    "test_set= LFW('./lfw/lfw',test_txt_path,transform)\n",
    "test_loader= DataLoader(test_set,batch_size=4,num_workers=2)\n",
    "\n",
    "train_accuracy= test(load_model,train_loader)\n",
    "test_accuracy=test(load_model,test_loader)\n",
    "\n",
    "\n",
    "print(\"Train accuracy is: \",100*train_accuracy)\n",
    "print(\"Max val accuracy during training: \",100*mx_val_acc)\n",
    "print(\"Test accuracy is: \",100*test_accuracy)"
   ]
  },
  {
   "cell_type": "markdown",
   "metadata": {
    "id": "ISoaKho9C80U"
   },
   "source": [
    "# with resnet 18\n",
    "Train accuracy is:  73.01136363636364                                        \n",
    "\n",
    "Max val accuracy during training:  57.49999999999999\n",
    "\n",
    "Test accuracy is:  54.50000000000001\n",
    "\n"
   ]
  }
 ],
 "metadata": {
  "accelerator": "GPU",
  "colab": {
   "collapsed_sections": [],
   "name": "Siamese_net_lfw_transfer_res50_notebook_1.ipynb",
   "provenance": []
  },
  "kernelspec": {
   "display_name": "Python 3",
   "language": "python",
   "name": "python3"
  },
  "language_info": {
   "codemirror_mode": {
    "name": "ipython",
    "version": 3
   },
   "file_extension": ".py",
   "mimetype": "text/x-python",
   "name": "python",
   "nbconvert_exporter": "python",
   "pygments_lexer": "ipython3",
   "version": "3.8.8"
  }
 },
 "nbformat": 4,
 "nbformat_minor": 1
}
