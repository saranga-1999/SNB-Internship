{
 "cells": [
  {
   "cell_type": "code",
   "execution_count": null,
   "metadata": {
    "colab": {
     "base_uri": "https://localhost:8080/"
    },
    "id": "fvLG_o2o5NiZ",
    "outputId": "b3354bf8-449c-4ac0-c4d9-6afa3a3170ac"
   },
   "outputs": [
    {
     "name": "stdout",
     "output_type": "stream",
     "text": [
      "Mounted at /content/gdrive\n"
     ]
    }
   ],
   "source": [
    "from google.colab import drive\n",
    "drive.mount('/content/gdrive')"
   ]
  },
  {
   "cell_type": "code",
   "execution_count": null,
   "metadata": {
    "id": "FeLdJ81b5WeT"
   },
   "outputs": [],
   "source": [
    "!unzip gdrive/My\\ Drive/Datasets/LWF_DATASET/lfw.zip"
   ]
  },
  {
   "cell_type": "code",
   "execution_count": null,
   "metadata": {
    "id": "pWWGx9n95YLy"
   },
   "outputs": [],
   "source": [
    "import torch\n",
    "import os\n",
    "import cv2\n",
    "import random\n",
    "import torchvision\n",
    "import matplotlib.pyplot as plt\n",
    "import numpy as np\n",
    "import torch.nn as nn\n",
    "from torch.utils.data import Dataset, DataLoader,random_split\n",
    "import torchvision.transforms as transforms\n",
    "import torch.optim as optim"
   ]
  },
  {
   "cell_type": "code",
   "execution_count": null,
   "metadata": {
    "id": "n_-6soZm5b0D"
   },
   "outputs": [],
   "source": [
    "path_lfw_folder='./gdrive/MyDrive/Datasets/LWF_DATASET'"
   ]
  },
  {
   "cell_type": "code",
   "execution_count": null,
   "metadata": {
    "id": "s5OFlsXr5dly"
   },
   "outputs": [],
   "source": [
    "def count_parameters(model):\n",
    "    temp = sum(p.numel() for p in model.parameters() if p.requires_grad)\n",
    "    print(f'The model architecture:\\n\\n', model)\n",
    "    print(f'\\nThe model has {temp:,} trainable parameters')\n",
    "\n",
    "def save_checkpoint(save_path, model, optimizer, val_acc):\n",
    "    if save_path==None:\n",
    "        return\n",
    "    save_path = save_path \n",
    "    state_dict = {'model_state_dict': model.state_dict(),                    \n",
    "                  'optimizer_state_dict': optimizer.state_dict(),\n",
    "                  'val_accuracy': val_acc}\n",
    "\n",
    "    torch.save(state_dict, save_path)\n",
    "\n",
    "    print(f'Model saved to ==> {save_path}')\n",
    "\n",
    "def load_checkpoint(model, optimizer,save_path):\n",
    "    # save_path = f'siameseNet-batchnorm50.pt'\n",
    "    state_dict = torch.load(save_path)\n",
    "    model.load_state_dict(state_dict['model_state_dict'])\n",
    "    optimizer.load_state_dict(state_dict['optimizer_state_dict'])\n",
    "    val_acc = state_dict['val_accuracy']\n",
    "    print(f'Model loaded from <== {save_path}')\n",
    "    \n",
    "    return val_acc"
   ]
  },
  {
   "cell_type": "code",
   "execution_count": null,
   "metadata": {
    "id": "9EYNnyce6Ziy"
   },
   "outputs": [],
   "source": [
    "# have to investigate the splitting of train/val/test data"
   ]
  },
  {
   "cell_type": "code",
   "execution_count": null,
   "metadata": {
    "id": "VJePqQno5foS"
   },
   "outputs": [],
   "source": [
    "class LFW(Dataset):\n",
    "  def __init__(self,root_dir,txt_path,transform):                 #######  transform aagor khini e use kribo loga hol,,,,, sabo lagibo\n",
    "    self.transform=transform\n",
    "    self.root_dir=root_dir\n",
    "\n",
    "    with open(txt_path) as f:\n",
    "      lines=f.readlines()\n",
    "\n",
    "      self.pair_imgs_label=[ line.split() for line in lines]\n",
    "\n",
    "  def __len__(self):\n",
    "    return len(self.pair_imgs_label)\n",
    "\n",
    "  def __getitem__(self,idx):\n",
    "    img1_path=os.path.join(self.root_dir,self.pair_imgs_label[idx][0])\n",
    "    img2_path=os.path.join(self.root_dir,self.pair_imgs_label[idx][1])\n",
    "    label= float(self.pair_imgs_label[idx][2])\n",
    "    \n",
    "    img1=cv2.imread(img1_path)\n",
    "    img1=img1.astype(np.float)/255                                   ########  aigal aagor khini e use kribo loga hol,,,,, sabo lagibo\n",
    "    img1=cv2.resize(img1,(224,224),interpolation=cv2.INTER_AREA)\n",
    "    img1=self.transform(img1)\n",
    "    \n",
    "    img2=cv2.imread(img2_path)\n",
    "    img2=img2.astype(np.float)/255\n",
    "    img2=cv2.resize(img2,(224,224),interpolation=cv2.INTER_AREA)\n",
    "    img2=self.transform(img2)\n",
    "    \n",
    "    return img1,img2,torch.from_numpy(np.array([label], dtype=np.float32))"
   ]
  },
  {
   "cell_type": "code",
   "execution_count": null,
   "metadata": {
    "id": "xH5hBIzS98Cj"
   },
   "outputs": [],
   "source": [
    "class Rescale(object):                                          ################################### #######  aigal aagor khini e use kribo loga hol,,,,, sabo lagibo\n",
    "    def __call__(self, img):\n",
    "        if random.random()<0.7:\n",
    "            f = round(0.1*random.randint(7, 13),2)\n",
    "            if f>1:\n",
    "                img = cv2.resize(img,None,fx=f, fy=f, interpolation = cv2.INTER_CUBIC)\n",
    "                a = int(round((f*128-128)/2))\n",
    "                img = img[a:a+128,a:a+128]\n",
    "            else:\n",
    "                img = cv2.resize(img,None,fx=f, fy=f, interpolation = cv2.INTER_AREA)\n",
    "                a= int(round((128-f*128)/2))\n",
    "                temp=np.zeros([128,128,3],dtype=np.uint8)\n",
    "                temp.fill(0) \n",
    "                for i in range(img.shape[0]):\n",
    "                    for j in range(img.shape[1]):\n",
    "                        temp[i+a,j+a]=img[i,j]\n",
    "                img=temp\n",
    "        return img\n",
    "\n",
    "class Flip(object):\n",
    "    def __call__(self,img):\n",
    "        if random.random()<0.7:\n",
    "            return cv2.flip(img,1)\n",
    "        return img\n",
    "        \n",
    "class Rotate(object):\n",
    "    def __call__(self,img):\n",
    "        if random.random()<0.7:\n",
    "            angle=random.random()*60-30\n",
    "            rows,cols,cn = img.shape\n",
    "            M = cv2.getRotationMatrix2D((cols/2,rows/2),angle,1)\n",
    "            img = cv2.warpAffine(img,M,(cols,rows))\n",
    "            return img\n",
    "        return img\n",
    "\n",
    "class Translate(object):\n",
    "    def __call__(self,img):\n",
    "        if random.random()<0.7:\n",
    "            x=random.random()*20-10\n",
    "            y=random.random()*20-10\n",
    "            rows,cols,cn = img.shape\n",
    "            M= np.float32([[1,0,x],[0,1,y]])\n",
    "            img = cv2.warpAffine(img,M,(cols,rows))\n",
    "        return img"
   ]
  },
  {
   "cell_type": "code",
   "execution_count": null,
   "metadata": {
    "id": "WAgOBUR0EpCv"
   },
   "outputs": [],
   "source": [
    "# model = torchvision.models.resnet18(pretrained=True)\n",
    "# newmodel = torch.nn.Sequential(*(list(model.children())[:-1]))\n",
    "# print(newmodel)"
   ]
  },
  {
   "cell_type": "code",
   "execution_count": null,
   "metadata": {
    "id": "nUq2J59uGSEc"
   },
   "outputs": [],
   "source": [
    "# print(model)"
   ]
  },
  {
   "cell_type": "code",
   "execution_count": null,
   "metadata": {
    "id": "vxVI7f5r9-WR"
   },
   "outputs": [],
   "source": [
    "class Net(nn.Module):\n",
    "  def __init__(self):\n",
    "    super(Net,self).__init__()\n",
    "\n",
    "    model_conv=torchvision.models.resnet18(pretrained=True)\n",
    "    for param in model_conv.parameters():\n",
    "      param.requires_grad=False\n",
    "    self.num_ftrs=model_conv.fc.in_features\n",
    "\n",
    "    self.res_net_conv=torch.nn.Sequential(*(list(model_conv.children())[:-1]))\n",
    "\n",
    "    self.fc=nn.Linear(self.num_ftrs*2,1)\n",
    "\n",
    "\n",
    "  def forward(self,x1,x2):\n",
    "    x1= self.res_net_conv(x1)\n",
    "    x2= self.res_net_conv(x2)\n",
    "\n",
    "    x1=x1.view(-1,self.num_ftrs)\n",
    "    x2=x2.view(-1,self.num_ftrs)\n",
    "\n",
    "    x=torch.cat((x1,x2),1)\n",
    "    x=self.fc(x)\n",
    "\n",
    "    # For distance function method\n",
    "    # x=torch.abs(x1-x2)\n",
    "    # x= self.fc2(x)\n",
    "\n",
    "    return x"
   ]
  },
  {
   "cell_type": "code",
   "execution_count": null,
   "metadata": {
    "id": "_VfatgPT-CWC"
   },
   "outputs": [],
   "source": [
    "def train(model,train_loader,val_loader,num_epochs,criterion,save_name):\n",
    "  train_losses=[]\n",
    "  val_losses=[]\n",
    "  mx_val_accuracy=-1\n",
    "  for epoch in range(num_epochs):\n",
    "    running_loss=0.0\n",
    "    print(\"Starting epoch \" + str(epoch+1))\n",
    "    model.train()\n",
    "    for imgs1,imgs2,labels in train_loader:\n",
    "      imgs1=imgs1.to(device=device, dtype=torch.float)\n",
    "      imgs2=imgs2.to(device=device, dtype=torch.float)\n",
    "      labels=labels.to(device=device, dtype=torch.float)\n",
    "\n",
    "      optimizer.zero_grad()\n",
    "      outputs=model(imgs1,imgs2)\n",
    "      loss=criterion(outputs,labels)\n",
    "      loss.backward()\n",
    "      optimizer.step()\n",
    "\n",
    "      running_loss+=loss.item()\n",
    "\n",
    "    avg_train_loss = running_loss / len(train_loader)\n",
    "    train_losses.append(avg_train_loss)\n",
    "\n",
    "    val_running_loss=0.0                                                            ########################### \n",
    "    correct=0\n",
    "    with torch.no_grad():\n",
    "      model.eval()\n",
    "      for i,data in enumerate(val_loader,0):\n",
    "        imgsV1,imgsV2,labelsV= data\n",
    "        \n",
    "        imgsV1=imgsV1.to(device=device, dtype=torch.float)\n",
    "        imgsV2=imgsV2.to(device=device, dtype=torch.float)\n",
    "        labelsV=labelsV.to(device=device, dtype=torch.float)\n",
    "\n",
    "        outputs=model(imgsV1,imgsV2)\n",
    "        loss=criterion(outputs,labelsV)\n",
    "\n",
    "        # val accuracy calc\n",
    "        outputs=outputs.to(device=device, dtype=torch.float)\n",
    "        \n",
    "        for j,op in enumerate(outputs,0):\n",
    "\n",
    "          if(op[0]<0.5):\n",
    "            #0 predicted\n",
    "            if labelsV[j]==0:           ###########\n",
    "              correct+=1\n",
    "          else:\n",
    "            # 1 predicted\n",
    "            if labelsV[j]==1:\n",
    "              correct+=1\n",
    "        val_running_loss+=loss.item()\n",
    "    val_accuracy= correct/len(val_loader)\n",
    "    avg_val_loss= val_running_loss/len(val_loader)\n",
    "    val_losses.append(avg_val_loss)\n",
    "    ## val acc\n",
    "    if mx_val_accuracy<val_accuracy:\n",
    "      mx_val_accuracy=val_accuracy\n",
    "      save_checkpoint(save_name, model, optimizer, mx_val_accuracy)\n",
    "\n",
    "    print('Epoch [{}/{}],Train Loss: {:.4f}, Valid Loss: {:.8f}'.format(epoch+1, num_epochs, avg_train_loss, avg_val_loss))\n",
    "  \n",
    "  print(\"Training completed.\")\n",
    "  \n",
    "  fig = plt.figure()\n",
    "  ax = plt.subplot(111)\n",
    "  ax.plot(train_losses)\n",
    "  ax.plot(val_losses)     ###############3\n",
    "  plt.xlabel('Steps')  \n",
    "  plt.ylabel('Loss')  \n",
    "  fig.savefig(os.path.join(path_lfw_folder,'Loss_Steps.png')) \n",
    "\n",
    "  return train_losses,val_losses,mx_val_accuracy\n"
   ]
  },
  {
   "cell_type": "code",
   "execution_count": null,
   "metadata": {
    "id": "c6klpUdP-Jtq"
   },
   "outputs": [],
   "source": [
    "transform = transforms.Compose([transforms.ToTensor(),\n",
    "                                 transforms.Normalize((0.5, 0.5, 0.5), (0.5, 0.5, 0.5))]) #Rescale(),Flip(),Translate(),Rotate(),\n",
    "\n",
    "train_dataSize = 2200 # self-defined dataset size for training                                                              \n",
    "TRAIN_PCT = 0.8 # percentage of entire dataset for training\n",
    "train_size = int(train_dataSize * TRAIN_PCT)\n",
    "val_size = train_dataSize - train_size   \n",
    "\n",
    "lfw_dataset = LFW('./lfw/lfw',os.path.join(path_lfw_folder,'lfw_train_pairs.txt'),transform)                                \n",
    "\n",
    "train_set, val_set = random_split(lfw_dataset, [train_size, val_size])\n",
    "\n",
    "train_loader = DataLoader(train_set, batch_size=8 , shuffle=True, num_workers=0)    ################## batch size\n",
    "val_loader   = DataLoader(val_set, batch_size=1, shuffle=True, num_workers=0)"
   ]
  },
  {
   "cell_type": "code",
   "execution_count": null,
   "metadata": {
    "colab": {
     "base_uri": "https://localhost:8080/"
    },
    "id": "i9feNANS-Lxu",
    "outputId": "49229d88-36b0-4bcb-d0ad-5e7026bc01ce"
   },
   "outputs": [
    {
     "name": "stdout",
     "output_type": "stream",
     "text": [
      "Running on gpu\n",
      "The model architecture:\n",
      "\n",
      " Net(\n",
      "  (res_net_conv): Sequential(\n",
      "    (0): Conv2d(3, 64, kernel_size=(7, 7), stride=(2, 2), padding=(3, 3), bias=False)\n",
      "    (1): BatchNorm2d(64, eps=1e-05, momentum=0.1, affine=True, track_running_stats=True)\n",
      "    (2): ReLU(inplace=True)\n",
      "    (3): MaxPool2d(kernel_size=3, stride=2, padding=1, dilation=1, ceil_mode=False)\n",
      "    (4): Sequential(\n",
      "      (0): BasicBlock(\n",
      "        (conv1): Conv2d(64, 64, kernel_size=(3, 3), stride=(1, 1), padding=(1, 1), bias=False)\n",
      "        (bn1): BatchNorm2d(64, eps=1e-05, momentum=0.1, affine=True, track_running_stats=True)\n",
      "        (relu): ReLU(inplace=True)\n",
      "        (conv2): Conv2d(64, 64, kernel_size=(3, 3), stride=(1, 1), padding=(1, 1), bias=False)\n",
      "        (bn2): BatchNorm2d(64, eps=1e-05, momentum=0.1, affine=True, track_running_stats=True)\n",
      "      )\n",
      "      (1): BasicBlock(\n",
      "        (conv1): Conv2d(64, 64, kernel_size=(3, 3), stride=(1, 1), padding=(1, 1), bias=False)\n",
      "        (bn1): BatchNorm2d(64, eps=1e-05, momentum=0.1, affine=True, track_running_stats=True)\n",
      "        (relu): ReLU(inplace=True)\n",
      "        (conv2): Conv2d(64, 64, kernel_size=(3, 3), stride=(1, 1), padding=(1, 1), bias=False)\n",
      "        (bn2): BatchNorm2d(64, eps=1e-05, momentum=0.1, affine=True, track_running_stats=True)\n",
      "      )\n",
      "    )\n",
      "    (5): Sequential(\n",
      "      (0): BasicBlock(\n",
      "        (conv1): Conv2d(64, 128, kernel_size=(3, 3), stride=(2, 2), padding=(1, 1), bias=False)\n",
      "        (bn1): BatchNorm2d(128, eps=1e-05, momentum=0.1, affine=True, track_running_stats=True)\n",
      "        (relu): ReLU(inplace=True)\n",
      "        (conv2): Conv2d(128, 128, kernel_size=(3, 3), stride=(1, 1), padding=(1, 1), bias=False)\n",
      "        (bn2): BatchNorm2d(128, eps=1e-05, momentum=0.1, affine=True, track_running_stats=True)\n",
      "        (downsample): Sequential(\n",
      "          (0): Conv2d(64, 128, kernel_size=(1, 1), stride=(2, 2), bias=False)\n",
      "          (1): BatchNorm2d(128, eps=1e-05, momentum=0.1, affine=True, track_running_stats=True)\n",
      "        )\n",
      "      )\n",
      "      (1): BasicBlock(\n",
      "        (conv1): Conv2d(128, 128, kernel_size=(3, 3), stride=(1, 1), padding=(1, 1), bias=False)\n",
      "        (bn1): BatchNorm2d(128, eps=1e-05, momentum=0.1, affine=True, track_running_stats=True)\n",
      "        (relu): ReLU(inplace=True)\n",
      "        (conv2): Conv2d(128, 128, kernel_size=(3, 3), stride=(1, 1), padding=(1, 1), bias=False)\n",
      "        (bn2): BatchNorm2d(128, eps=1e-05, momentum=0.1, affine=True, track_running_stats=True)\n",
      "      )\n",
      "    )\n",
      "    (6): Sequential(\n",
      "      (0): BasicBlock(\n",
      "        (conv1): Conv2d(128, 256, kernel_size=(3, 3), stride=(2, 2), padding=(1, 1), bias=False)\n",
      "        (bn1): BatchNorm2d(256, eps=1e-05, momentum=0.1, affine=True, track_running_stats=True)\n",
      "        (relu): ReLU(inplace=True)\n",
      "        (conv2): Conv2d(256, 256, kernel_size=(3, 3), stride=(1, 1), padding=(1, 1), bias=False)\n",
      "        (bn2): BatchNorm2d(256, eps=1e-05, momentum=0.1, affine=True, track_running_stats=True)\n",
      "        (downsample): Sequential(\n",
      "          (0): Conv2d(128, 256, kernel_size=(1, 1), stride=(2, 2), bias=False)\n",
      "          (1): BatchNorm2d(256, eps=1e-05, momentum=0.1, affine=True, track_running_stats=True)\n",
      "        )\n",
      "      )\n",
      "      (1): BasicBlock(\n",
      "        (conv1): Conv2d(256, 256, kernel_size=(3, 3), stride=(1, 1), padding=(1, 1), bias=False)\n",
      "        (bn1): BatchNorm2d(256, eps=1e-05, momentum=0.1, affine=True, track_running_stats=True)\n",
      "        (relu): ReLU(inplace=True)\n",
      "        (conv2): Conv2d(256, 256, kernel_size=(3, 3), stride=(1, 1), padding=(1, 1), bias=False)\n",
      "        (bn2): BatchNorm2d(256, eps=1e-05, momentum=0.1, affine=True, track_running_stats=True)\n",
      "      )\n",
      "    )\n",
      "    (7): Sequential(\n",
      "      (0): BasicBlock(\n",
      "        (conv1): Conv2d(256, 512, kernel_size=(3, 3), stride=(2, 2), padding=(1, 1), bias=False)\n",
      "        (bn1): BatchNorm2d(512, eps=1e-05, momentum=0.1, affine=True, track_running_stats=True)\n",
      "        (relu): ReLU(inplace=True)\n",
      "        (conv2): Conv2d(512, 512, kernel_size=(3, 3), stride=(1, 1), padding=(1, 1), bias=False)\n",
      "        (bn2): BatchNorm2d(512, eps=1e-05, momentum=0.1, affine=True, track_running_stats=True)\n",
      "        (downsample): Sequential(\n",
      "          (0): Conv2d(256, 512, kernel_size=(1, 1), stride=(2, 2), bias=False)\n",
      "          (1): BatchNorm2d(512, eps=1e-05, momentum=0.1, affine=True, track_running_stats=True)\n",
      "        )\n",
      "      )\n",
      "      (1): BasicBlock(\n",
      "        (conv1): Conv2d(512, 512, kernel_size=(3, 3), stride=(1, 1), padding=(1, 1), bias=False)\n",
      "        (bn1): BatchNorm2d(512, eps=1e-05, momentum=0.1, affine=True, track_running_stats=True)\n",
      "        (relu): ReLU(inplace=True)\n",
      "        (conv2): Conv2d(512, 512, kernel_size=(3, 3), stride=(1, 1), padding=(1, 1), bias=False)\n",
      "        (bn2): BatchNorm2d(512, eps=1e-05, momentum=0.1, affine=True, track_running_stats=True)\n",
      "      )\n",
      "    )\n",
      "    (8): AdaptiveAvgPool2d(output_size=(1, 1))\n",
      "  )\n",
      "  (fc): Linear(in_features=1024, out_features=1, bias=True)\n",
      ")\n",
      "\n",
      "The model has 1,025 trainable parameters\n"
     ]
    }
   ],
   "source": [
    "if torch.cuda.is_available():\n",
    "  device='cuda:0'\n",
    "  print('Running on gpu')\n",
    "else:\n",
    "  device='cpu'\n",
    "  print('Running on cpu')\n",
    "\n",
    "# device = torch.device('cuda:0' if torch.cuda.is_available() else 'cpu')\n",
    "\n",
    "lr = 0.001  \n",
    "num_epoches = 20    \n",
    "siameseBaseModel=Net()\n",
    "siameseBaseModel.to(device)\n",
    "\n",
    "optimizer = optim.Adam(siameseBaseModel.fc.parameters(), lr)\n",
    "criterion = nn.BCEWithLogitsLoss()\n",
    "save_path=os.path.join(path_lfw_folder,'siameseBaseModel.pt')\n",
    "\n",
    "count_parameters(siameseBaseModel)"
   ]
  },
  {
   "cell_type": "code",
   "execution_count": null,
   "metadata": {
    "colab": {
     "base_uri": "https://localhost:8080/",
     "height": 1000
    },
    "id": "QoT6lnHj-OmG",
    "outputId": "8acb0846-ff83-4290-cc1c-9f8dc743332a"
   },
   "outputs": [
    {
     "name": "stdout",
     "output_type": "stream",
     "text": [
      "Starting epoch 1\n",
      "Model saved to ==> ./gdrive/MyDrive/Datasets/LWF_DATASET/siameseBaseModel.pt\n",
      "Epoch [1/20],Train Loss: 0.7278, Valid Loss: 0.68950910\n",
      "Starting epoch 2\n",
      "Epoch [2/20],Train Loss: 0.6962, Valid Loss: 0.73655516\n",
      "Starting epoch 3\n",
      "Model saved to ==> ./gdrive/MyDrive/Datasets/LWF_DATASET/siameseBaseModel.pt\n",
      "Epoch [3/20],Train Loss: 0.6808, Valid Loss: 0.71493374\n",
      "Starting epoch 4\n",
      "Model saved to ==> ./gdrive/MyDrive/Datasets/LWF_DATASET/siameseBaseModel.pt\n",
      "Epoch [4/20],Train Loss: 0.6758, Valid Loss: 0.68573732\n",
      "Starting epoch 5\n",
      "Model saved to ==> ./gdrive/MyDrive/Datasets/LWF_DATASET/siameseBaseModel.pt\n",
      "Epoch [5/20],Train Loss: 0.6704, Valid Loss: 0.70138283\n",
      "Starting epoch 6\n",
      "Epoch [6/20],Train Loss: 0.6554, Valid Loss: 0.69935190\n",
      "Starting epoch 7\n",
      "Epoch [7/20],Train Loss: 0.6315, Valid Loss: 0.70401854\n",
      "Starting epoch 8\n",
      "Epoch [8/20],Train Loss: 0.6363, Valid Loss: 0.82399464\n",
      "Starting epoch 9\n",
      "Epoch [9/20],Train Loss: 0.6187, Valid Loss: 0.72716851\n",
      "Starting epoch 10\n",
      "Model saved to ==> ./gdrive/MyDrive/Datasets/LWF_DATASET/siameseBaseModel.pt\n",
      "Epoch [10/20],Train Loss: 0.6035, Valid Loss: 0.75512085\n",
      "Starting epoch 11\n",
      "Epoch [11/20],Train Loss: 0.6192, Valid Loss: 0.71341818\n",
      "Starting epoch 12\n",
      "Epoch [12/20],Train Loss: 0.6158, Valid Loss: 0.71936148\n",
      "Starting epoch 13\n",
      "Epoch [13/20],Train Loss: 0.6079, Valid Loss: 0.75851769\n",
      "Starting epoch 14\n",
      "Epoch [14/20],Train Loss: 0.6076, Valid Loss: 0.75568801\n",
      "Starting epoch 15\n",
      "Epoch [15/20],Train Loss: 0.5966, Valid Loss: 0.76055843\n",
      "Starting epoch 16\n",
      "Epoch [16/20],Train Loss: 0.5949, Valid Loss: 0.74079553\n",
      "Starting epoch 17\n",
      "Epoch [17/20],Train Loss: 0.6015, Valid Loss: 0.75296676\n",
      "Starting epoch 18\n",
      "Epoch [18/20],Train Loss: 0.6104, Valid Loss: 0.77341240\n",
      "Starting epoch 19\n",
      "Epoch [19/20],Train Loss: 0.5741, Valid Loss: 0.77162150\n",
      "Starting epoch 20\n",
      "Epoch [20/20],Train Loss: 0.5728, Valid Loss: 0.79934150\n",
      "Training completed.\n"
     ]
    },
    {
     "data": {
      "image/png": "[encoded data removed]",
      "text/plain": [
       "<Figure size 432x288 with 1 Axes>"
      ]
     },
     "metadata": {
      "needs_background": "light",
      "tags": []
     },
     "output_type": "display_data"
    }
   ],
   "source": [
    "train_loss_his,val_loss_his,mx_val_accuracy_train=train(siameseBaseModel,train_loader,val_loader,num_epoches,criterion,save_path)"
   ]
  },
  {
   "cell_type": "code",
   "execution_count": null,
   "metadata": {
    "colab": {
     "base_uri": "https://localhost:8080/",
     "height": 279
    },
    "id": "0_8BLcxP-Qbo",
    "outputId": "3306d5fb-6ba1-4231-eb9b-041bce391f72"
   },
   "outputs": [
    {
     "data": {
      "image/png": "[encoded data removed]",
      "text/plain": [
       "<Figure size 432x288 with 1 Axes>"
      ]
     },
     "metadata": {
      "needs_background": "light",
      "tags": []
     },
     "output_type": "display_data"
    }
   ],
   "source": [
    "#plotting of training and validation loss                          ########################### \n",
    "plt.xlabel('epoch')\n",
    "plt.ylabel('loss')\n",
    "plt.plot(train_loss_his, label='Train Loss')\n",
    "plt.plot(val_loss_his, label=\"Validation Loss\")\n",
    "plt.legend(bbox_to_anchor=(1.05, 1.0), loc='upper left')\n",
    "plt.show()"
   ]
  },
  {
   "cell_type": "code",
   "execution_count": null,
   "metadata": {
    "id": "FTouwMJA-Sef"
   },
   "outputs": [],
   "source": [
    "def test(model,test_loader):\n",
    "    with torch.no_grad():\n",
    "      model.eval()\n",
    "      correct=0\n",
    "      cnt=0\n",
    "      print(\"strating testing:\")        \n",
    "      for i,data in enumerate(test_loader,0):\n",
    "        imgs1,imgs2,labels=data\n",
    "        \n",
    "        imgs1=imgs1.to(device=device, dtype=torch.float)\n",
    "        imgs2=imgs2.to(device=device, dtype=torch.float)\n",
    "        labels=labels.to(device=device, dtype=torch.float)\n",
    "\n",
    "        outputs=model(imgs1,imgs2)\n",
    "        # test accuracy calc\n",
    "        outputs=outputs.to(device=device, dtype=torch.float)\n",
    "        for j,op in enumerate(outputs,0):\n",
    "          cnt+=1\n",
    "          if(op[0]<0.5):\n",
    "            #0 predicted\n",
    "            if labels[j]==0:           ###########\n",
    "              correct+=1\n",
    "          else:\n",
    "            # 1 predicted\n",
    "            if labels[j]==1:\n",
    "              correct+=1\n",
    "    test_accuracy= correct/cnt\n",
    "\n",
    "    return test_accuracy\n"
   ]
  },
  {
   "cell_type": "code",
   "execution_count": null,
   "metadata": {
    "id": "bgPAmrIT-UMY"
   },
   "outputs": [],
   "source": [
    "root_path_to_saved_models='./gdrive/MyDrive/Datasets/LWF_DATASET/'\n",
    "path_to_model_from_saved_model_dir='siameseBaseModel.pt'\n",
    "path_to_chosen_model= os.path.join(root_path_to_saved_models,path_to_model_from_saved_model_dir)\n",
    "# print(path_to_chosen_model )"
   ]
  },
  {
   "cell_type": "code",
   "execution_count": null,
   "metadata": {
    "colab": {
     "base_uri": "https://localhost:8080/"
    },
    "id": "peecP37V-Vcf",
    "outputId": "93feb431-99f3-4c71-ad36-835655c7330e"
   },
   "outputs": [
    {
     "name": "stdout",
     "output_type": "stream",
     "text": [
      "Model loaded from <== ./gdrive/MyDrive/Datasets/LWF_DATASET/siameseBaseModel.pt\n",
      "strating testing:\n",
      "strating testing:\n",
      "Train accuracy is:  73.01136363636364\n",
      "Max val accuracy during training:  57.49999999999999\n",
      "Test accuracy is:  54.50000000000001\n"
     ]
    }
   ],
   "source": [
    "load_model=Net().to(device)\n",
    "load_optimizer=optim.Adam(load_model.fc.parameters(),lr=0.001)                  #######################################????????/\n",
    "mx_val_acc=load_checkpoint(load_model,load_optimizer,path_to_chosen_model)\n",
    "\n",
    "transform = transform = transforms.Compose([transforms.ToTensor(),\n",
    "                                 transforms.Normalize((0.5, 0.5, 0.5), (0.5, 0.5, 0.5))])\n",
    "\n",
    "\n",
    "test_set= LFW('./lfw/lfw',os.path.join(path_lfw_folder,'lfw_test_pairs.txt'),transform)\n",
    "test_loader= DataLoader(test_set,batch_size=4,num_workers=2)\n",
    "\n",
    "train_accuracy= test(load_model,train_loader)\n",
    "test_accuracy=test(load_model,test_loader)\n",
    "\n",
    "\n",
    "print(\"Train accuracy is: \",100*train_accuracy)\n",
    "print(\"Max val accuracy during training: \",100*mx_val_acc)\n",
    "print(\"Test accuracy is: \",100*test_accuracy)"
   ]
  },
  {
   "cell_type": "code",
   "execution_count": null,
   "metadata": {
    "id": "DyvRSLf4crxt"
   },
   "outputs": [],
   "source": []
  }
 ],
 "metadata": {
  "accelerator": "GPU",
  "colab": {
   "collapsed_sections": [],
   "name": "Siamese_net_lfw_transfer.ipynb",
   "provenance": []
  },
  "kernelspec": {
   "display_name": "Python 3",
   "language": "python",
   "name": "python3"
  },
  "language_info": {
   "codemirror_mode": {
    "name": "ipython",
    "version": 3
   },
   "file_extension": ".py",
   "mimetype": "text/x-python",
   "name": "python",
   "nbconvert_exporter": "python",
   "pygments_lexer": "ipython3",
   "version": "3.8.8"
  }
 },
 "nbformat": 4,
 "nbformat_minor": 1
}
