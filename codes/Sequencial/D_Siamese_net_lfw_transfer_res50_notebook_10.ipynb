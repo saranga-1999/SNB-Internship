{
  "nbformat": 4,
  "nbformat_minor": 0,
  "metadata": {
    "colab": {
      "name": "D. Siamese_net_lfw_transfer_res50_notebook_10.ipynb",
      "provenance": [],
      "collapsed_sections": []
    },
    "kernelspec": {
      "display_name": "Python 3",
      "name": "python3"
    },
    "language_info": {
      "name": "python"
    }
  },
  "cells": [
    {
      "cell_type": "code",
      "metadata": {
        "colab": {
          "base_uri": "https://localhost:8080/"
        },
        "id": "LJjV-CrelDSC",
        "outputId": "aaf8c54c-fcf6-4662-81b9-71e28c3b5551"
      },
      "source": [
        "from google.colab import drive\n",
        "drive.mount('/content/gdrive')"
      ],
      "execution_count": null,
      "outputs": [
        {
          "output_type": "stream",
          "text": [
            "Mounted at /content/gdrive\n"
          ],
          "name": "stdout"
        }
      ]
    },
    {
      "cell_type": "code",
      "metadata": {
        "id": "kQ43fIZ-lRF7"
      },
      "source": [
        "!unzip gdrive/My\\ Drive/Datasets/Cropped_lfw_zip.zip"
      ],
      "execution_count": null,
      "outputs": []
    },
    {
      "cell_type": "code",
      "metadata": {
        "id": "AYljMWUElzh9"
      },
      "source": [
        "import torch\n",
        "import os\n",
        "import cv2\n",
        "import random\n",
        "import torchvision\n",
        "import matplotlib.pyplot as plt\n",
        "import numpy as np\n",
        "import torch.nn as nn\n",
        "from torch.utils.data import Dataset, DataLoader,random_split\n",
        "import torchvision.transforms as transforms\n",
        "import torch.optim as optim"
      ],
      "execution_count": null,
      "outputs": []
    },
    {
      "cell_type": "code",
      "metadata": {
        "id": "AOlwED42lzkq"
      },
      "source": [
        "path_cropped_lfw_folder='./gdrive/MyDrive/Datasets/Cropped_lfw'"
      ],
      "execution_count": null,
      "outputs": []
    },
    {
      "cell_type": "code",
      "metadata": {
        "id": "dm4XVDBRlznA"
      },
      "source": [
        "def count_parameters(model):\n",
        "    temp = sum(p.numel() for p in model.parameters() if p.requires_grad)\n",
        "    print(f'The model architecture:\\n\\n', model)\n",
        "    print(f'\\nThe model has {temp:,} trainable parameters')\n",
        "\n",
        "def save_checkpoint(save_path, model, optimizer, val_acc):\n",
        "    if save_path==None:\n",
        "        return\n",
        "    save_path = save_path \n",
        "    state_dict = {'model_state_dict': model.state_dict(),                    \n",
        "                  'optimizer_state_dict': optimizer.state_dict(),\n",
        "                  'val_accuracy': val_acc}\n",
        "\n",
        "    torch.save(state_dict, save_path)\n",
        "\n",
        "    print(f'Model saved to ==> {save_path}')\n",
        "\n",
        "def load_checkpoint(model, optimizer,save_path):\n",
        "    # save_path = f'siameseNet-batchnorm50.pt'\n",
        "    state_dict = torch.load(save_path)\n",
        "    model.load_state_dict(state_dict['model_state_dict'])\n",
        "    optimizer.load_state_dict(state_dict['optimizer_state_dict'])\n",
        "    val_acc = state_dict['val_accuracy']\n",
        "    print(f'Model loaded from <== {save_path}')\n",
        "    \n",
        "    return val_acc"
      ],
      "execution_count": null,
      "outputs": []
    },
    {
      "cell_type": "code",
      "metadata": {
        "id": "nLCG0k5NlzpY"
      },
      "source": [
        "class LFW(Dataset):\n",
        "  def __init__(self,root_dir,txt_path,transform):                 #######  transform aagor khini e use kribo loga hol,,,,, sabo lagibo\n",
        "    self.transform=transform\n",
        "    self.root_dir=root_dir\n",
        "\n",
        "    with open(txt_path) as f:\n",
        "      lines=f.readlines()\n",
        "\n",
        "      self.pair_imgs_label=[ line.split() for line in lines]\n",
        "\n",
        "  def __len__(self):\n",
        "    return len(self.pair_imgs_label)\n",
        "\n",
        "  def __getitem__(self,idx):\n",
        "    img1_path=os.path.join(self.root_dir,self.pair_imgs_label[idx][0])\n",
        "    img2_path=os.path.join(self.root_dir,self.pair_imgs_label[idx][1])\n",
        "    label= float(self.pair_imgs_label[idx][2])\n",
        "    \n",
        "    img1=cv2.imread(img1_path)\n",
        "    img1=img1.astype(np.float)/255                                   ########  aigal aagor khini e use kribo loga hol,,,,, sabo lagibo\n",
        "    img1=cv2.resize(img1,(224,224),interpolation=cv2.INTER_AREA)\n",
        "    img1=self.transform(img1)\n",
        "    \n",
        "    img2=cv2.imread(img2_path)\n",
        "    img2=img2.astype(np.float)/255\n",
        "    img2=cv2.resize(img2,(224,224),interpolation=cv2.INTER_AREA)\n",
        "    img2=self.transform(img2)\n",
        "    \n",
        "    return img1,img2,torch.from_numpy(np.array([label], dtype=np.float32))          ########## High chance"
      ],
      "execution_count": null,
      "outputs": []
    },
    {
      "cell_type": "code",
      "metadata": {
        "id": "xc9jsNwLlzry"
      },
      "source": [
        "class Net(nn.Module):\n",
        "  def __init__(self):\n",
        "    super(Net,self).__init__()\n",
        "\n",
        "    # model_conv=torchvision.models.resnet18(pretrained=True)\n",
        "    model_conv=torchvision.models.resnet50(pretrained=True)\n",
        "    for param in model_conv.parameters():\n",
        "      param.requires_grad=False\n",
        "    self.num_ftrs=model_conv.fc.in_features\n",
        "\n",
        "    self.res_net_conv=torch.nn.Sequential(*(list(model_conv.children())[:-1]))\n",
        "\n",
        "    self.fc=nn.Linear(self.num_ftrs*2,1)\n",
        "\n",
        "    self.sig_out=nn.Sigmoid()\n",
        "\n",
        "\n",
        "  def forward(self,x1,x2):\n",
        "    x1= self.res_net_conv(x1)\n",
        "    x2= self.res_net_conv(x2)\n",
        "\n",
        "    x1=x1.view(-1,self.num_ftrs)\n",
        "    x2=x2.view(-1,self.num_ftrs)\n",
        "\n",
        "    x=torch.cat((x1,x2),1)\n",
        "    x=self.fc(x)      ########## have to add a sigmoid layer\n",
        "    x=self.sig_out(x)\n",
        "    # For distance function method\n",
        "    # x=torch.abs(x1-x2)\n",
        "    # x= self.fc2(x)\n",
        "\n",
        "    return x"
      ],
      "execution_count": null,
      "outputs": []
    },
    {
      "cell_type": "code",
      "metadata": {
        "id": "wlb0DNAxlzuN"
      },
      "source": [
        "def train(model,train_loader,val_loader,num_epochs,criterion,save_name):\n",
        "  train_losses=[]\n",
        "  val_losses=[]\n",
        "  valid_accuracy=[]\n",
        "  mx_val_accuracy=-1\n",
        "  \n",
        "  for epoch in range(num_epochs):\n",
        "    running_loss=0.0\n",
        "    print(\"Starting epoch \" + str(epoch+1))\n",
        "    model.train()\n",
        "    total_no_imgs=0\n",
        "    for imgs1,imgs2,labels in train_loader:\n",
        "      imgs1=imgs1.to(device=device, dtype=torch.float)\n",
        "      imgs2=imgs2.to(device=device, dtype=torch.float)\n",
        "      labels=labels.to(device=device, dtype=torch.float)\n",
        "\n",
        "      optimizer.zero_grad()\n",
        "      outputs=model(imgs1,imgs2)\n",
        "      loss=criterion(outputs,labels)\n",
        "      loss.backward()\n",
        "      optimizer.step()\n",
        "      total_no_imgs+= imgs1.size(0)\n",
        "      running_loss+=loss.item()* imgs1.size(0)\n",
        "\n",
        "    avg_train_loss = float(running_loss) /total_no_imgs \n",
        "    # avg_train_loss = running_loss / len(train_loader)\n",
        "    train_losses.append(avg_train_loss)\n",
        "\n",
        "    val_running_loss=0.0                                                            \n",
        "    correct=0\n",
        "    total_no_imgs=0\n",
        "    with torch.no_grad():\n",
        "      model.eval()\n",
        "      for i,data in enumerate(val_loader,0):\n",
        "        imgsV1,imgsV2,labelsV= data\n",
        "        \n",
        "        imgsV1=imgsV1.to(device=device, dtype=torch.float)\n",
        "        imgsV2=imgsV2.to(device=device, dtype=torch.float)\n",
        "        labelsV=labelsV.to(device=device, dtype=torch.float)\n",
        "\n",
        "        outputs=model(imgsV1,imgsV2)\n",
        "        loss=criterion(outputs,labelsV)\n",
        "\n",
        "        # val accuracy calc\n",
        "        outputs=outputs.to(device=device, dtype=torch.float)\n",
        "        \n",
        "        for j,op in enumerate(outputs,0):\n",
        "          total_no_imgs+=1\n",
        "          if(op[0]<0.5):\n",
        "            #0 predicted\n",
        "            if labelsV[j]==0:           ###########\n",
        "              correct+=1\n",
        "          else:\n",
        "            # 1 predicted\n",
        "            if labelsV[j]==1:\n",
        "              correct+=1\n",
        "        val_running_loss+=loss.item()*imgsV1.size(0)\n",
        "    # val_accuracy= correct/len(val_loader)\n",
        "    # avg_val_loss= val_running_loss/len(val_loader)\n",
        "    \n",
        "    val_accuracy= float(correct)/total_no_imgs\n",
        "    valid_accuracy.append(val_accuracy)\n",
        "    avg_val_loss= float(val_running_loss)/total_no_imgs\n",
        "    val_losses.append(avg_val_loss)\n",
        "    \n",
        "    ## val acc\n",
        "    if mx_val_accuracy<val_accuracy:\n",
        "      mx_val_accuracy=val_accuracy\n",
        "      save_checkpoint(save_name, model, optimizer, mx_val_accuracy)\n",
        "\n",
        "    print('Epoch [{}/{}],Train Loss: {:.4f}, Valid Loss: {:.8f}'.format(epoch+1, num_epochs, avg_train_loss, avg_val_loss))\n",
        "  \n",
        "  print(\"Training completed.\")\n",
        "  \n",
        "  fig = plt.figure()\n",
        "  ax = plt.subplot(111)\n",
        "  ax.plot(train_losses)\n",
        "  ax.plot(val_losses)     ###############3\n",
        "  plt.xlabel('Steps')  \n",
        "  plt.ylabel('Loss')  \n",
        "  fig.savefig(os.path.join(path_lfw_folder,'Loss_Steps.png')) \n",
        "\n",
        "  return train_losses,val_losses,mx_val_accuracy,valid_accuracy\n"
      ],
      "execution_count": null,
      "outputs": []
    },
    {
      "cell_type": "code",
      "metadata": {
        "id": "8podjCdmmLR0"
      },
      "source": [
        "transform = transforms.Compose([transforms.ToTensor(),\n",
        "                                 transforms.Normalize((0.5, 0.5, 0.5), (0.5, 0.5, 0.5))]) #Rescale(),Flip(),Translate(),Rotate(),\n",
        "\n",
        "train_dataSize = 2200 # self-defined dataset size for training                                                              \n",
        "TRAIN_PCT = 0.8 # percentage of entire dataset for training\n",
        "train_size = int(train_dataSize * TRAIN_PCT)\n",
        "val_size = train_dataSize - train_size   \n",
        "path_lfw_folder='./gdrive/MyDrive/Datasets/LWF_DATASET' \n",
        "path_to_img_dir= path_cropped_lfw_folder\n",
        "\n",
        "train_txt_path = os.path.join(path_lfw_folder,'lfw_train_pairs.txt')   ############################ high chance they are wrong ## giving wrong graph for older splitting too\n",
        "# valid_txt_path = os.path.join(path_lfw_folder,'Final_lfw_valid_pairs.txt')\n",
        "test_txt_path  = os.path.join(path_lfw_folder,'lfw_test_pairs.txt')                                                                     \n",
        "\n",
        "train_set = LFW(path_to_img_dir,train_txt_path,transform)                    #######################################                    \n",
        "# val_set = LFW(path_to_img_dir,valid_txt_path,transform)\n",
        "\n",
        "train_set, val_set = random_split(train_set, [train_size, val_size])\n",
        "\n",
        "train_loader = DataLoader(train_set, batch_size=16,shuffle=True, num_workers=2)    ################## batch size\n",
        "val_loader   = DataLoader(val_set, batch_size=4, shuffle=True, num_workers=2)"
      ],
      "execution_count": null,
      "outputs": []
    },
    {
      "cell_type": "code",
      "metadata": {
        "colab": {
          "base_uri": "https://localhost:8080/"
        },
        "id": "vCQJcEpYmLUQ",
        "outputId": "91fce53d-c769-416d-857b-7863525764a7"
      },
      "source": [
        "if torch.cuda.is_available():\n",
        "  device='cuda:0'\n",
        "  print('Running on gpu')\n",
        "else:\n",
        "  device='cpu'\n",
        "  print('Running on cpu')\n",
        "\n",
        "# device = torch.device('cuda:0' if torch.cuda.is_available() else 'cpu')\n",
        "\n",
        "lr = 0.001  \n",
        "num_epoches = 10   \n",
        "siameseBaseModel=Net()\n",
        "siameseBaseModel.to(device)\n",
        "\n",
        "optimizer = optim.Adam(siameseBaseModel.fc.parameters(), lr)\n",
        "criterion = nn.BCELoss()        ############## have to change it\n",
        "model_name='siamese_resnet50_lfw_cropped.pt'\n",
        "save_path=os.path.join(path_lfw_folder,model_name)\n",
        "\n",
        "count_parameters(siameseBaseModel)"
      ],
      "execution_count": null,
      "outputs": [
        {
          "output_type": "stream",
          "text": [
            "Running on gpu\n",
            "The model architecture:\n",
            "\n",
            " Net(\n",
            "  (res_net_conv): Sequential(\n",
            "    (0): Conv2d(3, 64, kernel_size=(7, 7), stride=(2, 2), padding=(3, 3), bias=False)\n",
            "    (1): BatchNorm2d(64, eps=1e-05, momentum=0.1, affine=True, track_running_stats=True)\n",
            "    (2): ReLU(inplace=True)\n",
            "    (3): MaxPool2d(kernel_size=3, stride=2, padding=1, dilation=1, ceil_mode=False)\n",
            "    (4): Sequential(\n",
            "      (0): Bottleneck(\n",
            "        (conv1): Conv2d(64, 64, kernel_size=(1, 1), stride=(1, 1), bias=False)\n",
            "        (bn1): BatchNorm2d(64, eps=1e-05, momentum=0.1, affine=True, track_running_stats=True)\n",
            "        (conv2): Conv2d(64, 64, kernel_size=(3, 3), stride=(1, 1), padding=(1, 1), bias=False)\n",
            "        (bn2): BatchNorm2d(64, eps=1e-05, momentum=0.1, affine=True, track_running_stats=True)\n",
            "        (conv3): Conv2d(64, 256, kernel_size=(1, 1), stride=(1, 1), bias=False)\n",
            "        (bn3): BatchNorm2d(256, eps=1e-05, momentum=0.1, affine=True, track_running_stats=True)\n",
            "        (relu): ReLU(inplace=True)\n",
            "        (downsample): Sequential(\n",
            "          (0): Conv2d(64, 256, kernel_size=(1, 1), stride=(1, 1), bias=False)\n",
            "          (1): BatchNorm2d(256, eps=1e-05, momentum=0.1, affine=True, track_running_stats=True)\n",
            "        )\n",
            "      )\n",
            "      (1): Bottleneck(\n",
            "        (conv1): Conv2d(256, 64, kernel_size=(1, 1), stride=(1, 1), bias=False)\n",
            "        (bn1): BatchNorm2d(64, eps=1e-05, momentum=0.1, affine=True, track_running_stats=True)\n",
            "        (conv2): Conv2d(64, 64, kernel_size=(3, 3), stride=(1, 1), padding=(1, 1), bias=False)\n",
            "        (bn2): BatchNorm2d(64, eps=1e-05, momentum=0.1, affine=True, track_running_stats=True)\n",
            "        (conv3): Conv2d(64, 256, kernel_size=(1, 1), stride=(1, 1), bias=False)\n",
            "        (bn3): BatchNorm2d(256, eps=1e-05, momentum=0.1, affine=True, track_running_stats=True)\n",
            "        (relu): ReLU(inplace=True)\n",
            "      )\n",
            "      (2): Bottleneck(\n",
            "        (conv1): Conv2d(256, 64, kernel_size=(1, 1), stride=(1, 1), bias=False)\n",
            "        (bn1): BatchNorm2d(64, eps=1e-05, momentum=0.1, affine=True, track_running_stats=True)\n",
            "        (conv2): Conv2d(64, 64, kernel_size=(3, 3), stride=(1, 1), padding=(1, 1), bias=False)\n",
            "        (bn2): BatchNorm2d(64, eps=1e-05, momentum=0.1, affine=True, track_running_stats=True)\n",
            "        (conv3): Conv2d(64, 256, kernel_size=(1, 1), stride=(1, 1), bias=False)\n",
            "        (bn3): BatchNorm2d(256, eps=1e-05, momentum=0.1, affine=True, track_running_stats=True)\n",
            "        (relu): ReLU(inplace=True)\n",
            "      )\n",
            "    )\n",
            "    (5): Sequential(\n",
            "      (0): Bottleneck(\n",
            "        (conv1): Conv2d(256, 128, kernel_size=(1, 1), stride=(1, 1), bias=False)\n",
            "        (bn1): BatchNorm2d(128, eps=1e-05, momentum=0.1, affine=True, track_running_stats=True)\n",
            "        (conv2): Conv2d(128, 128, kernel_size=(3, 3), stride=(2, 2), padding=(1, 1), bias=False)\n",
            "        (bn2): BatchNorm2d(128, eps=1e-05, momentum=0.1, affine=True, track_running_stats=True)\n",
            "        (conv3): Conv2d(128, 512, kernel_size=(1, 1), stride=(1, 1), bias=False)\n",
            "        (bn3): BatchNorm2d(512, eps=1e-05, momentum=0.1, affine=True, track_running_stats=True)\n",
            "        (relu): ReLU(inplace=True)\n",
            "        (downsample): Sequential(\n",
            "          (0): Conv2d(256, 512, kernel_size=(1, 1), stride=(2, 2), bias=False)\n",
            "          (1): BatchNorm2d(512, eps=1e-05, momentum=0.1, affine=True, track_running_stats=True)\n",
            "        )\n",
            "      )\n",
            "      (1): Bottleneck(\n",
            "        (conv1): Conv2d(512, 128, kernel_size=(1, 1), stride=(1, 1), bias=False)\n",
            "        (bn1): BatchNorm2d(128, eps=1e-05, momentum=0.1, affine=True, track_running_stats=True)\n",
            "        (conv2): Conv2d(128, 128, kernel_size=(3, 3), stride=(1, 1), padding=(1, 1), bias=False)\n",
            "        (bn2): BatchNorm2d(128, eps=1e-05, momentum=0.1, affine=True, track_running_stats=True)\n",
            "        (conv3): Conv2d(128, 512, kernel_size=(1, 1), stride=(1, 1), bias=False)\n",
            "        (bn3): BatchNorm2d(512, eps=1e-05, momentum=0.1, affine=True, track_running_stats=True)\n",
            "        (relu): ReLU(inplace=True)\n",
            "      )\n",
            "      (2): Bottleneck(\n",
            "        (conv1): Conv2d(512, 128, kernel_size=(1, 1), stride=(1, 1), bias=False)\n",
            "        (bn1): BatchNorm2d(128, eps=1e-05, momentum=0.1, affine=True, track_running_stats=True)\n",
            "        (conv2): Conv2d(128, 128, kernel_size=(3, 3), stride=(1, 1), padding=(1, 1), bias=False)\n",
            "        (bn2): BatchNorm2d(128, eps=1e-05, momentum=0.1, affine=True, track_running_stats=True)\n",
            "        (conv3): Conv2d(128, 512, kernel_size=(1, 1), stride=(1, 1), bias=False)\n",
            "        (bn3): BatchNorm2d(512, eps=1e-05, momentum=0.1, affine=True, track_running_stats=True)\n",
            "        (relu): ReLU(inplace=True)\n",
            "      )\n",
            "      (3): Bottleneck(\n",
            "        (conv1): Conv2d(512, 128, kernel_size=(1, 1), stride=(1, 1), bias=False)\n",
            "        (bn1): BatchNorm2d(128, eps=1e-05, momentum=0.1, affine=True, track_running_stats=True)\n",
            "        (conv2): Conv2d(128, 128, kernel_size=(3, 3), stride=(1, 1), padding=(1, 1), bias=False)\n",
            "        (bn2): BatchNorm2d(128, eps=1e-05, momentum=0.1, affine=True, track_running_stats=True)\n",
            "        (conv3): Conv2d(128, 512, kernel_size=(1, 1), stride=(1, 1), bias=False)\n",
            "        (bn3): BatchNorm2d(512, eps=1e-05, momentum=0.1, affine=True, track_running_stats=True)\n",
            "        (relu): ReLU(inplace=True)\n",
            "      )\n",
            "    )\n",
            "    (6): Sequential(\n",
            "      (0): Bottleneck(\n",
            "        (conv1): Conv2d(512, 256, kernel_size=(1, 1), stride=(1, 1), bias=False)\n",
            "        (bn1): BatchNorm2d(256, eps=1e-05, momentum=0.1, affine=True, track_running_stats=True)\n",
            "        (conv2): Conv2d(256, 256, kernel_size=(3, 3), stride=(2, 2), padding=(1, 1), bias=False)\n",
            "        (bn2): BatchNorm2d(256, eps=1e-05, momentum=0.1, affine=True, track_running_stats=True)\n",
            "        (conv3): Conv2d(256, 1024, kernel_size=(1, 1), stride=(1, 1), bias=False)\n",
            "        (bn3): BatchNorm2d(1024, eps=1e-05, momentum=0.1, affine=True, track_running_stats=True)\n",
            "        (relu): ReLU(inplace=True)\n",
            "        (downsample): Sequential(\n",
            "          (0): Conv2d(512, 1024, kernel_size=(1, 1), stride=(2, 2), bias=False)\n",
            "          (1): BatchNorm2d(1024, eps=1e-05, momentum=0.1, affine=True, track_running_stats=True)\n",
            "        )\n",
            "      )\n",
            "      (1): Bottleneck(\n",
            "        (conv1): Conv2d(1024, 256, kernel_size=(1, 1), stride=(1, 1), bias=False)\n",
            "        (bn1): BatchNorm2d(256, eps=1e-05, momentum=0.1, affine=True, track_running_stats=True)\n",
            "        (conv2): Conv2d(256, 256, kernel_size=(3, 3), stride=(1, 1), padding=(1, 1), bias=False)\n",
            "        (bn2): BatchNorm2d(256, eps=1e-05, momentum=0.1, affine=True, track_running_stats=True)\n",
            "        (conv3): Conv2d(256, 1024, kernel_size=(1, 1), stride=(1, 1), bias=False)\n",
            "        (bn3): BatchNorm2d(1024, eps=1e-05, momentum=0.1, affine=True, track_running_stats=True)\n",
            "        (relu): ReLU(inplace=True)\n",
            "      )\n",
            "      (2): Bottleneck(\n",
            "        (conv1): Conv2d(1024, 256, kernel_size=(1, 1), stride=(1, 1), bias=False)\n",
            "        (bn1): BatchNorm2d(256, eps=1e-05, momentum=0.1, affine=True, track_running_stats=True)\n",
            "        (conv2): Conv2d(256, 256, kernel_size=(3, 3), stride=(1, 1), padding=(1, 1), bias=False)\n",
            "        (bn2): BatchNorm2d(256, eps=1e-05, momentum=0.1, affine=True, track_running_stats=True)\n",
            "        (conv3): Conv2d(256, 1024, kernel_size=(1, 1), stride=(1, 1), bias=False)\n",
            "        (bn3): BatchNorm2d(1024, eps=1e-05, momentum=0.1, affine=True, track_running_stats=True)\n",
            "        (relu): ReLU(inplace=True)\n",
            "      )\n",
            "      (3): Bottleneck(\n",
            "        (conv1): Conv2d(1024, 256, kernel_size=(1, 1), stride=(1, 1), bias=False)\n",
            "        (bn1): BatchNorm2d(256, eps=1e-05, momentum=0.1, affine=True, track_running_stats=True)\n",
            "        (conv2): Conv2d(256, 256, kernel_size=(3, 3), stride=(1, 1), padding=(1, 1), bias=False)\n",
            "        (bn2): BatchNorm2d(256, eps=1e-05, momentum=0.1, affine=True, track_running_stats=True)\n",
            "        (conv3): Conv2d(256, 1024, kernel_size=(1, 1), stride=(1, 1), bias=False)\n",
            "        (bn3): BatchNorm2d(1024, eps=1e-05, momentum=0.1, affine=True, track_running_stats=True)\n",
            "        (relu): ReLU(inplace=True)\n",
            "      )\n",
            "      (4): Bottleneck(\n",
            "        (conv1): Conv2d(1024, 256, kernel_size=(1, 1), stride=(1, 1), bias=False)\n",
            "        (bn1): BatchNorm2d(256, eps=1e-05, momentum=0.1, affine=True, track_running_stats=True)\n",
            "        (conv2): Conv2d(256, 256, kernel_size=(3, 3), stride=(1, 1), padding=(1, 1), bias=False)\n",
            "        (bn2): BatchNorm2d(256, eps=1e-05, momentum=0.1, affine=True, track_running_stats=True)\n",
            "        (conv3): Conv2d(256, 1024, kernel_size=(1, 1), stride=(1, 1), bias=False)\n",
            "        (bn3): BatchNorm2d(1024, eps=1e-05, momentum=0.1, affine=True, track_running_stats=True)\n",
            "        (relu): ReLU(inplace=True)\n",
            "      )\n",
            "      (5): Bottleneck(\n",
            "        (conv1): Conv2d(1024, 256, kernel_size=(1, 1), stride=(1, 1), bias=False)\n",
            "        (bn1): BatchNorm2d(256, eps=1e-05, momentum=0.1, affine=True, track_running_stats=True)\n",
            "        (conv2): Conv2d(256, 256, kernel_size=(3, 3), stride=(1, 1), padding=(1, 1), bias=False)\n",
            "        (bn2): BatchNorm2d(256, eps=1e-05, momentum=0.1, affine=True, track_running_stats=True)\n",
            "        (conv3): Conv2d(256, 1024, kernel_size=(1, 1), stride=(1, 1), bias=False)\n",
            "        (bn3): BatchNorm2d(1024, eps=1e-05, momentum=0.1, affine=True, track_running_stats=True)\n",
            "        (relu): ReLU(inplace=True)\n",
            "      )\n",
            "    )\n",
            "    (7): Sequential(\n",
            "      (0): Bottleneck(\n",
            "        (conv1): Conv2d(1024, 512, kernel_size=(1, 1), stride=(1, 1), bias=False)\n",
            "        (bn1): BatchNorm2d(512, eps=1e-05, momentum=0.1, affine=True, track_running_stats=True)\n",
            "        (conv2): Conv2d(512, 512, kernel_size=(3, 3), stride=(2, 2), padding=(1, 1), bias=False)\n",
            "        (bn2): BatchNorm2d(512, eps=1e-05, momentum=0.1, affine=True, track_running_stats=True)\n",
            "        (conv3): Conv2d(512, 2048, kernel_size=(1, 1), stride=(1, 1), bias=False)\n",
            "        (bn3): BatchNorm2d(2048, eps=1e-05, momentum=0.1, affine=True, track_running_stats=True)\n",
            "        (relu): ReLU(inplace=True)\n",
            "        (downsample): Sequential(\n",
            "          (0): Conv2d(1024, 2048, kernel_size=(1, 1), stride=(2, 2), bias=False)\n",
            "          (1): BatchNorm2d(2048, eps=1e-05, momentum=0.1, affine=True, track_running_stats=True)\n",
            "        )\n",
            "      )\n",
            "      (1): Bottleneck(\n",
            "        (conv1): Conv2d(2048, 512, kernel_size=(1, 1), stride=(1, 1), bias=False)\n",
            "        (bn1): BatchNorm2d(512, eps=1e-05, momentum=0.1, affine=True, track_running_stats=True)\n",
            "        (conv2): Conv2d(512, 512, kernel_size=(3, 3), stride=(1, 1), padding=(1, 1), bias=False)\n",
            "        (bn2): BatchNorm2d(512, eps=1e-05, momentum=0.1, affine=True, track_running_stats=True)\n",
            "        (conv3): Conv2d(512, 2048, kernel_size=(1, 1), stride=(1, 1), bias=False)\n",
            "        (bn3): BatchNorm2d(2048, eps=1e-05, momentum=0.1, affine=True, track_running_stats=True)\n",
            "        (relu): ReLU(inplace=True)\n",
            "      )\n",
            "      (2): Bottleneck(\n",
            "        (conv1): Conv2d(2048, 512, kernel_size=(1, 1), stride=(1, 1), bias=False)\n",
            "        (bn1): BatchNorm2d(512, eps=1e-05, momentum=0.1, affine=True, track_running_stats=True)\n",
            "        (conv2): Conv2d(512, 512, kernel_size=(3, 3), stride=(1, 1), padding=(1, 1), bias=False)\n",
            "        (bn2): BatchNorm2d(512, eps=1e-05, momentum=0.1, affine=True, track_running_stats=True)\n",
            "        (conv3): Conv2d(512, 2048, kernel_size=(1, 1), stride=(1, 1), bias=False)\n",
            "        (bn3): BatchNorm2d(2048, eps=1e-05, momentum=0.1, affine=True, track_running_stats=True)\n",
            "        (relu): ReLU(inplace=True)\n",
            "      )\n",
            "    )\n",
            "    (8): AdaptiveAvgPool2d(output_size=(1, 1))\n",
            "  )\n",
            "  (fc): Linear(in_features=4096, out_features=1, bias=True)\n",
            "  (sig_out): Sigmoid()\n",
            ")\n",
            "\n",
            "The model has 4,097 trainable parameters\n"
          ],
          "name": "stdout"
        }
      ]
    },
    {
      "cell_type": "code",
      "metadata": {
        "colab": {
          "base_uri": "https://localhost:8080/",
          "height": 666
        },
        "id": "IjkMSOyGmLYZ",
        "outputId": "24698495-00c3-4e4d-a00c-0d2b6c963794"
      },
      "source": [
        "\n",
        "train_loss_his,val_loss_his,mx_val_accuracy_train,validation_accu=train(siameseBaseModel,\n",
        "                                                                        train_loader,\n",
        "                                                                        val_loader,\n",
        "                                                                        num_epoches,\n",
        "                                                                        criterion,\n",
        "                                                                        save_path)"
      ],
      "execution_count": null,
      "outputs": [
        {
          "output_type": "stream",
          "text": [
            "Starting epoch 1\n",
            "Model saved to ==> ./gdrive/MyDrive/Datasets/LWF_DATASET/siamese_resnet50_lfw_cropped.pt\n",
            "Epoch [1/10],Train Loss: 0.7564, Valid Loss: 0.69346415\n",
            "Starting epoch 2\n",
            "Epoch [2/10],Train Loss: 0.6855, Valid Loss: 0.74093058\n",
            "Starting epoch 3\n",
            "Epoch [3/10],Train Loss: 0.6731, Valid Loss: 0.70376539\n",
            "Starting epoch 4\n",
            "Epoch [4/10],Train Loss: 0.6493, Valid Loss: 0.71242004\n",
            "Starting epoch 5\n",
            "Epoch [5/10],Train Loss: 0.6704, Valid Loss: 0.77730937\n",
            "Starting epoch 6\n",
            "Epoch [6/10],Train Loss: 0.6548, Valid Loss: 0.70784288\n",
            "Starting epoch 7\n",
            "Epoch [7/10],Train Loss: 0.6515, Valid Loss: 0.74723468\n",
            "Starting epoch 8\n",
            "Model saved to ==> ./gdrive/MyDrive/Datasets/LWF_DATASET/siamese_resnet50_lfw_cropped.pt\n",
            "Epoch [8/10],Train Loss: 0.6290, Valid Loss: 0.74409549\n",
            "Starting epoch 9\n",
            "Epoch [9/10],Train Loss: 0.6251, Valid Loss: 0.79752290\n",
            "Starting epoch 10\n",
            "Epoch [10/10],Train Loss: 0.6397, Valid Loss: 0.94868943\n",
            "Training completed.\n"
          ],
          "name": "stdout"
        },
        {
          "output_type": "display_data",
          "data": {
            "image/png": "[encoded data removed]",
            "text/plain": [
              "<Figure size 432x288 with 1 Axes>"
            ]
          },
          "metadata": {
            "tags": [],
            "needs_background": "light"
          }
        }
      ]
    },
    {
      "cell_type": "code",
      "metadata": {
        "id": "yrF3rpdfmLZP",
        "colab": {
          "base_uri": "https://localhost:8080/",
          "height": 279
        },
        "outputId": "44c971d6-2d85-4b93-8937-63816e36c6a5"
      },
      "source": [
        "#plotting of training and validation loss                          ########################### \n",
        "plt.xlabel('epoch')\n",
        "plt.ylabel('loss')\n",
        "plt.plot(train_loss_his, label='Train Loss')\n",
        "plt.plot(val_loss_his, label=\"Validation Loss\")\n",
        "plt.legend(bbox_to_anchor=(1.05, 1.0), loc='upper left')\n",
        "plt.show()"
      ],
      "execution_count": null,
      "outputs": [
        {
          "output_type": "display_data",
          "data": {
            "image/png": "[encoded data removed]",
            "text/plain": [
              "<Figure size 432x288 with 1 Axes>"
            ]
          },
          "metadata": {
            "tags": [],
            "needs_background": "light"
          }
        }
      ]
    },
    {
      "cell_type": "code",
      "metadata": {
        "id": "zjHc6XQcmLbR",
        "colab": {
          "base_uri": "https://localhost:8080/",
          "height": 279
        },
        "outputId": "22138a68-ce04-47c1-ffc2-2fdabb6a8b42"
      },
      "source": [
        "#plotting of training and validation loss                          ########################### \n",
        "plt.xlabel('epoch')\n",
        "plt.ylabel('valid_acc')\n",
        "plt.plot(validation_accu, label='valid acc')\n",
        "plt.legend(bbox_to_anchor=(1.05, 1.0), loc='upper left')\n",
        "plt.show()"
      ],
      "execution_count": null,
      "outputs": [
        {
          "output_type": "display_data",
          "data": {
            "image/png": "[encoded data removed]",
            "text/plain": [
              "<Figure size 432x288 with 1 Axes>"
            ]
          },
          "metadata": {
            "tags": [],
            "needs_background": "light"
          }
        }
      ]
    },
    {
      "cell_type": "code",
      "metadata": {
        "id": "X3hejChFmLdi"
      },
      "source": [
        "def test(model,test_loader):\n",
        "    with torch.no_grad():\n",
        "      model.eval()\n",
        "      correct=0\n",
        "      cnt=0\n",
        "      print(\"strating testing:\")        \n",
        "      for i,data in enumerate(test_loader,0):\n",
        "        imgs1,imgs2,labels=data\n",
        "        \n",
        "        imgs1=imgs1.to(device=device, dtype=torch.float)\n",
        "        imgs2=imgs2.to(device=device, dtype=torch.float)\n",
        "        labels=labels.to(device=device, dtype=torch.float)\n",
        "\n",
        "        outputs=model(imgs1,imgs2)\n",
        "        # test accuracy calc\n",
        "        outputs=outputs.to(device=device, dtype=torch.float)\n",
        "        for j,op in enumerate(outputs,0):\n",
        "          cnt+=1\n",
        "          if(op[0]<0.5):\n",
        "            #0 predicted\n",
        "            if labels[j]==0:           ###########\n",
        "              correct+=1\n",
        "          else:\n",
        "            # 1 predicted\n",
        "            if labels[j]==1:\n",
        "              correct+=1\n",
        "    test_accuracy= correct/cnt\n",
        "\n",
        "    return test_accuracy\n"
      ],
      "execution_count": null,
      "outputs": []
    },
    {
      "cell_type": "code",
      "metadata": {
        "id": "Y4FC9a6zmLhw"
      },
      "source": [
        "root_path_to_saved_models='./gdrive/MyDrive/Datasets/LWF_DATASET/'\n",
        "path_to_model_from_saved_model_dir=model_name\n",
        "path_to_chosen_model= os.path.join(root_path_to_saved_models,path_to_model_from_saved_model_dir)\n",
        "# print(path_to_chosen_model )"
      ],
      "execution_count": null,
      "outputs": []
    },
    {
      "cell_type": "code",
      "metadata": {
        "id": "04jhcu5Qlzw7",
        "colab": {
          "base_uri": "https://localhost:8080/"
        },
        "outputId": "012e0cf1-065d-4f14-d17a-370fbfbd9b63"
      },
      "source": [
        "load_model=Net().to(device)\n",
        "load_optimizer=optim.Adam(load_model.fc.parameters(),lr=0.001)                  #######################################????????/\n",
        "mx_val_acc=load_checkpoint(load_model,load_optimizer,path_to_chosen_model)\n",
        "\n",
        "transform = transform = transforms.Compose([transforms.ToTensor(),\n",
        "                                 transforms.Normalize((0.5, 0.5, 0.5), (0.5, 0.5, 0.5))])\n",
        "\n",
        "\n",
        "test_set= LFW(path_to_img_dir,test_txt_path,transform)\n",
        "test_loader= DataLoader(test_set,batch_size=1,num_workers=2)\n",
        "\n",
        "train_accuracy= test(load_model,train_loader)\n",
        "test_accuracy=test(load_model,test_loader)\n",
        "\n",
        "\n",
        "print(\"Train accuracy is: \",100*train_accuracy)\n",
        "print(\"Max val accuracy during training: \",100*mx_val_acc)\n",
        "print(\"Test accuracy is: \",100*test_accuracy)"
      ],
      "execution_count": null,
      "outputs": [
        {
          "output_type": "stream",
          "text": [
            "Model loaded from <== ./gdrive/MyDrive/Datasets/LWF_DATASET/siamese_resnet50_lfw_cropped.pt\n",
            "strating testing:\n",
            "strating testing:\n",
            "Train accuracy is:  64.33155080213903\n",
            "Max val accuracy during training:  54.54545454545454\n",
            "Test accuracy is:  53.0\n"
          ],
          "name": "stdout"
        }
      ]
    },
    {
      "cell_type": "markdown",
      "metadata": {
        "id": "yigxBpbRmdBx"
      },
      "source": [
        "DONE :)"
      ]
    }
  ]
}