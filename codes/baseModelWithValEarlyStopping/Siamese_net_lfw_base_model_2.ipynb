{
  "nbformat": 4,
  "nbformat_minor": 0,
  "metadata": {
    "colab": {
      "name": "Siamese_net_lfw_base_model_2.ipynb",
      "provenance": [],
      "collapsed_sections": []
    },
    "kernelspec": {
      "name": "python3",
      "display_name": "Python 3"
    },
    "language_info": {
      "name": "python"
    },
    "accelerator": "GPU"
  },
  "cells": [
    {
      "cell_type": "code",
      "metadata": {
        "colab": {
          "base_uri": "https://localhost:8080/"
        },
        "id": "vlkQ--zkOiUP",
        "outputId": "1f3fd57b-3bd9-486b-e733-5ff8e6c1ca69"
      },
      "source": [
        "from google.colab import drive\n",
        "drive.mount('/content/gdrive')"
      ],
      "execution_count": 1,
      "outputs": [
        {
          "output_type": "stream",
          "text": [
            "Mounted at /content/gdrive\n"
          ],
          "name": "stdout"
        }
      ]
    },
    {
      "cell_type": "code",
      "metadata": {
        "id": "gArU4hhDOr2w"
      },
      "source": [
        "!unzip gdrive/My\\ Drive/Datasets/LWF_DATASET/lfw.zip"
      ],
      "execution_count": null,
      "outputs": []
    },
    {
      "cell_type": "code",
      "metadata": {
        "id": "x9ZY1WWGPCgM"
      },
      "source": [
        "import torch\n",
        "import os\n",
        "import cv2\n",
        "import random\n",
        "import matplotlib.pyplot as plt\n",
        "import numpy as np\n",
        "import torch.nn as nn\n",
        "from torch.utils.data import Dataset, DataLoader,random_split\n",
        "import torchvision.transforms as transforms\n",
        "import torch.autograd as Variable\n",
        "import torch.optim as optim"
      ],
      "execution_count": 3,
      "outputs": []
    },
    {
      "cell_type": "code",
      "metadata": {
        "id": "9qO7yfi_OuUk"
      },
      "source": [
        "path_lfw_folder='./gdrive/MyDrive/Datasets/LWF_DATASET'"
      ],
      "execution_count": 4,
      "outputs": []
    },
    {
      "cell_type": "code",
      "metadata": {
        "id": "oYebqhEsQCEp"
      },
      "source": [
        "def count_parameters(model):\n",
        "    temp = sum(p.numel() for p in model.parameters() if p.requires_grad)\n",
        "    print(f'The model architecture:\\n\\n', model)\n",
        "    print(f'\\nThe model has {temp:,} trainable parameters')\n",
        "\n",
        "def save_checkpoint(save_path, model, optimizer, val_acc):\n",
        "    if save_path==None:\n",
        "        return\n",
        "    save_path = save_path \n",
        "    state_dict = {'model_state_dict': model.state_dict(),                    \n",
        "                  'optimizer_state_dict': optimizer.state_dict(),\n",
        "                  'val_accuracy': val_acc}\n",
        "\n",
        "    torch.save(state_dict, save_path)\n",
        "\n",
        "    print(f'Model saved to ==> {save_path}')\n",
        "\n",
        "def load_checkpoint(model, optimizer,save_path):\n",
        "    # save_path = f'siameseNet-batchnorm50.pt'\n",
        "    state_dict = torch.load(save_path)\n",
        "    model.load_state_dict(state_dict['model_state_dict'])\n",
        "    optimizer.load_state_dict(state_dict['optimizer_state_dict'])\n",
        "    val_acc = state_dict['val_accuracy']\n",
        "    print(f'Model loaded from <== {save_path}')\n",
        "    \n",
        "    return val_acc"
      ],
      "execution_count": 5,
      "outputs": []
    },
    {
      "cell_type": "code",
      "metadata": {
        "id": "QoAX3Ml3OuW7"
      },
      "source": [
        "class LFW(Dataset):\n",
        "  def __init__(self,root_dir,txt_path,transforms1,transforms2):  ######### \n",
        "    self.transform1=transform1\n",
        "    self.transform2=transform2\n",
        "    self.root_dir=root_dir\n",
        "\n",
        "    with open(txt_path) as f:\n",
        "      lines=f.readlines()\n",
        "\n",
        "      self.pair_imgs_label=[ line.split() for line in lines]\n",
        "\n",
        "  def __len__(self):\n",
        "    return len(self.pair_imgs_label)\n",
        "\n",
        "  def __getitem__(self,idx):\n",
        "    img1_path=os.path.join(self.root_dir,self.pair_imgs_label[idx][0])\n",
        "    img2_path=os.path.join(self.root_dir,self.pair_imgs_label[idx][1])\n",
        "    label= float(self.pair_imgs_label[idx][2])\n",
        "    \n",
        "    img1=cv2.imread(img1_path)\n",
        "    img1=img1.astype(np.float)/255                                   #\n",
        "    img1=cv2.resize(img1,(128,128),interpolation=cv2.INTER_AREA)\n",
        "    img1=self.transform1(img1)\n",
        "    \n",
        "    img2=cv2.imread(img2_path)\n",
        "    img2=img2.astype(np.float)/255\n",
        "    img2=cv2.resize(img2,(128,128),interpolation=cv2.INTER_AREA)\n",
        "    img2=self.transform1(img2)\n",
        "    \n",
        "    return img1,img2,torch.from_numpy(np.array([label], dtype=np.float32))"
      ],
      "execution_count": 6,
      "outputs": []
    },
    {
      "cell_type": "code",
      "metadata": {
        "id": "aNMy3tsoOubb"
      },
      "source": [
        "class Rescale(object):                                          ###################################\n",
        "    def __call__(self, img):\n",
        "        if random.random()<0.7:\n",
        "            f = round(0.1*random.randint(7, 13),2)\n",
        "            if f>1:\n",
        "                img = cv2.resize(img,None,fx=f, fy=f, interpolation = cv2.INTER_CUBIC)\n",
        "                a = int(round((f*128-128)/2))\n",
        "                img = img[a:a+128,a:a+128]\n",
        "            else:\n",
        "                img = cv2.resize(img,None,fx=f, fy=f, interpolation = cv2.INTER_AREA)\n",
        "                a= int(round((128-f*128)/2))\n",
        "                temp=np.zeros([128,128,3],dtype=np.uint8)\n",
        "                temp.fill(0) \n",
        "                for i in range(img.shape[0]):\n",
        "                    for j in range(img.shape[1]):\n",
        "                        temp[i+a,j+a]=img[i,j]\n",
        "                img=temp\n",
        "        return img\n",
        "\n",
        "class Flip(object):\n",
        "    def __call__(self,img):\n",
        "        if random.random()<0.7:\n",
        "            return cv2.flip(img,1)\n",
        "        return img\n",
        "        \n",
        "class Rotate(object):\n",
        "    def __call__(self,img):\n",
        "        if random.random()<0.7:\n",
        "            angle=random.random()*60-30\n",
        "            rows,cols,cn = img.shape\n",
        "            M = cv2.getRotationMatrix2D((cols/2,rows/2),angle,1)\n",
        "            img = cv2.warpAffine(img,M,(cols,rows))\n",
        "            return img\n",
        "        return img\n",
        "\n",
        "class Translate(object):\n",
        "    def __call__(self,img):\n",
        "        if random.random()<0.7:\n",
        "            x=random.random()*20-10\n",
        "            y=random.random()*20-10\n",
        "            rows,cols,cn = img.shape\n",
        "            M= np.float32([[1,0,x],[0,1,y]])\n",
        "            img = cv2.warpAffine(img,M,(cols,rows))\n",
        "        return img"
      ],
      "execution_count": 7,
      "outputs": []
    },
    {
      "cell_type": "code",
      "metadata": {
        "id": "dkCaQ98xOud2"
      },
      "source": [
        "class Net(nn.Module):\n",
        "  def __init__(self):\n",
        "    super(Net,self).__init__()\n",
        "    \n",
        "    self.conv1 = nn.Sequential(\n",
        "        # input = 3*128*128\n",
        "        nn.Conv2d(3,24,5,1,2),\n",
        "        # output= 24*128*128\n",
        "        nn.ReLU(),\n",
        "        nn.BatchNorm2d(24),\n",
        "        # input = 24*128*128\n",
        "        nn.MaxPool2d(3,2),\n",
        "        # output = 24*63*63\n",
        "        )\n",
        "    self.conv2 = nn.Sequential(\n",
        "        # input = 24*63*63\n",
        "        nn.Conv2d(24,48,5,1,2),\n",
        "        # output = 48*63*63\n",
        "        nn.ReLU(),\n",
        "        nn.BatchNorm2d(48),\n",
        "        # input = 48*63*63\n",
        "        nn.MaxPool2d(3,2),\n",
        "        # output= 48*31*31\n",
        "        )\n",
        "    self.conv3 = nn.Sequential(\n",
        "        # input = 48*31*31\n",
        "        nn.Conv2d(48,128,3,2),\n",
        "        # output= 128*15*15\n",
        "        nn.ReLU(),\n",
        "        nn.BatchNorm2d(128),\n",
        "        )\n",
        "    self.conv4 =nn.Sequential(\n",
        "        # input = 128*15*15\n",
        "        nn.Conv2d(128,192,3,1),\n",
        "        # input = 192*13*13\n",
        "        nn.ReLU(),\n",
        "        nn.BatchNorm2d(192),\n",
        "        )\n",
        "    self.conv5 =nn.Sequential(\n",
        "        # input = 192*13*13\n",
        "        nn.Conv2d(192,128,3,1),\n",
        "        # input = 128*11*11\n",
        "        nn.ReLU(),\n",
        "        nn.BatchNorm2d(128),\n",
        "        )\n",
        "    # self.fc1_sim = nn.Sequential(\n",
        "    #     nn.Linear(128*11*11,4096),\n",
        "    #     nn.Sigmoid(),\n",
        "    #     )   \n",
        "    # self.fc2_sim = nn.Sequential(\n",
        "    #     nn.Linear(4096,1),\n",
        "    #     )\n",
        "    self.fc1= nn.Sequential(\n",
        "        nn.Linear(128*11*11,1024),\n",
        "        nn.ReLU(),\n",
        "        nn.BatchNorm1d(1024),\n",
        "    )\n",
        "    self.fc2= nn.Sequential(\n",
        "        nn.Linear(2048,1),\n",
        "        nn.Sigmoid(),\n",
        "    )\n",
        "\n",
        "  def convs(self,x):\n",
        "    x=self.conv1(x)\n",
        "    x=self.conv2(x)\n",
        "    x=self.conv3(x)\n",
        "    x=self.conv4(x)\n",
        "    x=self.conv5(x)\n",
        "    x=x.view(-1,128*11*11)\n",
        "    x=self.fc1(x)\n",
        "    return x\n",
        "\n",
        "  def forward(self,x1,x2):\n",
        "    x1= self.convs(x1)\n",
        "    x2= self.convs(x2)\n",
        "\n",
        "    x=torch.cat((x1,x2),1)\n",
        "    x=self.fc2(x)\n",
        "\n",
        "    # For distance function method\n",
        "    # x=torch.abs(x1-x2)\n",
        "    # x= self.fc2(x)\n",
        "\n",
        "    return x"
      ],
      "execution_count": 8,
      "outputs": []
    },
    {
      "cell_type": "code",
      "metadata": {
        "id": "X_jakR17OugO"
      },
      "source": [
        "def train(model,train_loader,val_loader,num_epochs,criterion,save_name):\n",
        "  train_losses=[]\n",
        "  val_losses=[]\n",
        "  mx_val_accuracy=-1\n",
        "  for epoch in range(num_epochs):\n",
        "    running_loss=0.0\n",
        "    print(\"Starting epoch \" + str(epoch+1))\n",
        "    model.train()\n",
        "    for i,data in enumerate(train_loader,0):\n",
        "      imgs1,imgs2,labels=data\n",
        "      \n",
        "      imgs1=imgs1.to(device=device, dtype=torch.float)\n",
        "      imgs2=imgs2.to(device=device, dtype=torch.float)\n",
        "      labels=labels.to(device=device, dtype=torch.float)\n",
        "\n",
        "      optimizer.zero_grad()\n",
        "      outputs=model(imgs1,imgs2)\n",
        "      loss=criterion(outputs,labels)\n",
        "      loss.backward()\n",
        "      optimizer.step()\n",
        "\n",
        "      running_loss+=loss.item()\n",
        "\n",
        "    avg_train_loss = running_loss / len(train_loader)\n",
        "    train_losses.append(avg_train_loss)\n",
        "\n",
        "    val_running_loss=0.0                                                            ########################### \n",
        "    correct=0\n",
        "    with torch.no_grad():\n",
        "      model.eval()\n",
        "      for i,data in enumerate(val_loader,0):\n",
        "        imgsV1,imgsV2,labelsV= data\n",
        "        \n",
        "        imgsV1=imgsV1.to(device=device, dtype=torch.float)\n",
        "        imgsV2=imgsV2.to(device=device, dtype=torch.float)\n",
        "        labelsV=labelsV.to(device=device, dtype=torch.float)\n",
        "\n",
        "        outputs=model(imgsV1,imgsV2)\n",
        "        loss=criterion(outputs,labelsV)\n",
        "\n",
        "        # val accuracy calc\n",
        "        outputs=outputs.to(device=device, dtype=torch.float)\n",
        "        \n",
        "        for j,op in enumerate(outputs,0):\n",
        "\n",
        "          if(op[0]<0.5):\n",
        "            #0 predicted\n",
        "            if labelsV[j]==0:           ###########\n",
        "              correct+=1\n",
        "          else:\n",
        "            # 1 predicted\n",
        "            if labelsV[j]==1:\n",
        "              correct+=1\n",
        "        val_running_loss+=loss.item()\n",
        "    val_accuracy= correct/len(val_loader)\n",
        "    avg_val_loss= val_running_loss/len(val_loader)\n",
        "    val_losses.append(avg_val_loss)\n",
        "    ## val acc\n",
        "    if mx_val_accuracy<val_accuracy:\n",
        "      mx_val_accuracy=val_accuracy\n",
        "      save_checkpoint(save_name, model, optimizer, mx_val_accuracy)\n",
        "\n",
        "    print('Epoch [{}/{}],Train Loss: {:.4f}, Valid Loss: {:.8f}'.format(epoch+1, num_epochs, avg_train_loss, avg_val_loss))\n",
        "  \n",
        "  print(\"Training completed.\")\n",
        "  \n",
        "  fig = plt.figure()\n",
        "  ax = plt.subplot(111)\n",
        "  ax.plot(train_losses)\n",
        "  ax.plot(val_losses)     ###############3\n",
        "  plt.xlabel('Steps')  \n",
        "  plt.ylabel('Loss')  \n",
        "  fig.savefig(os.path.join(path_lfw_folder,'Loss_Steps.png')) \n",
        "\n",
        "  return train_losses,val_losses,mx_val_accuracy\n"
      ],
      "execution_count": null,
      "outputs": []
    },
    {
      "cell_type": "code",
      "metadata": {
        "id": "ApPk3m1wOuk3"
      },
      "source": [
        "transform1 = transforms.Compose([Rescale(),Flip(),Translate(),Rotate(),transforms.ToTensor(),\n",
        "                                 transforms.Normalize((0.5, 0.5, 0.5), (0.5, 0.5, 0.5))]) \n",
        "transform2 = transforms.Compose([Rescale(),Flip(),Translate(),Rotate(),transforms.ToTensor(),\n",
        "                                 transforms.Normalize((0.5, 0.5, 0.5), (0.5, 0.5, 0.5))])\n",
        "\n",
        "train_dataSize = 2200 # self-defined dataset size for training                                                               ########################### NEW\n",
        "TRAIN_PCT = 0.8 # percentage of entire dataset for training\n",
        "train_size = int(train_dataSize * TRAIN_PCT)\n",
        "val_size = train_dataSize - train_size   \n",
        "\n",
        "lfw_dataset = LFW('./lfw/lfw',os.path.join(path_lfw_folder,'lfw_train_pairs.txt'),transform1,transform2)                                 ###############\n",
        "\n",
        "train_set, val_set = random_split(lfw_dataset, [train_size, val_size])\n",
        "\n",
        "train_loader = DataLoader(train_set, batch_size=128 , num_workers=2)    # shuffle=true removed\n",
        "val_loader   = DataLoader(val_set, batch_size=1, shuffle=True, num_workers=2)"
      ],
      "execution_count": 9,
      "outputs": []
    },
    {
      "cell_type": "code",
      "metadata": {
        "id": "_rT2-GpdOune",
        "colab": {
          "base_uri": "https://localhost:8080/"
        },
        "outputId": "d0821e6a-a77a-4901-f745-fbf4b69642fe"
      },
      "source": [
        "if torch.cuda.is_available():\n",
        "  device='cuda:0'\n",
        "  print('Running on gpu')\n",
        "else:\n",
        "  device='cpu'\n",
        "  print('Running on cpu')\n",
        "\n",
        "# device = torch.device('cuda:0' if torch.cuda.is_available() else 'cpu')\n",
        "\n",
        "lr = 0.001  # 0.0006\n",
        "num_epoches = 20    # 50\n",
        "siameseBaseModel=Net()\n",
        "siameseBaseModel.to(device)\n",
        "\n",
        "optimizer = optim.Adam(siameseBaseModel.parameters(), lr)\n",
        "criterion = nn.BCELoss() \n",
        "save_path=os.path.join(path_lfw_folder,'siameseBaseModel.pt')\n",
        "\n",
        "count_parameters(siameseBaseModel)"
      ],
      "execution_count": 10,
      "outputs": [
        {
          "output_type": "stream",
          "text": [
            "Running on gpu\n",
            "The model architecture:\n",
            "\n",
            " Net(\n",
            "  (conv1): Sequential(\n",
            "    (0): Conv2d(3, 24, kernel_size=(5, 5), stride=(1, 1), padding=(2, 2))\n",
            "    (1): ReLU()\n",
            "    (2): BatchNorm2d(24, eps=1e-05, momentum=0.1, affine=True, track_running_stats=True)\n",
            "    (3): MaxPool2d(kernel_size=3, stride=2, padding=0, dilation=1, ceil_mode=False)\n",
            "  )\n",
            "  (conv2): Sequential(\n",
            "    (0): Conv2d(24, 48, kernel_size=(5, 5), stride=(1, 1), padding=(2, 2))\n",
            "    (1): ReLU()\n",
            "    (2): BatchNorm2d(48, eps=1e-05, momentum=0.1, affine=True, track_running_stats=True)\n",
            "    (3): MaxPool2d(kernel_size=3, stride=2, padding=0, dilation=1, ceil_mode=False)\n",
            "  )\n",
            "  (conv3): Sequential(\n",
            "    (0): Conv2d(48, 128, kernel_size=(3, 3), stride=(2, 2))\n",
            "    (1): ReLU()\n",
            "    (2): BatchNorm2d(128, eps=1e-05, momentum=0.1, affine=True, track_running_stats=True)\n",
            "  )\n",
            "  (conv4): Sequential(\n",
            "    (0): Conv2d(128, 192, kernel_size=(3, 3), stride=(1, 1))\n",
            "    (1): ReLU()\n",
            "    (2): BatchNorm2d(192, eps=1e-05, momentum=0.1, affine=True, track_running_stats=True)\n",
            "  )\n",
            "  (conv5): Sequential(\n",
            "    (0): Conv2d(192, 128, kernel_size=(3, 3), stride=(1, 1))\n",
            "    (1): ReLU()\n",
            "    (2): BatchNorm2d(128, eps=1e-05, momentum=0.1, affine=True, track_running_stats=True)\n",
            "  )\n",
            "  (fc1): Sequential(\n",
            "    (0): Linear(in_features=15488, out_features=1024, bias=True)\n",
            "    (1): ReLU()\n",
            "    (2): BatchNorm1d(1024, eps=1e-05, momentum=0.1, affine=True, track_running_stats=True)\n",
            "  )\n",
            "  (fc2): Sequential(\n",
            "    (0): Linear(in_features=2048, out_features=1, bias=True)\n",
            "    (1): Sigmoid()\n",
            "  )\n",
            ")\n",
            "\n",
            "The model has 16,394,657 trainable parameters\n"
          ],
          "name": "stdout"
        }
      ]
    },
    {
      "cell_type": "code",
      "metadata": {
        "id": "EGCUCTW9Oup7",
        "colab": {
          "base_uri": "https://localhost:8080/",
          "height": 1000
        },
        "outputId": "8b21b318-c98c-4d58-d077-c98190f92f52"
      },
      "source": [
        "train_loss_his,val_loss_his,mx_val_accuracy_train=train(siameseBaseModel,train_loader,val_loader,num_epoches,criterion,save_path)"
      ],
      "execution_count": null,
      "outputs": [
        {
          "output_type": "stream",
          "text": [
            "Starting epoch 1\n",
            "Model saved to ==> ./gdrive/MyDrive/Datasets/LWF_DATASET/siameseBaseModel.pt\n",
            "Epoch [1/20],Train Loss: 1.1599, Valid Loss: 0.93893888\n",
            "Starting epoch 2\n",
            "Epoch [2/20],Train Loss: 0.7290, Valid Loss: 0.74010092\n",
            "Starting epoch 3\n",
            "Model saved to ==> ./gdrive/MyDrive/Datasets/LWF_DATASET/siameseBaseModel.pt\n",
            "Epoch [3/20],Train Loss: 0.7225, Valid Loss: 0.71418298\n",
            "Starting epoch 4\n",
            "Model saved to ==> ./gdrive/MyDrive/Datasets/LWF_DATASET/siameseBaseModel.pt\n",
            "Epoch [4/20],Train Loss: 0.7051, Valid Loss: 0.70032621\n",
            "Starting epoch 5\n",
            "Epoch [5/20],Train Loss: 0.6900, Valid Loss: 0.70537667\n",
            "Starting epoch 6\n",
            "Epoch [6/20],Train Loss: 0.6965, Valid Loss: 0.68552518\n",
            "Starting epoch 7\n",
            "Epoch [7/20],Train Loss: 0.6956, Valid Loss: 0.74143876\n",
            "Starting epoch 8\n",
            "Model saved to ==> ./gdrive/MyDrive/Datasets/LWF_DATASET/siameseBaseModel.pt\n",
            "Epoch [8/20],Train Loss: 0.6980, Valid Loss: 0.67731003\n",
            "Starting epoch 9\n",
            "Epoch [9/20],Train Loss: 0.6872, Valid Loss: 0.68714764\n",
            "Starting epoch 10\n",
            "Model saved to ==> ./gdrive/MyDrive/Datasets/LWF_DATASET/siameseBaseModel.pt\n",
            "Epoch [10/20],Train Loss: 0.6849, Valid Loss: 0.68823338\n",
            "Starting epoch 11\n",
            "Epoch [11/20],Train Loss: 0.7045, Valid Loss: 0.73465822\n",
            "Starting epoch 12\n",
            "Epoch [12/20],Train Loss: 0.6991, Valid Loss: 0.73144457\n",
            "Starting epoch 13\n",
            "Epoch [13/20],Train Loss: 0.6841, Valid Loss: 0.70074400\n",
            "Starting epoch 14\n",
            "Epoch [14/20],Train Loss: 0.6861, Valid Loss: 0.70486634\n",
            "Starting epoch 15\n",
            "Epoch [15/20],Train Loss: 0.6973, Valid Loss: 0.73244477\n",
            "Starting epoch 16\n",
            "Epoch [16/20],Train Loss: 0.6775, Valid Loss: 0.69808785\n",
            "Starting epoch 17\n",
            "Epoch [17/20],Train Loss: 0.6756, Valid Loss: 0.68752685\n",
            "Starting epoch 18\n",
            "Epoch [18/20],Train Loss: 0.6931, Valid Loss: 0.75165602\n",
            "Starting epoch 19\n",
            "Epoch [19/20],Train Loss: 0.6905, Valid Loss: 0.75536734\n",
            "Starting epoch 20\n",
            "Epoch [20/20],Train Loss: 0.6915, Valid Loss: 0.69848627\n",
            "Training completed.\n"
          ],
          "name": "stdout"
        },
        {
          "output_type": "display_data",
          "data": {
            "image/png": "[encoded data removed]",
            "text/plain": [
              "<Figure size 432x288 with 1 Axes>"
            ]
          },
          "metadata": {
            "tags": [],
            "needs_background": "light"
          }
        }
      ]
    },
    {
      "cell_type": "code",
      "metadata": {
        "id": "Q8AFaCB_OusO",
        "colab": {
          "base_uri": "https://localhost:8080/",
          "height": 279
        },
        "outputId": "b56476f8-f764-4f6a-f42a-7bdac995704c"
      },
      "source": [
        "#plotting of training and validation loss                          ########################### \n",
        "plt.xlabel('epoch')\n",
        "plt.ylabel('loss')\n",
        "plt.plot(train_loss_his, label='Train Loss')\n",
        "plt.plot(val_loss_his, label=\"Validation Loss\")\n",
        "plt.legend(bbox_to_anchor=(1.05, 1.0), loc='upper left')\n",
        "plt.show()"
      ],
      "execution_count": null,
      "outputs": [
        {
          "output_type": "display_data",
          "data": {
            "image/png": "[encoded data removed]",
            "text/plain": [
              "<Figure size 432x288 with 1 Axes>"
            ]
          },
          "metadata": {
            "tags": [],
            "needs_background": "light"
          }
        }
      ]
    },
    {
      "cell_type": "code",
      "metadata": {
        "id": "KwSSp5ylIxif"
      },
      "source": [
        "def test(model,test_loader):\n",
        "    with torch.no_grad():\n",
        "      model.eval()\n",
        "      correct=0\n",
        "      cnt=0\n",
        "      print(\"strating testing:\")        \n",
        "      for i,data in enumerate(test_loader,0):\n",
        "        imgs1,imgs2,labels=data\n",
        "        \n",
        "        imgs1=imgs1.to(device=device, dtype=torch.float)\n",
        "        imgs2=imgs2.to(device=device, dtype=torch.float)\n",
        "        labels=labels.to(device=device, dtype=torch.float)\n",
        "\n",
        "        outputs=model(imgs1,imgs2)\n",
        "        # test accuracy calc\n",
        "        outputs=outputs.to(device=device, dtype=torch.float)\n",
        "        for j,op in enumerate(outputs,0):\n",
        "          cnt+=1\n",
        "          if(op[0]<0.5):\n",
        "            #0 predicted\n",
        "            if labels[j]==0:           ###########\n",
        "              correct+=1\n",
        "          else:\n",
        "            # 1 predicted\n",
        "            if labels[j]==1:\n",
        "              correct+=1\n",
        "    test_accuracy= correct/cnt\n",
        "\n",
        "    return test_accuracy\n"
      ],
      "execution_count": 24,
      "outputs": []
    },
    {
      "cell_type": "code",
      "metadata": {
        "id": "o15zQFe87yfG"
      },
      "source": [
        "root_path_to_saved_models='./gdrive/MyDrive/Datasets/LWF_DATASET/models'\n",
        "path_to_model_from_saved_model_dir='Siamese_net_lfw_base_model_2_with_validation_early_stopping/siameseBaseModel.pt'\n",
        "path_to_chosen_model= os.path.join(root_path_to_saved_models,path_to_model_from_model_dir)\n",
        "# print(path_to_chosen_model )"
      ],
      "execution_count": 25,
      "outputs": []
    },
    {
      "cell_type": "code",
      "metadata": {
        "colab": {
          "base_uri": "https://localhost:8080/"
        },
        "id": "1ErIsSnWVO5V",
        "outputId": "596fa4d7-db3b-4260-8a63-dbbebeefbc21"
      },
      "source": [
        "load_model=Net().to(device)\n",
        "load_optimizer=optim.Adam(load_model.parameters(),lr=0.001)\n",
        "mx_val_acc=load_checkpoint(load_model,load_optimizer,path_to_chosen_model)\n",
        "\n",
        "transform1 = transforms.Compose([transforms.ToTensor(),transforms.Normalize((0.5, 0.5, 0.5), (0.5, 0.5, 0.5))]) \n",
        "transform2 = transforms.Compose([transforms.ToTensor(),transforms.Normalize((0.5, 0.5, 0.5), (0.5, 0.5, 0.5))])\n",
        "\n",
        "test_set= LFW('./lfw/lfw',os.path.join(path_lfw_folder,'lfw_test_pairs.txt'),transform1,transform2)\n",
        "test_loader= DataLoader(test_set,batch_size=8,num_workers=2)\n",
        "\n",
        "train_accuracy= test(load_model,train_loader)\n",
        "test_accuracy=test(load_model,test_loader)\n",
        "\n",
        "\n",
        "print(\"Train accuracy is: \",100*train_accuracy)\n",
        "print(\"Max val accuracy during training: \",100*mx_val_acc)\n",
        "print(\"Test accuracy is: \",100*test_accuracy)"
      ],
      "execution_count": 26,
      "outputs": [
        {
          "output_type": "stream",
          "text": [
            "Model loaded from <== ./gdrive/MyDrive/Datasets/LWF_DATASET/models/Siamese_net_lfw_base_model_2_with_validation_early_stopping/siameseBaseModel.pt\n",
            "strating testing:\n",
            "strating testing:\n",
            "Train accuracy is:  53.75\n",
            "Max val accuracy during training:  58.18181818181818\n",
            "Test accuracy is:  54.1\n"
          ],
          "name": "stdout"
        }
      ]
    }
  ]
}