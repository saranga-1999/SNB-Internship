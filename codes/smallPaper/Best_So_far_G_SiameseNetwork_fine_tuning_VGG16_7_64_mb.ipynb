{
  "nbformat": 4,
  "nbformat_minor": 0,
  "metadata": {
    "colab": {
      "name": "Best_So_far_G_SiameseNetwork_fine_tuning_VGG16_2.ipynb",
      "provenance": [],
      "collapsed_sections": []
    },
    "kernelspec": {
      "name": "python3",
      "display_name": "Python 3"
    },
    "language_info": {
      "name": "python"
    },
    "accelerator": "GPU"
  },
  "cells": [
    {
      "cell_type": "markdown",
      "metadata": {
        "id": "zHeHtMIY1EcB"
      },
      "source": [
        ""
      ]
    },
    {
      "cell_type": "markdown",
      "metadata": {
        "id": "qrRyyC9w6rC3"
      },
      "source": [
        "1. Epoch: 30\n",
        "2. Batch= 128\n",
        "3. lr= 0.000005\n",
        "4. choose threshold applied"
      ]
    },
    {
      "cell_type": "code",
      "metadata": {
        "colab": {
          "base_uri": "https://localhost:8080/"
        },
        "id": "XJAYF_ziWC25",
        "outputId": "2646455c-a303-4d89-992d-975b0ecfe955"
      },
      "source": [
        "from google.colab import drive\n",
        "drive.mount('/content/gdrive')"
      ],
      "execution_count": 1,
      "outputs": [
        {
          "output_type": "stream",
          "text": [
            "Mounted at /content/gdrive\n"
          ],
          "name": "stdout"
        }
      ]
    },
    {
      "cell_type": "code",
      "metadata": {
        "id": "Q930ElRIWHxK"
      },
      "source": [
        "# Import all the necessary Library \n",
        "import torchvision\n",
        "import torch.utils.data as utils\n",
        "from torchvision import datasets\n",
        "import torchvision.transforms as transforms\n",
        "from torch.utils.data import DataLoader,Dataset, random_split\n",
        "from torch.autograd import Variable\n",
        "import matplotlib.pyplot as plt\n",
        "import torchvision.utils\n",
        "import numpy as np\n",
        "import time\n",
        "import copy\n",
        "from torch.optim import lr_scheduler\n",
        "import os\n",
        "from PIL import Image\n",
        "import torch\n",
        "from torch.autograd import Variable\n",
        "import PIL.ImageOps    \n",
        "import torch.nn as nn\n",
        "from torch import optim\n",
        "import torch.nn.functional as F"
      ],
      "execution_count": 114,
      "outputs": []
    },
    {
      "cell_type": "code",
      "metadata": {
        "id": "hzf2TyS_WHzp"
      },
      "source": [
        "path_cropped_lfw_folder='./gdrive/MyDrive/Datasets/Cropped_lfw_correct'\n",
        "path_lfw_folder='./gdrive/MyDrive/Datasets'"
      ],
      "execution_count": 115,
      "outputs": []
    },
    {
      "cell_type": "code",
      "metadata": {
        "id": "njIOCHX7WH2B"
      },
      "source": [
        "def count_parameters(model):\n",
        "    temp = sum(p.numel() for p in model.parameters() if p.requires_grad)\n",
        "    print(f'The model architecture:\\n\\n', model)\n",
        "    print(f'\\nThe model has {temp:,} trainable parameters')\n",
        "\n",
        "def save_checkpoint(save_path, model, optimizer, val_acc):\n",
        "    if save_path==None:      \n",
        "        return\n",
        "    save_path = save_path \n",
        "    state_dict = {'model_state_dict': model.state_dict(),                    \n",
        "                  'optimizer_state_dict': optimizer.state_dict(),\n",
        "                  'val_accuracy': val_acc}\n",
        "\n",
        "    torch.save(state_dict, save_path)\n",
        "\n",
        "    print(f'Model saved to ==> {save_path}')\n",
        "\n",
        "def load_checkpoint(model, optimizer,save_path):\n",
        "    state_dict = torch.load(save_path)\n",
        "    model.load_state_dict(state_dict['model_state_dict'])\n",
        "    optimizer.load_state_dict(state_dict['optimizer_state_dict'])\n",
        "    val_acc = state_dict['val_accuracy']\n",
        "    print(f'Model loaded from <== {save_path}')\n",
        "    \n",
        "    return val_acc"
      ],
      "execution_count": 116,
      "outputs": []
    },
    {
      "cell_type": "code",
      "metadata": {
        "id": "9VcfVrN8WH4h"
      },
      "source": [
        "def imshow(img,text=None,should_save=False):\n",
        "    npimg = img.numpy()\n",
        "    plt.axis(\"off\")\n",
        "    if text:\n",
        "        plt.text(75, 8, text, style='italic',fontweight='bold',\n",
        "            bbox={'facecolor':'white', 'alpha':0.8, 'pad':10})\n",
        "    plt.imshow(np.transpose(npimg, (1, 2, 0)))\n",
        "    plt.show()    \n",
        "\n",
        "def show_plot(iteration,loss):\n",
        "    plt.plot(iteration,loss)\n",
        "    plt.show()"
      ],
      "execution_count": 117,
      "outputs": []
    },
    {
      "cell_type": "code",
      "metadata": {
        "id": "AWjKSDEOWM2K"
      },
      "source": [
        "class Config():\n",
        "    training_dir = \"./gdrive/MyDrive/Datasets/Cropped_lfw_correct\"\n",
        "    testing_dir = \"./gdrive/MyDrive/Datasets/Cropped_lfw_correct\"\n",
        "    validation_dir=\"./gdrive/MyDrive/Datasets/Cropped_lfw_correct\"\n",
        "    train_batch_size = 128\n",
        "    train_number_epochs = 30\n",
        "    training_txt=\"./gdrive/MyDrive/Datasets/LWF_DATASET/pairsDevTrainMod.txt\"\n",
        "    testing_txt=\"./gdrive/MyDrive/Datasets/LWF_DATASET/pairsDevValidMod.txt\""
      ],
      "execution_count": 153,
      "outputs": []
    },
    {
      "cell_type": "markdown",
      "metadata": {
        "id": "-PFi0BWa1DuM"
      },
      "source": [
        ""
      ]
    },
    {
      "cell_type": "code",
      "metadata": {
        "id": "Rcn6P6AFWM4i"
      },
      "source": [
        "class SiameseNetworkDataset():\n",
        "    \n",
        "    def __init__(self,training_txt=None,training_dir=None,transform=None):\n",
        "        self.training_dir = training_dir    \n",
        "        self.transform = transform\n",
        "        \n",
        "        with open(training_txt) as f:\n",
        "          lines=f.readlines()\n",
        "          self.training_pairs=[  line.split()       for line in lines  ] \n",
        "          for i in range(len(self.training_pairs)):\n",
        "            self.training_pairs[i][2]=int(self.training_pairs[i][2])\n",
        "            if self.training_pairs[i][2]==1:                                     # 0 for similar pairs and 1 for dissimilar pairs\n",
        "              self.training_pairs[i][2]=0\n",
        "            else:\n",
        "              self.training_pairs[i][2]=1   \n",
        "\n",
        "    def __getitem__(self,index):\n",
        "        \n",
        "        # getting the image path\n",
        "        image_pair= self.training_pairs[index]\n",
        "        image1_path=os.path.join(self.training_dir,image_pair[0])\n",
        "        image2_path=os.path.join(self.training_dir,image_pair[1])\n",
        "        \n",
        "        # Loading the image\n",
        "        img0 = Image.open(image1_path)\n",
        "        img1 = Image.open(image2_path)\n",
        "        \n",
        "        # Apply image transformations\n",
        "        if self.transform :\n",
        "            img0 = self.transform(img0)\n",
        "            img1 = self.transform(img1)\n",
        "        \n",
        "        return img0, img1 , torch.from_numpy(np.array([int( image_pair[2] )],dtype=np.float32))\n",
        "    \n",
        "    def __len__(self):\n",
        "        return len(self.training_pairs)"
      ],
      "execution_count": 154,
      "outputs": []
    },
    {
      "cell_type": "code",
      "metadata": {
        "id": "aOTIKuUlWM7J"
      },
      "source": [
        "class Identity(nn.Module):\n",
        "  def __init__(self):\n",
        "    super(Identity,self).__init__()\n",
        "  \n",
        "  def forward(self,x):\n",
        "    return x"
      ],
      "execution_count": 155,
      "outputs": []
    },
    {
      "cell_type": "code",
      "metadata": {
        "id": "Dto8QH1zWM95"
      },
      "source": [
        "class SiameseNetwork(nn.Module):           # ip=(128,128,3)\n",
        "  def __init__(self):\n",
        "    super(SiameseNetwork,self).__init__()\n",
        "\n",
        "    self.model_vgg16=torchvision.models.vgg16(pretrained=True)                         \n",
        "    \n",
        "    # make the grads off for earlier layers(0 to 23 layers)\n",
        "    frozen_layers=nn.Sequential(   *(list(self.model_vgg16.children())[0][0:24] )   ) \n",
        "    \n",
        "    for param in frozen_layers.parameters(): \n",
        "      param.requires_grad = False\n",
        "\n",
        "    # self.num_ftrs=self.model_vgg16.features.out_features\n",
        "  \n",
        "    self.model_vgg16.avgpool= Identity()\n",
        "\n",
        "    self.model_vgg16.classifier= nn.Sequential(\n",
        "        nn.Linear(512*4*4,512),   ### for 128,128,3  ip size\n",
        "        nn.ReLU(inplace=True),\n",
        "        nn.Linear(512,512),\n",
        "        nn.ReLU(inplace=True),\n",
        "        nn.Linear(512,512),\n",
        "        nn.ReLU(inplace=True)\n",
        "    )\n",
        "\n",
        "\n",
        "  def forward(self,x1,x2):\n",
        "    x1= self.model_vgg16(x1)            \n",
        "    x2= self.model_vgg16(x2)        \n",
        "    \n",
        "    return x1,x2"
      ],
      "execution_count": 156,
      "outputs": []
    },
    {
      "cell_type": "code",
      "metadata": {
        "id": "T_4qLZMVWNAZ"
      },
      "source": [
        "class ContrastiveLoss(torch.nn.Module):\n",
        "    \"\"\"\n",
        "    Contrastive loss function.\n",
        "    Based on: http://yann.lecun.com/exdb/publis/pdf/hadsell-chopra-lecun-06.pdf\n",
        "    \"\"\"\n",
        "\n",
        "    def __init__(self, margin=1.0):\n",
        "      super(ContrastiveLoss, self).__init__()\n",
        "      self.margin = margin\n",
        "\n",
        "    def forward(self, output1,output2, label):                                                \n",
        "      dist = F.pairwise_distance(output1, output2)\n",
        "      loss= torch.mean(  (1- label) * torch.pow(dist, 2) + (label) * torch.pow( torch.clamp(   self.margin - dist ,  min=0.0  ) , 2)   )\n",
        "      return loss"
      ],
      "execution_count": 157,
      "outputs": []
    },
    {
      "cell_type": "code",
      "metadata": {
        "colab": {
          "base_uri": "https://localhost:8080/"
        },
        "id": "HTowTfqJWNDV",
        "outputId": "cb12a328-3a10-4f30-f762-3b574669e761"
      },
      "source": [
        "if torch.cuda.is_available():\n",
        "  device='cuda:0'\n",
        "  print('Running on gpu')\n",
        "else:\n",
        "  device='cpu'\n",
        "  print('Running on cpu')"
      ],
      "execution_count": 158,
      "outputs": [
        {
          "output_type": "stream",
          "text": [
            "Running on gpu\n"
          ],
          "name": "stdout"
        }
      ]
    },
    {
      "cell_type": "code",
      "metadata": {
        "id": "00uzWqTPWNGG"
      },
      "source": [
        "# def calculate_accuracy(labels,preds):\n",
        "#   # preds is a 1 d tensor\n",
        "#   # labels is a (n,1) 2d array\n",
        "\n",
        "#   correct, total=0,0\n",
        "\n",
        "#   for i in range(len(labels)):\n",
        "#     total+=1\n",
        "#     if preds[i]<0.5:  \n",
        "#       # similar predicted\n",
        "#       if labels[i][0]==0.0:\n",
        "#         correct+=1\n",
        "#     else:\n",
        "#       # different predicted\n",
        "#       if labels[i][0]==1.0:\n",
        "#         correct+=1\n",
        "#   return total,correct\n",
        "def calculate_accuracy(labels,preds,threshold=0.5):\n",
        "  # preds is a 1 d tensor\n",
        "  # labels is a (n,1) 2d array\n",
        "\n",
        "  correct, total=0,0\n",
        "\n",
        "  for i in range(len(labels)):\n",
        "    total+=1\n",
        "    if preds[i]<threshold:  \n",
        "      # similar predicted\n",
        "      if labels[i][0]==0.0:\n",
        "        correct+=1\n",
        "    else:\n",
        "      # different predicted\n",
        "      if labels[i][0]==1.0:\n",
        "        correct+=1\n",
        "  return total,correct\n"
      ],
      "execution_count": 159,
      "outputs": []
    },
    {
      "cell_type": "code",
      "metadata": {
        "id": "fIIqJ1dzWNIy"
      },
      "source": [
        "# def train(model,train_loader,val_loader,num_epochs,criterion,save_name,optimizer):\n",
        "#   train_losses=[]\n",
        "#   val_losses=[]\n",
        "#   valid_accuracy=[]\n",
        "#   mx_val_accuracy=-1\n",
        "#   counting_batches=0\n",
        "\n",
        "#   for epoch in range(num_epochs):\n",
        "\n",
        "#     running_loss, total_no_imgs = 0.0 , 0\n",
        "#     print(\"Starting epoch \" + str(epoch+1))\n",
        "#     model.train()\n",
        "\n",
        "#     counting_batches=0\n",
        "#     print(\"Starting training... \")\n",
        "#     for imgs1,imgs2,labels in train_loader:\n",
        "#       counting_batches+=1\n",
        "\n",
        "#       # print(\"Processing train batch no :\",counting_batches)\n",
        "\n",
        "#       imgs1=imgs1.to(device=device, dtype=torch.float)\n",
        "#       imgs2=imgs2.to(device=device, dtype=torch.float)\n",
        "#       labels=labels.to(device=device, dtype=torch.float)\n",
        "\n",
        "#       optimizer.zero_grad()\n",
        "      \n",
        "#       output1,output2=model(imgs1,imgs2)\n",
        "      \n",
        "#       # print(output1.size())\n",
        "#       # print(output2.size())\n",
        "\n",
        "#       loss=criterion(output1,output2,labels)                                 \n",
        "      \n",
        "#       # print(loss)\n",
        "#       # print(loss.item())\n",
        "      \n",
        "#       loss.backward()\n",
        "#       optimizer.step()\n",
        "\n",
        "#       total_no_imgs+= imgs1.size(0)\n",
        "#       running_loss+=loss.item()* imgs1.size(0)\n",
        "\n",
        "#     avg_train_loss = float(running_loss) /total_no_imgs  \n",
        "#     train_losses.append(avg_train_loss)               \n",
        "\n",
        "#     val_running_loss, correct, total_no_imgs=0.0, 0, 0                                                            \n",
        "#     print(\"Starting validation... \")\n",
        "#     counting_batches=0\n",
        "#     with torch.no_grad():\n",
        "#       model.eval()\n",
        "#       for i,data in enumerate(val_loader,0):\n",
        "#         counting_batches+=1\n",
        "#         # print(\"Processing val batch no :\",counting_batches)\n",
        "\n",
        "#         imgsV1,imgsV2,labelsV= data\n",
        "        \n",
        "#         imgsV1=imgsV1.to(device=device, dtype=torch.float)\n",
        "#         imgsV2=imgsV2.to(device=device, dtype=torch.float)\n",
        "#         labelsV=labelsV.to(device=device, dtype=torch.float)\n",
        "\n",
        "#         outputV1, outputV2 = model(imgsV1,imgsV2)\n",
        "        \n",
        "#         lossV= criterion(outputV1, outputV2,labelsV)\n",
        "        \n",
        "#         val_running_loss+=lossV.item()*imgsV1.size(0)\n",
        "\n",
        "#         # val accuracy calc \n",
        "#         outputV1=outputV1.to(device=device, dtype=torch.float)\n",
        "#         outputV2=outputV2.to(device=device, dtype=torch.float)\n",
        "\n",
        "#         dist = F.pairwise_distance(outputV1, outputV2)     # dist will be a 1d array with each element representing dist for each pair  \n",
        "\n",
        "#         noImg,noCrt= calculate_accuracy(labelsV,dist)\n",
        "#         total_no_imgs+=noImg\n",
        "#         correct+=noCrt\n",
        "        \n",
        "#     val_accuracy= float(correct)/total_no_imgs\n",
        "#     valid_accuracy.append(val_accuracy)\n",
        "    \n",
        "#     avg_val_loss= float(val_running_loss)/total_no_imgs\n",
        "#     val_losses.append(avg_val_loss)\n",
        "    \n",
        "#     ## val acc\n",
        "#     if mx_val_accuracy<val_accuracy:\n",
        "#       mx_val_accuracy=val_accuracy\n",
        "#       save_checkpoint(save_name, model, optimizer, mx_val_accuracy)\n",
        "\n",
        "#     print('Epoch [{}/{}],Train Loss: {:.4f}, Valid Loss: {:.8f}'.format(epoch+1, num_epochs, avg_train_loss, avg_val_loss))\n",
        "  \n",
        "#   print(\"Training completed.\")\n",
        "  \n",
        "#   fig = plt.figure()\n",
        "#   ax = plt.subplot(111)\n",
        "#   ax.plot(train_losses)\n",
        "#   ax.plot(val_losses)    \n",
        "#   plt.xlabel('Steps')  \n",
        "#   plt.ylabel('Loss')  \n",
        "#   fig.savefig(os.path.join(path_lfw_folder,'Loss_Steps.png')) \n",
        "\n",
        "#   return train_losses,val_losses,mx_val_accuracy,valid_accuracy\n"
      ],
      "execution_count": 160,
      "outputs": []
    },
    {
      "cell_type": "code",
      "metadata": {
        "id": "z_I877xP3jJS"
      },
      "source": [
        "def train(model,train_loader,val_loader,num_epochs,criterion,save_name,optimizer):\n",
        "  train_losses=[]\n",
        "  val_losses=[]\n",
        "  valid_accuracy=[]\n",
        "  mx_val_accuracy=-1\n",
        "  counting_batches=0\n",
        "\n",
        "  for epoch in range(num_epochs):\n",
        "\n",
        "    running_loss, total_no_imgs = 0.0 , 0\n",
        "    print(\"Starting epoch \" + str(epoch+1))\n",
        "    model.train()\n",
        "\n",
        "    counting_batches=0\n",
        "    print(\"Starting training... \")\n",
        "    for imgs1,imgs2,labels in train_loader:\n",
        "      counting_batches+=1\n",
        "\n",
        "      # print(\"Processing train batch no :\",counting_batches)\n",
        "\n",
        "      imgs1=imgs1.to(device=device, dtype=torch.float)\n",
        "      imgs2=imgs2.to(device=device, dtype=torch.float)\n",
        "      labels=labels.to(device=device, dtype=torch.float)\n",
        "\n",
        "      optimizer.zero_grad()\n",
        "      \n",
        "      output1,output2=model(imgs1,imgs2)\n",
        "      \n",
        "      # print(output1.size())\n",
        "      # print(output2.size())\n",
        "\n",
        "      loss=criterion(output1,output2,labels)                                 \n",
        "      \n",
        "      # print(loss)\n",
        "      # print(loss.item())\n",
        "      \n",
        "      loss.backward()\n",
        "      optimizer.step()\n",
        "\n",
        "      total_no_imgs+= imgs1.size(0)\n",
        "      running_loss+=loss.item()* imgs1.size(0)\n",
        "\n",
        "    avg_train_loss = float(running_loss) /total_no_imgs  \n",
        "    train_losses.append(avg_train_loss)               \n",
        "\n",
        "    val_running_loss, correct, total_no_imgs=0.0, 0, 0                                                            \n",
        "    print(\"Starting validation... \")\n",
        "    counting_batches=0\n",
        "    with torch.no_grad():\n",
        "      model.eval()\n",
        "      for i,data in enumerate(val_loader,0):\n",
        "        counting_batches+=1\n",
        "        # print(\"Processing val batch no :\",counting_batches)\n",
        "\n",
        "        imgsV1,imgsV2,labelsV= data\n",
        "        \n",
        "        imgsV1=imgsV1.to(device=device, dtype=torch.float)\n",
        "        imgsV2=imgsV2.to(device=device, dtype=torch.float)\n",
        "        labelsV=labelsV.to(device=device, dtype=torch.float)\n",
        "\n",
        "        outputV1, outputV2 = model(imgsV1,imgsV2)\n",
        "        \n",
        "        lossV= criterion(outputV1, outputV2,labelsV)\n",
        "        \n",
        "        val_running_loss+=lossV.item()*imgsV1.size(0)\n",
        "\n",
        "        # val accuracy calc \n",
        "        outputV1=outputV1.to(device=device, dtype=torch.float)\n",
        "        outputV2=outputV2.to(device=device, dtype=torch.float)\n",
        "\n",
        "        dist = F.pairwise_distance(outputV1, outputV2)     # dist will be a 1d array with each element representing dist for each pair  \n",
        "\n",
        "        noImg,noCrt= calculate_accuracy(labelsV,dist)\n",
        "        total_no_imgs+=noImg\n",
        "        correct+=noCrt\n",
        "        \n",
        "    val_accuracy= float(correct)/total_no_imgs\n",
        "    valid_accuracy.append(val_accuracy)\n",
        "    \n",
        "    avg_val_loss= float(val_running_loss)/total_no_imgs\n",
        "    val_losses.append(avg_val_loss)\n",
        "    \n",
        "    ## val acc\n",
        "    if mx_val_accuracy<val_accuracy:\n",
        "      mx_val_accuracy=val_accuracy\n",
        "      save_checkpoint(save_name, model, optimizer, mx_val_accuracy)\n",
        "\n",
        "    print('Epoch [{}/{}],Train Loss: {:.4f}, Valid Loss: {:.8f}'.format(epoch+1, num_epochs, avg_train_loss, avg_val_loss))\n",
        "  \n",
        "  print(\"Training completed.\")\n",
        "  \n",
        "  fig = plt.figure()\n",
        "  ax = plt.subplot(111)\n",
        "  ax.plot(train_losses)\n",
        "  ax.plot(val_losses)    \n",
        "  plt.xlabel('Steps')  \n",
        "  plt.ylabel('Loss')  \n",
        "  fig.savefig(os.path.join(path_lfw_folder,'Loss_Steps.png')) \n",
        "\n",
        "  return model,train_losses,val_losses,mx_val_accuracy,valid_accuracy\n"
      ],
      "execution_count": 161,
      "outputs": []
    },
    {
      "cell_type": "code",
      "metadata": {
        "id": "o6ZaOdqiWNL1"
      },
      "source": [
        "\n",
        "train_dataSize = 2200                                                               \n",
        "TRAIN_PCT = 0.8 \n",
        "train_size = int(train_dataSize * TRAIN_PCT)\n",
        "val_size = train_dataSize - train_size   \n",
        "\n",
        "siamese_dataset = SiameseNetworkDataset(Config().training_txt,Config().training_dir,\n",
        "                                        transform=transforms.Compose([transforms.Resize(( 128,128 )),\n",
        "                                                                      transforms.ToTensor()\n",
        "                                                                      ])\n",
        "                                       )\n",
        "\n",
        "train_set, val_set = random_split(siamese_dataset, [train_size, val_size])\n",
        "\n",
        "\n",
        "train_loader = DataLoader(train_set, shuffle=True,batch_size=Config().train_batch_size , num_workers=2)    \n",
        "val_loader   = DataLoader(val_set, shuffle=True, batch_size=1,  num_workers=2)\n"
      ],
      "execution_count": 162,
      "outputs": []
    },
    {
      "cell_type": "code",
      "metadata": {
        "colab": {
          "base_uri": "https://localhost:8080/",
          "height": 382
        },
        "id": "cAdxE9wbWH61",
        "outputId": "cd057d9f-42e3-4834-a727-0c5941b0e025"
      },
      "source": [
        "# Viewing the sample of images and to check whether its loading properly\n",
        "vis_dataloader = DataLoader(siamese_dataset,\n",
        "                        shuffle=True,\n",
        "                        batch_size=8)\n",
        "dataiter = iter(vis_dataloader)\n",
        "\n",
        "\n",
        "example_batch = next(dataiter)\n",
        "concatenated = torch.cat((example_batch[0],example_batch[1]),0)\n",
        "imshow(torchvision.utils.make_grid(concatenated))\n",
        "print(example_batch[2].numpy())\n",
        "print(example_batch[2])\n"
      ],
      "execution_count": 163,
      "outputs": [
        {
          "output_type": "display_data",
          "data": {
            "image/png": "[encoded data removed]",
            "text/plain": [
              "<Figure size 432x288 with 1 Axes>"
            ]
          },
          "metadata": {
            "tags": [],
            "needs_background": "light"
          }
        },
        {
          "output_type": "stream",
          "text": [
            "[[1.]\n",
            " [1.]\n",
            " [0.]\n",
            " [1.]\n",
            " [1.]\n",
            " [1.]\n",
            " [1.]\n",
            " [1.]]\n",
            "tensor([[1.],\n",
            "        [1.],\n",
            "        [0.],\n",
            "        [1.],\n",
            "        [1.],\n",
            "        [1.],\n",
            "        [1.],\n",
            "        [1.]])\n"
          ],
          "name": "stdout"
        }
      ]
    },
    {
      "cell_type": "code",
      "metadata": {
        "colab": {
          "base_uri": "https://localhost:8080/"
        },
        "id": "9XFATCAqWH9r",
        "outputId": "6da55c5f-4a05-4bd1-f2bb-ab017f288b72"
      },
      "source": [
        "net = SiameseNetwork().cuda()\n",
        "\n",
        "criterion = ContrastiveLoss()\n",
        "\n",
        "optimizer = optim.Adam([\n",
        "                {'params': net.model_vgg16.features[24:31].parameters()},                       \n",
        "                {'params': net.model_vgg16.classifier.parameters()}\n",
        "            ], lr=0.000005)\n",
        "\n",
        "count_parameters(net)"
      ],
      "execution_count": 164,
      "outputs": [
        {
          "output_type": "stream",
          "text": [
            "The model architecture:\n",
            "\n",
            " SiameseNetwork(\n",
            "  (model_vgg16): VGG(\n",
            "    (features): Sequential(\n",
            "      (0): Conv2d(3, 64, kernel_size=(3, 3), stride=(1, 1), padding=(1, 1))\n",
            "      (1): ReLU(inplace=True)\n",
            "      (2): Conv2d(64, 64, kernel_size=(3, 3), stride=(1, 1), padding=(1, 1))\n",
            "      (3): ReLU(inplace=True)\n",
            "      (4): MaxPool2d(kernel_size=2, stride=2, padding=0, dilation=1, ceil_mode=False)\n",
            "      (5): Conv2d(64, 128, kernel_size=(3, 3), stride=(1, 1), padding=(1, 1))\n",
            "      (6): ReLU(inplace=True)\n",
            "      (7): Conv2d(128, 128, kernel_size=(3, 3), stride=(1, 1), padding=(1, 1))\n",
            "      (8): ReLU(inplace=True)\n",
            "      (9): MaxPool2d(kernel_size=2, stride=2, padding=0, dilation=1, ceil_mode=False)\n",
            "      (10): Conv2d(128, 256, kernel_size=(3, 3), stride=(1, 1), padding=(1, 1))\n",
            "      (11): ReLU(inplace=True)\n",
            "      (12): Conv2d(256, 256, kernel_size=(3, 3), stride=(1, 1), padding=(1, 1))\n",
            "      (13): ReLU(inplace=True)\n",
            "      (14): Conv2d(256, 256, kernel_size=(3, 3), stride=(1, 1), padding=(1, 1))\n",
            "      (15): ReLU(inplace=True)\n",
            "      (16): MaxPool2d(kernel_size=2, stride=2, padding=0, dilation=1, ceil_mode=False)\n",
            "      (17): Conv2d(256, 512, kernel_size=(3, 3), stride=(1, 1), padding=(1, 1))\n",
            "      (18): ReLU(inplace=True)\n",
            "      (19): Conv2d(512, 512, kernel_size=(3, 3), stride=(1, 1), padding=(1, 1))\n",
            "      (20): ReLU(inplace=True)\n",
            "      (21): Conv2d(512, 512, kernel_size=(3, 3), stride=(1, 1), padding=(1, 1))\n",
            "      (22): ReLU(inplace=True)\n",
            "      (23): MaxPool2d(kernel_size=2, stride=2, padding=0, dilation=1, ceil_mode=False)\n",
            "      (24): Conv2d(512, 512, kernel_size=(3, 3), stride=(1, 1), padding=(1, 1))\n",
            "      (25): ReLU(inplace=True)\n",
            "      (26): Conv2d(512, 512, kernel_size=(3, 3), stride=(1, 1), padding=(1, 1))\n",
            "      (27): ReLU(inplace=True)\n",
            "      (28): Conv2d(512, 512, kernel_size=(3, 3), stride=(1, 1), padding=(1, 1))\n",
            "      (29): ReLU(inplace=True)\n",
            "      (30): MaxPool2d(kernel_size=2, stride=2, padding=0, dilation=1, ceil_mode=False)\n",
            "    )\n",
            "    (avgpool): Identity()\n",
            "    (classifier): Sequential(\n",
            "      (0): Linear(in_features=8192, out_features=512, bias=True)\n",
            "      (1): ReLU(inplace=True)\n",
            "      (2): Linear(in_features=512, out_features=512, bias=True)\n",
            "      (3): ReLU(inplace=True)\n",
            "      (4): Linear(in_features=512, out_features=512, bias=True)\n",
            "      (5): ReLU(inplace=True)\n",
            "    )\n",
            "  )\n",
            ")\n",
            "\n",
            "The model has 11,799,552 trainable parameters\n"
          ],
          "name": "stdout"
        }
      ]
    },
    {
      "cell_type": "code",
      "metadata": {
        "id": "doGkznTbWIAJ"
      },
      "source": [
        "save_path=os.path.join(path_lfw_folder,'siameseWithVGG16_best_val_acc.pt')"
      ],
      "execution_count": 165,
      "outputs": []
    },
    {
      "cell_type": "code",
      "metadata": {
        "colab": {
          "base_uri": "https://localhost:8080/"
        },
        "id": "SwotGHLh3dPK",
        "outputId": "32de70a2-1f40-4773-dd10-4261109c9b3b"
      },
      "source": [
        "longest_trained_model,train_loss_his,val_loss_his,mx_val_accuracy_train,validation_accu=train(net,train_loader,val_loader,Config().train_number_epochs,criterion,save_path,optimizer)"
      ],
      "execution_count": null,
      "outputs": [
        {
          "output_type": "stream",
          "text": [
            "Starting epoch 1\n",
            "Starting training... \n",
            "Starting validation... \n",
            "Model saved to ==> ./gdrive/MyDrive/Datasets/siameseWithVGG16_best_val_acc.pt\n",
            "Epoch [1/30],Train Loss: 0.2676, Valid Loss: 0.24648275\n",
            "Starting epoch 2\n",
            "Starting training... \n",
            "Starting validation... \n"
          ],
          "name": "stdout"
        }
      ]
    },
    {
      "cell_type": "code",
      "metadata": {
        "id": "BRgZ7PCJWICR"
      },
      "source": [
        "# train_loss_his,val_loss_his,mx_val_accuracy_train,validation_accu=train(net,train_loader,val_loader,Config().train_number_epochs,criterion,save_path,optimizer)"
      ],
      "execution_count": null,
      "outputs": []
    },
    {
      "cell_type": "code",
      "metadata": {
        "id": "J7elriGY3tj7"
      },
      "source": [
        "save_checkpoint(os.path.join(path_lfw_folder,'siameseWithVGG16_longest_trained.pt'), longest_trained_model, optimizer, mx_val_accuracy_train)"
      ],
      "execution_count": null,
      "outputs": []
    },
    {
      "cell_type": "code",
      "metadata": {
        "id": "F-4eemW3WgJt"
      },
      "source": [
        "# lr=    batch=   epoch=\n",
        "plt.ylabel('loss')\n",
        "plt.plot(train_loss_his, label='Train Loss')\n",
        "plt.plot(val_loss_his, label='Validation Loss')\n",
        "plt.legend(bbox_to_anchor=(1.05, 1.0), loc='upper left')\n",
        "plt.show()"
      ],
      "execution_count": null,
      "outputs": []
    },
    {
      "cell_type": "code",
      "metadata": {
        "id": "YcnRUOusWgMb"
      },
      "source": [
        "# lr=    batch=   epoch=\n",
        "plt.ylabel('validation accuracy')\n",
        "plt.plot(validation_accu, label='Validation accuracy')\n",
        "plt.legend(bbox_to_anchor=(1.05, 1.0), loc='upper left')\n",
        "plt.show()"
      ],
      "execution_count": null,
      "outputs": []
    },
    {
      "cell_type": "code",
      "metadata": {
        "id": "ZDNMgTkOWgR-"
      },
      "source": [
        "# def test(model,test_loader):\n",
        "#     with torch.no_grad():\n",
        "#       model.eval()\n",
        "#       correct=0\n",
        "#       cnt=0\n",
        "#       bth_no=0\n",
        "#       print(\"Strating ...\")\n",
        "#       for i,data in enumerate(test_loader,0):\n",
        "#         bth_no+=1\n",
        "#         print(\"Batch no: \",bth_no)\n",
        "        \n",
        "#         imgs1,imgs2,labels=data\n",
        "        \n",
        "#         imgs1=imgs1.to(device=device, dtype=torch.float)\n",
        "#         imgs2=imgs2.to(device=device, dtype=torch.float)\n",
        "#         labels=labels.to(device=device, dtype=torch.float)\n",
        "\n",
        "#         output1,output2=model(imgs1,imgs2)\n",
        "\n",
        "#         dist = F.pairwise_distance(output1, output2)     # dist will be a 1d array with each element representing dist for each pair  \n",
        "\n",
        "#         noImg,noCrt= calculate_accuracy(labels,dist)\n",
        "#         cnt+=noImg\n",
        "#         correct+=noCrt\n",
        "\n",
        "#     test_accuracy= correct/cnt\n",
        "#     print(\"Finished!!!\")\n",
        "\n",
        "#     return test_accuracy\n"
      ],
      "execution_count": null,
      "outputs": []
    },
    {
      "cell_type": "code",
      "metadata": {
        "id": "Cc_TABBf3-pE"
      },
      "source": [
        "def test(model,test_loader):\n",
        "    test_distances=[]\n",
        "    test_labels=[]\n",
        "\n",
        "    with torch.no_grad():\n",
        "      model.eval()\n",
        "      correct=0\n",
        "      cnt=0\n",
        "      for i,data in enumerate(test_loader,0):\n",
        "        \n",
        "        imgs1,imgs2,labels=data\n",
        "        \n",
        "        imgs1=imgs1.to(device=device, dtype=torch.float)\n",
        "        imgs2=imgs2.to(device=device, dtype=torch.float)\n",
        "        labels=labels.to(device=device, dtype=torch.float)\n",
        "\n",
        "        output1,output2=model(imgs1,imgs2)\n",
        "\n",
        "        dist = F.pairwise_distance(output1, output2)     # dist will be a 1d array with each element representing dist for each pair  \n",
        "\n",
        "        test_distances.extend(dist)\n",
        "        test_labels.extend(labels)\n",
        "\n",
        "    return test_distances, test_labels"
      ],
      "execution_count": null,
      "outputs": []
    },
    {
      "cell_type": "code",
      "metadata": {
        "id": "JCQiw33K4HaM"
      },
      "source": [
        "def generate_model_path(model_name):\n",
        "  \n",
        "  root_path_to_saved_models=path_lfw_folder\n",
        "  path_to_model_from_saved_model_dir=model_name\n",
        "  path_to_chosen_model= os.path.join(root_path_to_saved_models,path_to_model_from_saved_model_dir)  \n",
        "  \n",
        "  return path_to_chosen_model\n",
        "\n",
        "def generate_optm_model():\n",
        "  load_model= SiameseNetwork().cuda()\n",
        "  load_optimizer = optim.Adam([\n",
        "                {'params': load_model.model_vgg16.features[24:31].parameters()},                       \n",
        "                {'params': load_model.model_vgg16.classifier.parameters()}\n",
        "            ], lr=0.000005)                                              # set parameters and lr\n",
        "  return load_model,load_optimizer\n",
        "\n",
        "def generate_test_loader():\n",
        "  siamese_dataset_test = SiameseNetworkDataset(Config().testing_txt,Config().testing_dir,\n",
        "                                          transform=transforms.Compose([transforms.Resize(( 128,128 )),\n",
        "                                                                        transforms.ToTensor()\n",
        "                                                    ])\n",
        "                                          )\n",
        "  test_loader = DataLoader(siamese_dataset_test , shuffle=True, batch_size=1,  num_workers=2)\n",
        "\n",
        "  return test_loader\n",
        "\n",
        "def find_threshold(data_loader, thresholds, load_model):\n",
        "\n",
        "  accuracies=[]\n",
        "  print('Loading results...')\n",
        "  test_distances, test_labels= test(load_model,data_loader)\n",
        "  print('Finished loading results...')\n",
        "  for threshold in thresholds:\n",
        "    print(\"starting with threshold: \",threshold)\n",
        "    noImg,noCrt= calculate_accuracy(test_labels,test_distances,threshold)\n",
        "    accuracy= float(noCrt)/noImg\n",
        "    accuracies.append(accuracy)\n",
        "    print(\"finished with threshold: \",threshold)\n",
        "  return accuracies\n",
        "\n",
        "def cal_test_acc(data_loader, threshold, load_model):\n",
        "\n",
        "  print('Loading results...')\n",
        "  test_distances, test_labels= test(load_model,data_loader)\n",
        "  print('Finished loading results...')\n",
        "\n",
        "  noImg,noCrt= calculate_accuracy(test_labels,test_distances,threshold)\n",
        "  \n",
        "  return float(noCrt)/noImg\n",
        "\n",
        "def plot_x_y(label,x,y,graph_label):\n",
        "  plt.ylabel(label)\n",
        "\n",
        "  plt.plot(x , y , label=graph_label)\n",
        "\n",
        "  plt.legend(bbox_to_anchor=(1.05, 1.0), loc='upper left')\n",
        "\n",
        "  plt.show()\n",
        "\n",
        "def find_max_accuracies(thresholds, accuracies, TYPE):\n",
        "  mx_ac=-1\n",
        "  mx_ind=-1\n",
        "\n",
        "  for i in range(0,len(thresholds)):\n",
        "\n",
        "    if mx_ac< accuracies[i]:\n",
        "      mx_ac= accuracies[i]\n",
        "      mx_ind=i\n",
        "\n",
        "  print(\"Max \",TYPE,\" acc: \",mx_ac,\"           Threshold: \",thresholds[mx_ind])\n",
        "\n",
        "  return mx_ac, thresholds[mx_ind]\n",
        "\n",
        "def Load_saved_model(model_name):\n",
        "  \n",
        "  load_model, load_optimizer= generate_optm_model()\n",
        "\n",
        "  path_to_chosen_model= generate_model_path(model_name)\n",
        "\n",
        "  load_checkpoint(load_model,load_optimizer,path_to_chosen_model)\n",
        "\n",
        "  return load_model, load_optimizer\n"
      ],
      "execution_count": null,
      "outputs": []
    },
    {
      "cell_type": "code",
      "metadata": {
        "id": "AdIx0hAU4JBr"
      },
      "source": [
        "thresholds=[i for i in np.arange(0.0,2.0,0.01) ]"
      ],
      "execution_count": null,
      "outputs": []
    },
    {
      "cell_type": "code",
      "metadata": {
        "id": "Q1khkUgU4Kgk"
      },
      "source": [
        "load_model, load_optimizer= Load_saved_model('siameseWithVGG16_best_val_acc.pt')\n",
        "\n",
        "test_loader = generate_test_loader()"
      ],
      "execution_count": null,
      "outputs": []
    },
    {
      "cell_type": "code",
      "metadata": {
        "id": "rLs7kIHb4L0c"
      },
      "source": [
        "train_accuracies= find_threshold(train_loader , thresholds, load_model)\n",
        "mx_train_acc, train_threshold = find_max_accuracies(thresholds, train_accuracies, 'train' )"
      ],
      "execution_count": null,
      "outputs": []
    },
    {
      "cell_type": "code",
      "metadata": {
        "id": "qNrVKhED4Ntz"
      },
      "source": [
        "test_accuracy= cal_test_acc(test_loader,train_threshold, load_model)"
      ],
      "execution_count": null,
      "outputs": []
    },
    {
      "cell_type": "code",
      "metadata": {
        "id": "D1UlhWfE4P5W"
      },
      "source": [
        "print(\"Maximum train accuracy: \",mx_train_acc,\" at threshold: \",train_threshold)\n",
        "print(\"Test accuracy: \",test_accuracy,\" at threshold: \",train_threshold)\n",
        "\n",
        "plot_x_y('Accuracy',thresholds,train_accuracies,'Train accuracy')"
      ],
      "execution_count": null,
      "outputs": []
    },
    {
      "cell_type": "code",
      "metadata": {
        "id": "6nzbzq2QWgUz"
      },
      "source": [
        "# root_path_to_saved_models=path_lfw_folder\n",
        "# path_to_model_from_saved_model_dir='siameseWithVGG16.pt'\n",
        "# path_to_chosen_model= os.path.join(root_path_to_saved_models,path_to_model_from_saved_model_dir)  #################\n",
        "# # print(path_to_chosen_model )"
      ],
      "execution_count": null,
      "outputs": []
    },
    {
      "cell_type": "code",
      "metadata": {
        "id": "oJE_qZlKWgXL"
      },
      "source": [
        "# load_model= SiameseNetwork().cuda()\n",
        "# load_optimizer = optim.Adam([\n",
        "#                 {'params': load_model.model_vgg16.features[24:31].parameters()},                    \n",
        "#                 {'params': load_model.model_vgg16.classifier.parameters()}\n",
        "#             ], lr=0.000005)\n",
        "# mx_val_acc=load_checkpoint(load_model,load_optimizer,path_to_chosen_model)\n",
        "\n",
        "\n",
        "\n",
        "# siamese_dataset_test = SiameseNetworkDataset(Config().testing_txt,Config().testing_dir,\n",
        "#                                         transform=transforms.Compose([transforms.Resize(( 128,128 )),\n",
        "#                                                                       transforms.ToTensor()\n",
        "#                                                   ])\n",
        "#                                         )\n",
        "# test_loader = DataLoader(siamese_dataset_test , shuffle=True, batch_size=1,  num_workers=2)\n",
        "\n",
        "# train_accuracy= test(load_model,train_loader)\n",
        "# test_accuracy=test(load_model,test_loader)\n",
        "\n",
        "\n",
        "# print(\"Train accuracy is: \",100*train_accuracy)\n",
        "# print(\"Test accuracy is: \",100*test_accuracy)\n",
        "# print(\"Max val accuracy during training: \",100*mx_val_acc)"
      ],
      "execution_count": null,
      "outputs": []
    },
    {
      "cell_type": "code",
      "metadata": {
        "id": "C-WZIpoUWgbj"
      },
      "source": [
        "# print(\"Train accuracy is: \",100*train_accuracy)\n",
        "# print(\"Test accuracy is: \",100*test_accuracy)\n",
        "# print(\"Max val accuracy during training: \",100*mx_val_acc)"
      ],
      "execution_count": null,
      "outputs": []
    },
    {
      "cell_type": "code",
      "metadata": {
        "id": "hv-1TBBq4TyF"
      },
      "source": [
        ""
      ],
      "execution_count": null,
      "outputs": []
    },
    {
      "cell_type": "markdown",
      "metadata": {
        "id": "AfsQRg7N4T9L"
      },
      "source": [
        "Longest trained model"
      ]
    },
    {
      "cell_type": "code",
      "metadata": {
        "id": "tZlxr3Jw4Ui2"
      },
      "source": [
        "load_model, load_optimizer= Load_saved_model('siameseWithVGG16_longest_trained.pt')\n",
        "\n",
        "test_loader = generate_test_loader()"
      ],
      "execution_count": null,
      "outputs": []
    },
    {
      "cell_type": "code",
      "metadata": {
        "id": "8MMICG-N4W6c"
      },
      "source": [
        "train_accuracies= find_threshold(train_loader , thresholds, load_model)\n",
        "mx_train_acc, train_threshold = find_max_accuracies(thresholds, train_accuracies, 'train' )"
      ],
      "execution_count": null,
      "outputs": []
    },
    {
      "cell_type": "code",
      "metadata": {
        "id": "DeQ0zLVz4Yqs"
      },
      "source": [
        "test_accuracy= cal_test_acc(test_loader,train_threshold, load_model)"
      ],
      "execution_count": null,
      "outputs": []
    },
    {
      "cell_type": "code",
      "metadata": {
        "id": "5_PuVs374b2N"
      },
      "source": [
        "print(\"Maximum train accuracy: \",mx_train_acc,\" at threshold: \",train_threshold)\n",
        "print(\"Test accuracy: \",test_accuracy,\" at threshold: \",train_threshold)\n",
        "\n",
        "plot_x_y('Accuracy',thresholds,train_accuracies,'Train accuracy')"
      ],
      "execution_count": null,
      "outputs": []
    },
    {
      "cell_type": "code",
      "metadata": {
        "id": "reN8fdqeKpB6"
      },
      "source": [
        "print(\"Done\")"
      ],
      "execution_count": null,
      "outputs": []
    },
    {
      "cell_type": "code",
      "metadata": {
        "id": "KyJB90hGN9X8"
      },
      "source": [
        ""
      ],
      "execution_count": null,
      "outputs": []
    }
  ]
}